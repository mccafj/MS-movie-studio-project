{
 "cells": [
  {
   "cell_type": "markdown",
   "metadata": {},
   "source": [
    "# Imports"
   ]
  },
  {
   "cell_type": "code",
   "execution_count": null,
   "metadata": {},
   "outputs": [],
   "source": [
    "import pandas as pd\n",
    "import numpy as np\n",
    "import sqlite3\n",
    "import matplotlib.pyplot as plt\n",
    "import seaborn as sns"
   ]
  },
  {
   "cell_type": "code",
   "execution_count": null,
   "metadata": {},
   "outputs": [],
   "source": [
    "ls"
   ]
  },
  {
   "cell_type": "markdown",
   "metadata": {},
   "source": [
    "# IMDB Database"
   ]
  },
  {
   "cell_type": "code",
   "execution_count": null,
   "metadata": {},
   "outputs": [],
   "source": [
    "conn = sqlite3.connect('./zippedData/im.db/im.db')"
   ]
  },
  {
   "cell_type": "code",
   "execution_count": null,
   "metadata": {},
   "outputs": [],
   "source": [
    "res = conn.execute(\"SELECT name FROM sqlite_master WHERE type='table';\")\n",
    "for name in res.fetchall():\n",
    "    print(name[0])"
   ]
  },
  {
   "cell_type": "code",
   "execution_count": null,
   "metadata": {},
   "outputs": [],
   "source": [
    "pd.read_sql(\"\"\"\n",
    "SELECT\n",
    "    genres\n",
    "FROM \n",
    "    movie_basics\n",
    ";\"\"\", conn).describe()"
   ]
  },
  {
   "cell_type": "code",
   "execution_count": null,
   "metadata": {},
   "outputs": [],
   "source": [
    "pd.read_sql(\"\"\"\n",
    "SELECT\n",
    "    genres\n",
    "FROM \n",
    "    movie_basics\n",
    ";\"\"\", conn).value_counts()"
   ]
  },
  {
   "cell_type": "code",
   "execution_count": null,
   "metadata": {},
   "outputs": [],
   "source": [
    "pd.read_sql(\"\"\"\n",
    "SELECT\n",
    "    averagerating\n",
    "FROM \n",
    "    movie_ratings\n",
    ";\"\"\", conn).describe()"
   ]
  },
  {
   "cell_type": "markdown",
   "metadata": {},
   "source": [
    "# Box Office Mojo\n",
    "\n",
    "- Removed nulls for domestic_gross, converted to float.\n",
    "- Same for foreign_gross\n",
    "- Created new column ('total_gross') by adding domestic_gross and foreign_gross, concerted to int64\n",
    "- Sorted by total_gross\n",
    "- Turns out it's a lot of kids movies mixed in.  Decided to go with box office data from the Numbers as well to avoid confusion"
   ]
  },
  {
   "cell_type": "code",
   "execution_count": null,
   "metadata": {},
   "outputs": [],
   "source": [
    "df_bom = pd.read_csv('./zippedData/bom.movie_gross.csv.gz')\n",
    "df_bom.index"
   ]
  },
  {
   "cell_type": "code",
   "execution_count": null,
   "metadata": {},
   "outputs": [],
   "source": [
    "df_bom.head()"
   ]
  },
  {
   "cell_type": "code",
   "execution_count": null,
   "metadata": {
    "scrolled": false
   },
   "outputs": [],
   "source": [
    "df_bom['domestic_gross'].isna().sum()"
   ]
  },
  {
   "cell_type": "code",
   "execution_count": null,
   "metadata": {},
   "outputs": [],
   "source": [
    "type(df_bom['domestic_gross'][1])"
   ]
  },
  {
   "cell_type": "code",
   "execution_count": null,
   "metadata": {},
   "outputs": [],
   "source": [
    "df_bom['domestic_gross'] = df_bom['domestic_gross'].fillna(value='0')"
   ]
  },
  {
   "cell_type": "code",
   "execution_count": null,
   "metadata": {
    "scrolled": true
   },
   "outputs": [],
   "source": [
    "df_bom['domestic_gross'] = df_bom['domestic_gross'].astype('int64')\n",
    "df_bom.head()"
   ]
  },
  {
   "cell_type": "code",
   "execution_count": null,
   "metadata": {},
   "outputs": [],
   "source": [
    "df_bom['domestic_gross'].isna().sum()"
   ]
  },
  {
   "cell_type": "code",
   "execution_count": null,
   "metadata": {},
   "outputs": [],
   "source": [
    "type(df_bom['domestic_gross'][0])"
   ]
  },
  {
   "cell_type": "code",
   "execution_count": null,
   "metadata": {},
   "outputs": [],
   "source": [
    "df_bom['foreign_gross'].isna().sum()"
   ]
  },
  {
   "cell_type": "code",
   "execution_count": null,
   "metadata": {},
   "outputs": [],
   "source": [
    "df_bom['foreign_gross'] = df_bom['foreign_gross'].fillna(value='0')"
   ]
  },
  {
   "cell_type": "code",
   "execution_count": null,
   "metadata": {
    "scrolled": true
   },
   "outputs": [],
   "source": [
    "df_bom.isna().sum()"
   ]
  },
  {
   "cell_type": "code",
   "execution_count": null,
   "metadata": {},
   "outputs": [],
   "source": [
    "df_bom['foreign_gross'] = df_bom['foreign_gross'].str.replace(',','')\n",
    "df_bom.head()"
   ]
  },
  {
   "cell_type": "code",
   "execution_count": null,
   "metadata": {},
   "outputs": [],
   "source": [
    "df_bom['foreign_gross'] = df_bom['foreign_gross'].astype('float64')\n",
    "df_bom.head()"
   ]
  },
  {
   "cell_type": "code",
   "execution_count": null,
   "metadata": {},
   "outputs": [],
   "source": [
    "type(df_bom['foreign_gross'][0])"
   ]
  },
  {
   "cell_type": "code",
   "execution_count": null,
   "metadata": {
    "scrolled": true
   },
   "outputs": [],
   "source": [
    "df_bom['total_gross'] = df_bom['domestic_gross'] + df_bom['foreign_gross']\n",
    "df_bom.head()"
   ]
  },
  {
   "cell_type": "code",
   "execution_count": null,
   "metadata": {},
   "outputs": [],
   "source": [
    "type(df_bom['total_gross'][1])"
   ]
  },
  {
   "cell_type": "code",
   "execution_count": null,
   "metadata": {},
   "outputs": [],
   "source": [
    "df_bom['total_gross'] = df_bom['total_gross'].astype('int64')\n",
    "df_bom.head(11)"
   ]
  },
  {
   "cell_type": "code",
   "execution_count": null,
   "metadata": {},
   "outputs": [],
   "source": [
    "df_bom.index"
   ]
  },
  {
   "cell_type": "code",
   "execution_count": null,
   "metadata": {},
   "outputs": [],
   "source": [
    "df_bom.sort_values('total_gross', ascending=False)\n",
    "df_bom.head(11)"
   ]
  },
  {
   "cell_type": "markdown",
   "metadata": {},
   "source": [
    "# Rotten Tomatoes Movie Index\n",
    "\n",
    "Tried to associate genre and box office, but majority (>1200 out of 1500+) of box office were nulls"
   ]
  },
  {
   "cell_type": "code",
   "execution_count": null,
   "metadata": {},
   "outputs": [],
   "source": [
    "df_rt_movie = pd.read_csv('./zippedData/rt.movie_info.tsv.gz', delimiter=\"\\t\")\n",
    "df_rt_movie.index"
   ]
  },
  {
   "cell_type": "code",
   "execution_count": null,
   "metadata": {},
   "outputs": [],
   "source": [
    "df_rt_movie.head()"
   ]
  },
  {
   "cell_type": "code",
   "execution_count": null,
   "metadata": {},
   "outputs": [],
   "source": [
    "df_rt_movie.info()"
   ]
  },
  {
   "cell_type": "code",
   "execution_count": null,
   "metadata": {},
   "outputs": [],
   "source": [
    "df_rt_movie.isna().sum()"
   ]
  },
  {
   "cell_type": "code",
   "execution_count": null,
   "metadata": {},
   "outputs": [],
   "source": [
    "df_rt_movie_clean = df_rt_movie.dropna(subset=['box_office'])\n",
    "df_rt_movie_clean.head()"
   ]
  },
  {
   "cell_type": "code",
   "execution_count": null,
   "metadata": {},
   "outputs": [],
   "source": [
    "df_rt_movie_clean.info()"
   ]
  },
  {
   "cell_type": "code",
   "execution_count": null,
   "metadata": {
    "scrolled": true
   },
   "outputs": [],
   "source": [
    "df_rt_movie_clean['total_box_office'] = df_rt_movie_clean['box_office'].str.replace(',','')\n",
    "df_rt_movie_clean.head()"
   ]
  },
  {
   "cell_type": "code",
   "execution_count": null,
   "metadata": {},
   "outputs": [],
   "source": [
    "df_rt_movie_clean.info()"
   ]
  },
  {
   "cell_type": "markdown",
   "metadata": {},
   "source": [
    "# Rotten Tomatoes Reviews\n",
    "\n",
    "Avoided this database, preferring viewer ratings / user counts / 'popularity' in TMDB\n",
    "\n",
    "Contains: id, review, rating, fresh, critic, top_critic, publisher, date"
   ]
  },
  {
   "cell_type": "code",
   "execution_count": null,
   "metadata": {},
   "outputs": [],
   "source": [
    "df_rt_reviews = pd.read_csv('./zippedData/rt.reviews.tsv.gz', encoding='windows-1252', delimiter=\"\\t\")\n",
    "df_rt_reviews.index"
   ]
  },
  {
   "cell_type": "code",
   "execution_count": null,
   "metadata": {},
   "outputs": [],
   "source": [
    "df_rt_reviews.head()"
   ]
  },
  {
   "cell_type": "markdown",
   "metadata": {},
   "source": [
    "# The Movie Data Base\n",
    "\n",
    "- Able to sort by highest vote average, with conditional of movies with >10,000 vote counts and avg >7\n",
    "- Then associated that to genre_ids category via color-coding in plot\n",
    "- Found short list of what numbers in genre_ids translate too.  Did not investigate API for full list.  Started replacing genre ID numbers from that list, but decided it created too congested a dataframe\n",
    "- Started comparisons using TMDB's 'popularity' column (>40) and 'vote_count' (>1000) at the end"
   ]
  },
  {
   "cell_type": "code",
   "execution_count": null,
   "metadata": {},
   "outputs": [],
   "source": [
    "df_tmdb = pd.read_csv('./zippedData/tmdb.movies.csv.gz')\n",
    "df_tmdb.index"
   ]
  },
  {
   "cell_type": "code",
   "execution_count": null,
   "metadata": {},
   "outputs": [],
   "source": [
    "df_tmdb.head()"
   ]
  },
  {
   "cell_type": "code",
   "execution_count": null,
   "metadata": {},
   "outputs": [],
   "source": [
    "top_vote_avg = df_tmdb.sort_values('vote_average', ascending=False)\n",
    "top_vote_avg"
   ]
  },
  {
   "cell_type": "code",
   "execution_count": null,
   "metadata": {},
   "outputs": [],
   "source": [
    "type(top_vote_avg['vote_count'][0])"
   ]
  },
  {
   "cell_type": "code",
   "execution_count": null,
   "metadata": {},
   "outputs": [],
   "source": [
    "type(top_vote_avg['vote_average'][0])"
   ]
  },
  {
   "cell_type": "code",
   "execution_count": null,
   "metadata": {},
   "outputs": [],
   "source": [
    "top_votes = top_vote_avg.loc[(top_vote_avg['vote_count'] > 10000) & (top_vote_avg['vote_average'] > 7)]\n",
    "top_votes = top_votes.sort_values('vote_average', ascending=False)"
   ]
  },
  {
   "cell_type": "code",
   "execution_count": null,
   "metadata": {},
   "outputs": [],
   "source": [
    "top_votes = top_votes.drop_duplicates(subset='title')"
   ]
  },
  {
   "cell_type": "code",
   "execution_count": null,
   "metadata": {},
   "outputs": [],
   "source": [
    "top_votes.head()"
   ]
  },
  {
   "cell_type": "code",
   "execution_count": null,
   "metadata": {},
   "outputs": [],
   "source": [
    "top_20_votes = top_votes[:20]\n",
    "top_20_votes"
   ]
  },
  {
   "cell_type": "code",
   "execution_count": null,
   "metadata": {
    "scrolled": false
   },
   "outputs": [],
   "source": [
    "sns.set_theme(style='ticks')\n",
    "sns.catplot(x='vote_average',y='original_title',kind='bar',data=top_20_votes)\n",
    "figsize=(15,6)\n",
    "plt.show();"
   ]
  },
  {
   "cell_type": "code",
   "execution_count": null,
   "metadata": {
    "scrolled": true
   },
   "outputs": [],
   "source": [
    "# code for plot used on Action/Adventure slide\n",
    "\n",
    "ax = sns.barplot(data=top_20_votes, x='original_title', y='vote_average', \n",
    "                 palette = ['#25a6e0', '#25a6e0', '#25a6e0', 'black', 'black', '#25a6e0', 'black', 'black', 'black', 'black',\n",
    "                           'black', 'black', 'black', '#25a6e0', '#25a6e0', '#25a6e0', '#25a6e0', '#25a6e0', '#25a6e0', '#25a6e0'])\n",
    "\n",
    "sns.set(rc={'axes.facecolor':(0,0,0,0), 'figure.facecolor':(0,0,0,0)})\n",
    "ax.set_xticklabels(ax.get_xticklabels(), rotation=40, ha=\"right\", rotation_mode='anchor')\n",
    "ax.set_xlabel('Movie Titles')\n",
    "ax.set_ylabel('Avg Rating (>10K Counts)')\n",
    "ax.set_title('Highest Rated Movies from TMDB')\n",
    "\n",
    "plt.savefig('./zippedData/highest rated movies from TMDB action adv', bbox_inches='tight', dpi=300);"
   ]
  },
  {
   "cell_type": "code",
   "execution_count": null,
   "metadata": {},
   "outputs": [],
   "source": [
    "# code for plot used on drama slide\n",
    "\n",
    "ax = sns.barplot(data=top_20_votes, x='original_title', y='vote_average', palette = ['black', 'black', '#4fb974', '#4fb974', '#4fb974', 'black', '#4fb974', '#4fb974', '#4fb974', '#4fb974',\n",
    "                                                                                    '#4fb974', 'black', '#4fb974', 'black', 'black', '#4fb974', '#4fb974', 'black', 'black', '#4fb974'])\n",
    "\n",
    "sns.set(rc={'axes.facecolor':(0,0,0,0), 'figure.facecolor':(0,0,0,0)})\n",
    "ax.set_xticklabels(ax.get_xticklabels(), rotation=40, ha=\"right\", rotation_mode='anchor')\n",
    "ax.set_xlabel('Movie Titles')\n",
    "ax.set_ylabel('Avg Rating (>10K Counts)')\n",
    "ax.set_title('Highest Rated Movies from TMDB')\n",
    "\n",
    "plt.savefig('./zippedData/highest rated movies from TMDB drama', bbox_inches='tight', dpi=300);"
   ]
  },
  {
   "cell_type": "code",
   "execution_count": null,
   "metadata": {},
   "outputs": [],
   "source": [
    "# code for comedy plot\n",
    "\n",
    "ax = sns.barplot(data=top_20_votes, x='original_title', y='vote_average', palette = ['black', 'black', 'black', 'black', 'black', 'black', 'black', 'black', 'magenta', 'black',\n",
    "                                                                                    'magenta', 'magenta', 'magenta', 'black', 'magenta', 'black', 'black', 'black', 'black', 'black'])\n",
    "\n",
    "sns.set(rc={'axes.facecolor':(0,0,0,0), 'figure.facecolor':(0,0,0,0)})\n",
    "ax.set_xticklabels(ax.get_xticklabels(), rotation=40, ha=\"right\", rotation_mode='anchor')\n",
    "ax.set_xlabel('Movie Titles')\n",
    "ax.set_ylabel('Avg Rating (>10K Counts)')\n",
    "ax.set_title('Highest Rated Movies from TMDB')\n",
    "\n",
    "plt.savefig('./zippedData/highest rated movies from TMDB comedy', bbox_inches='tight', dpi=300);"
   ]
  },
  {
   "cell_type": "markdown",
   "metadata": {},
   "source": [
    "# TMDB genre codes sampling\n",
    "\n",
    "MOVIE\n",
    "- Action          28\n",
    "- Adventure       12\n",
    "- Animation       16\n",
    "- Comedy          35\n",
    "- Crime           80\n",
    "- Documentary     99\n",
    "- Drama           18\n",
    "- Family          10751\n",
    "- Fantasy         14\n",
    "- History         36\n",
    "- Horror          27\n",
    "- Music           10402\n",
    "- Mystery         9648\n",
    "- Romance         10749\n",
    "- Science Fiction 878\n",
    "- TV Movie        10770\n",
    "- Thriller        53\n",
    "- War             10752\n",
    "- Western         37"
   ]
  },
  {
   "cell_type": "code",
   "execution_count": null,
   "metadata": {},
   "outputs": [],
   "source": [
    "top_votes_adventure = top_votes['genre_ids'].str.replace('12', 'Adventure')\n",
    "top_votes_adv_drama = top_votes_adventure.str.replace('18', 'Drama')\n",
    "top_votes_adv_drama_act = top_votes_adv_drama.str.replace('28', 'Action')\n",
    "top_votes_adv_drama_act_com = top_votes_adv_drama_act.str.replace('35', 'Comedy')\n",
    "top_votes_adv_drama_act_com"
   ]
  },
  {
   "cell_type": "code",
   "execution_count": null,
   "metadata": {},
   "outputs": [],
   "source": [
    "top_votes['Selected Genres'] = top_votes_adv_drama_act_com\n",
    "top_votes.head(20)"
   ]
  },
  {
   "cell_type": "code",
   "execution_count": null,
   "metadata": {},
   "outputs": [],
   "source": [
    "most_popular = top_vote_avg.loc[(top_vote_avg['popularity'] > 40) & (top_vote_avg['vote_count'] > 1000)]\n",
    "most_popular = most_popular.sort_values('popularity', ascending=False)"
   ]
  },
  {
   "cell_type": "code",
   "execution_count": null,
   "metadata": {},
   "outputs": [],
   "source": [
    "most_popular_adventure = most_popular['genre_ids'].str.replace('12', 'Adventure')\n",
    "most_popular_adv_drama = most_popular_adventure.str.replace('18', 'Drama')\n",
    "most_popular_adv_drama_act = most_popular_adv_drama.str.replace('28', 'Action')\n",
    "most_popular_adv_drama_act_com = most_popular_adv_drama_act.str.replace('35', 'Comedy')\n",
    "most_popular['Selected Genres'] = most_popular_adv_drama_act_com"
   ]
  },
  {
   "cell_type": "code",
   "execution_count": null,
   "metadata": {},
   "outputs": [],
   "source": [
    "most_popular = most_popular.drop_duplicates(subset='title')"
   ]
  },
  {
   "cell_type": "code",
   "execution_count": null,
   "metadata": {},
   "outputs": [],
   "source": [
    "most_popular_twenty = most_popular[:20]\n",
    "most_popular_twenty"
   ]
  },
  {
   "cell_type": "code",
   "execution_count": null,
   "metadata": {},
   "outputs": [],
   "source": [
    "# code for TMDB 'popularity' stats - ALL in action/adventure genre\n",
    "ax = sns.barplot(data=most_popular_twenty, x='original_title', y='popularity', color='#25a6e0')\n",
    "\n",
    "sns.set(rc={'axes.facecolor':(0,0,0,0), 'figure.facecolor':(0,0,0,0)})\n",
    "ax.set_xticklabels(ax.get_xticklabels(), rotation=40, ha=\"right\", rotation_mode='anchor')\n",
    "ax.set_xlabel('Movie Titles')\n",
    "ax.set_ylabel('Popularity Rating on TMDB')\n",
    "ax.set_title('Most Popular Movie Titles from TMDB')\n",
    "plt.savefig('./zippedData/most popular movie titles from TMDB', bbox_inches='tight', dpi=300);"
   ]
  },
  {
   "cell_type": "markdown",
   "metadata": {},
   "source": [
    "# The Numbers database (more budget info)\n",
    "\n",
    "Juan cleaned worldwide_gross column and sorted it\n",
    "\n",
    "I repeated it for my own learning, and was able to work around a Python error specific to Windows, needing to designate 'int64' for changing data type.  "
   ]
  },
  {
   "cell_type": "code",
   "execution_count": null,
   "metadata": {},
   "outputs": [],
   "source": [
    "df_tn_budg = pd.read_csv('./zippedData/tn.movie_budgets.csv.gz')\n",
    "df_tn_budg.index"
   ]
  },
  {
   "cell_type": "code",
   "execution_count": null,
   "metadata": {
    "scrolled": true
   },
   "outputs": [],
   "source": [
    "df_tn_budg.head()"
   ]
  },
  {
   "cell_type": "code",
   "execution_count": null,
   "metadata": {},
   "outputs": [],
   "source": [
    "type(df_tn_budg['worldwide_gross'][1])"
   ]
  },
  {
   "cell_type": "code",
   "execution_count": null,
   "metadata": {},
   "outputs": [],
   "source": [
    "df_tn_budg['worldwide_gross'] = df_tn_budg['worldwide_gross'].str.replace(',','')\n",
    "df_tn_budg['worldwide_gross'] = df_tn_budg['worldwide_gross'].str.replace('$','')\n",
    "df_tn_budg['worldwide_gross']"
   ]
  },
  {
   "cell_type": "code",
   "execution_count": null,
   "metadata": {},
   "outputs": [],
   "source": [
    "df_tn_budg['worldwide_gross'].isna().sum()"
   ]
  },
  {
   "cell_type": "code",
   "execution_count": null,
   "metadata": {},
   "outputs": [],
   "source": [
    "df_tn_budg ['worldwide_gross'] = df_tn_budg['worldwide_gross'].astype('int64')\n",
    "df_tn_budg.head()"
   ]
  },
  {
   "cell_type": "code",
   "execution_count": null,
   "metadata": {},
   "outputs": [],
   "source": [
    "type(df_tn_budg['worldwide_gross'][1])"
   ]
  },
  {
   "cell_type": "code",
   "execution_count": null,
   "metadata": {},
   "outputs": [],
   "source": [
    "df_tn_budg.sort_values('worldwide_gross', ascending=False).head(11)"
   ]
  },
  {
   "cell_type": "markdown",
   "metadata": {},
   "source": [
    "# Video Game Movies\n",
    "\n",
    "Juan found a CSV filed from Kaggle on [film adaptations of video games](https://www.kaggle.com/datasets/bcruise/film-adaptations-of-video-games).  Double checked it to Wikipedia table as well.  Sorted by worldwide box office and created illustration for general understanding of box office info on video game films to date"
   ]
  },
  {
   "cell_type": "code",
   "execution_count": null,
   "metadata": {},
   "outputs": [],
   "source": [
    "df_vid_game = pd.read_csv('./zippedData/video_game_films.csv')\n",
    "df_vid_game.info"
   ]
  },
  {
   "cell_type": "code",
   "execution_count": null,
   "metadata": {
    "scrolled": false
   },
   "outputs": [],
   "source": [
    "df_vid_game.head()"
   ]
  },
  {
   "cell_type": "code",
   "execution_count": null,
   "metadata": {},
   "outputs": [],
   "source": [
    "vid_games_box_off = df_vid_game.sort_values('Worldwide box office', ascending=False)\n",
    "vid_games_box_off[:25]"
   ]
  },
  {
   "cell_type": "code",
   "execution_count": null,
   "metadata": {},
   "outputs": [],
   "source": [
    "vid_games_plt_data = vid_games_box_off[:20]\n",
    "vid_games_plt_data"
   ]
  },
  {
   "cell_type": "code",
   "execution_count": null,
   "metadata": {
    "scrolled": true
   },
   "outputs": [],
   "source": [
    "sns.set_theme(style='ticks')\n",
    "sns.catplot(x='Worldwide box office',y='Title',kind='bar',data=vid_games_plt_data)\n",
    "figsize=(15,6)\n",
    "plt.show();"
   ]
  },
  {
   "cell_type": "code",
   "execution_count": null,
   "metadata": {
    "scrolled": true
   },
   "outputs": [],
   "source": [
    "ax = sns.barplot(data=vid_games_plt_data, x='Title', y=vid_games_plt_data['Worldwide box office'] / 1000000)\n",
    "\n",
    "sns.set(rc={'axes.facecolor':(0,0,0,0), 'figure.facecolor':(0,0,0,0)})\n",
    "ax.set_xticklabels(ax.get_xticklabels(), rotation=40, ha=\"right\", rotation_mode='anchor')\n",
    "ax.set_xlabel('Movie Titles')\n",
    "ax.set_ylabel('Worldwide Box Office \\n ($ millions)')\n",
    "ax.set_title('Video Game Movies Worldwide Box Office')\n",
    "plt.savefig('./zippedData/video game movies worldwide box office', bbox_inches='tight', dpi=300);"
   ]
  },
  {
   "cell_type": "code",
   "execution_count": null,
   "metadata": {},
   "outputs": [],
   "source": [
    "pwd"
   ]
  },
  {
   "cell_type": "code",
   "execution_count": null,
   "metadata": {},
   "outputs": [],
   "source": [
    "ls"
   ]
  },
  {
   "cell_type": "code",
   "execution_count": null,
   "metadata": {},
   "outputs": [],
   "source": [
    "cd zippedData/"
   ]
  },
  {
   "cell_type": "code",
   "execution_count": null,
   "metadata": {},
   "outputs": [],
   "source": [
    "ls"
   ]
  },
  {
   "cell_type": "code",
   "execution_count": null,
   "metadata": {},
   "outputs": [],
   "source": [
    "cd .."
   ]
  },
  {
   "cell_type": "code",
   "execution_count": null,
   "metadata": {},
   "outputs": [],
   "source": []
  }
 ],
 "metadata": {
  "kernelspec": {
   "display_name": "Python (learn-env)",
   "language": "python",
   "name": "learn-env"
  },
  "language_info": {
   "codemirror_mode": {
    "name": "ipython",
    "version": 3
   },
   "file_extension": ".py",
   "mimetype": "text/x-python",
   "name": "python",
   "nbconvert_exporter": "python",
   "pygments_lexer": "ipython3",
   "version": "3.8.5"
  }
 },
 "nbformat": 4,
 "nbformat_minor": 4
}
