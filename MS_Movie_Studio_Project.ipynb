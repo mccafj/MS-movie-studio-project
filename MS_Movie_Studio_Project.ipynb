{
 "cells": [
  {
   "cell_type": "markdown",
   "metadata": {},
   "source": [
    "# Microsoft Movie Studio Proposal\n",
    "\n",
    "\n",
    "**Authors:** Juan Acosta, Holly Gultiano, and Jon McCaffrey\n",
    "***"
   ]
  },
  {
   "cell_type": "markdown",
   "metadata": {},
   "source": [
    "## Overview\n",
    "\n",
    "Our project presents current trends in the film market. Using exploratory and expository data analysis techniques in Python, we are able to give Microsoft Movie Studio recommendations on the most popular and profitable genres of film, and how Microsoft could use its own intellectual property to expand into the growing market of video game inspired movies.\n"
   ]
  },
  {
   "cell_type": "markdown",
   "metadata": {},
   "source": [
    "## Business Challenge\n",
    "\n",
    "Microsoft is starting a movie studio (in this hypothetical example) and are looking to make significant impact as soon as possible in this sector. Our group's aim is to give actionable direction for them to go with this project, driven by real world data from the film industry. These included such data as viewer statitics and revenue, since they are the strongest indicators of success in the entertainment industry."
   ]
  },
  {
   "cell_type": "markdown",
   "metadata": {},
   "source": [
    "## Data Understanding\n",
    "\n",
    "Our sources of data included IMDB, Box Office Mojo, The Movie Database, The-Numbers Movie Budgets, and Netflix. The variables we found to be most useful are box office revenue, genre IDs, user ratings, total viewer counts, and hours watched for streaming content. For numeric variables, we use summed totals and statistical measures such as averages, and categorical data was cleaned and organized to make it smoothly operable with the numerical data."
   ]
  },
  {
   "cell_type": "code",
   "execution_count": 99,
   "metadata": {},
   "outputs": [],
   "source": [
    "# Import standard packages\n",
    "import pandas as pd\n",
    "import numpy as np\n",
    "import matplotlib.pyplot as plt\n",
    "import seaborn as sns\n",
    "\n",
    "%matplotlib inline"
   ]
  },
  {
   "cell_type": "markdown",
   "metadata": {},
   "source": [
    "### TMDB Dataset"
   ]
  },
  {
   "cell_type": "code",
   "execution_count": 100,
   "metadata": {
    "scrolled": true
   },
   "outputs": [
    {
     "name": "stdout",
     "output_type": "stream",
     "text": [
      "<class 'pandas.core.frame.DataFrame'>\n",
      "RangeIndex: 26517 entries, 0 to 26516\n",
      "Data columns (total 10 columns):\n",
      " #   Column             Non-Null Count  Dtype  \n",
      "---  ------             --------------  -----  \n",
      " 0   Unnamed: 0         26517 non-null  int64  \n",
      " 1   genre_ids          26517 non-null  object \n",
      " 2   id                 26517 non-null  int64  \n",
      " 3   original_language  26517 non-null  object \n",
      " 4   original_title     26517 non-null  object \n",
      " 5   popularity         26517 non-null  float64\n",
      " 6   release_date       26517 non-null  object \n",
      " 7   title              26517 non-null  object \n",
      " 8   vote_average       26517 non-null  float64\n",
      " 9   vote_count         26517 non-null  int64  \n",
      "dtypes: float64(2), int64(3), object(5)\n",
      "memory usage: 2.0+ MB\n"
     ]
    }
   ],
   "source": [
    "df_tmdb = pd.read_csv('./zippedData/tmdb.movies.csv.gz')\n",
    "df_tmdb.info()"
   ]
  },
  {
   "cell_type": "markdown",
   "metadata": {},
   "source": [
    "### Box Office Mojo Dataset"
   ]
  },
  {
   "cell_type": "code",
   "execution_count": 101,
   "metadata": {
    "scrolled": true
   },
   "outputs": [
    {
     "name": "stdout",
     "output_type": "stream",
     "text": [
      "<class 'pandas.core.frame.DataFrame'>\n",
      "RangeIndex: 3387 entries, 0 to 3386\n",
      "Data columns (total 5 columns):\n",
      " #   Column          Non-Null Count  Dtype  \n",
      "---  ------          --------------  -----  \n",
      " 0   title           3387 non-null   object \n",
      " 1   studio          3382 non-null   object \n",
      " 2   domestic_gross  3359 non-null   float64\n",
      " 3   foreign_gross   2037 non-null   object \n",
      " 4   year            3387 non-null   int64  \n",
      "dtypes: float64(1), int64(1), object(3)\n",
      "memory usage: 132.4+ KB\n"
     ]
    }
   ],
   "source": [
    "pd.read_csv('./zippedData/bom.movie_gross.csv.gz').info()"
   ]
  },
  {
   "cell_type": "markdown",
   "metadata": {},
   "source": [
    "### The-Numbers Movie Budgets Dataset"
   ]
  },
  {
   "cell_type": "code",
   "execution_count": 102,
   "metadata": {},
   "outputs": [
    {
     "name": "stdout",
     "output_type": "stream",
     "text": [
      "<class 'pandas.core.frame.DataFrame'>\n",
      "RangeIndex: 5782 entries, 0 to 5781\n",
      "Data columns (total 6 columns):\n",
      " #   Column             Non-Null Count  Dtype \n",
      "---  ------             --------------  ----- \n",
      " 0   id                 5782 non-null   int64 \n",
      " 1   release_date       5782 non-null   object\n",
      " 2   movie              5782 non-null   object\n",
      " 3   production_budget  5782 non-null   object\n",
      " 4   domestic_gross     5782 non-null   object\n",
      " 5   worldwide_gross    5782 non-null   object\n",
      "dtypes: int64(1), object(5)\n",
      "memory usage: 271.2+ KB\n"
     ]
    }
   ],
   "source": [
    "pd.read_csv('./zippedData/tn.movie_budgets.csv.gz').info()"
   ]
  },
  {
   "cell_type": "markdown",
   "metadata": {},
   "source": [
    "### Netflix Dataset\n",
    "\n",
    "[Top viewed Netflix content globally](https://top10.netflix.com/data/all-weeks-global.tsv)"
   ]
  },
  {
   "cell_type": "code",
   "execution_count": 103,
   "metadata": {
    "scrolled": true
   },
   "outputs": [
    {
     "name": "stdout",
     "output_type": "stream",
     "text": [
      "<class 'pandas.core.frame.DataFrame'>\n",
      "RangeIndex: 2600 entries, 0 to 2599\n",
      "Data columns (total 7 columns):\n",
      " #   Column                      Non-Null Count  Dtype \n",
      "---  ------                      --------------  ----- \n",
      " 0   week                        2600 non-null   object\n",
      " 1   category                    2600 non-null   object\n",
      " 2   weekly_rank                 2600 non-null   int64 \n",
      " 3   show_title                  2600 non-null   object\n",
      " 4   season_title                1267 non-null   object\n",
      " 5   weekly_hours_viewed         2600 non-null   int64 \n",
      " 6   cumulative_weeks_in_top_10  2600 non-null   int64 \n",
      "dtypes: int64(3), object(4)\n",
      "memory usage: 142.3+ KB\n"
     ]
    }
   ],
   "source": [
    "pd.read_csv('./zippedData/all-weeks-global.tsv', delimiter='\\t').info()"
   ]
  },
  {
   "cell_type": "markdown",
   "metadata": {},
   "source": [
    "### Kaggle Video game Dataset\n",
    "\n",
    "[video_game_films.csv at Kaggle.com](https://www.kaggle.com/datasets/bcruise/film-adaptations-of-video-games)"
   ]
  },
  {
   "cell_type": "code",
   "execution_count": 104,
   "metadata": {},
   "outputs": [
    {
     "name": "stdout",
     "output_type": "stream",
     "text": [
      "<class 'pandas.core.frame.DataFrame'>\n",
      "RangeIndex: 42 entries, 0 to 41\n",
      "Data columns (total 7 columns):\n",
      " #   Column                   Non-Null Count  Dtype  \n",
      "---  ------                   --------------  -----  \n",
      " 0   Title                    42 non-null     object \n",
      " 1   Release date             42 non-null     object \n",
      " 2   Worldwide box office     42 non-null     float64\n",
      " 3   Rotten Tomatoes          40 non-null     float64\n",
      " 4   Metacritic               38 non-null     float64\n",
      " 5   Distributor              42 non-null     object \n",
      " 6   Original game publisher  42 non-null     object \n",
      "dtypes: float64(3), object(4)\n",
      "memory usage: 2.4+ KB\n"
     ]
    }
   ],
   "source": [
    "pd.read_csv('./zippedData/video_game_films.csv').info()"
   ]
  },
  {
   "cell_type": "markdown",
   "metadata": {},
   "source": [
    "## Data Preparation\n"
   ]
  },
  {
   "cell_type": "markdown",
   "metadata": {},
   "source": [
    "### The Movie Data Base\n",
    "- Able to sort by highest vote average, with conditional of movies with >10,000 vote counts\n",
    "- Then connected that to genre_ids category.\n",
    "- Found short list of what numbers in genre_ids translate too. Did not investigate API for full list\n",
    "- Started comparisons using 'popularity' and 'vote_count' at the end"
   ]
  },
  {
   "cell_type": "code",
   "execution_count": 105,
   "metadata": {},
   "outputs": [
    {
     "data": {
      "text/html": [
       "<div>\n",
       "<style scoped>\n",
       "    .dataframe tbody tr th:only-of-type {\n",
       "        vertical-align: middle;\n",
       "    }\n",
       "\n",
       "    .dataframe tbody tr th {\n",
       "        vertical-align: top;\n",
       "    }\n",
       "\n",
       "    .dataframe thead th {\n",
       "        text-align: right;\n",
       "    }\n",
       "</style>\n",
       "<table border=\"1\" class=\"dataframe\">\n",
       "  <thead>\n",
       "    <tr style=\"text-align: right;\">\n",
       "      <th></th>\n",
       "      <th>Unnamed: 0</th>\n",
       "      <th>genre_ids</th>\n",
       "      <th>id</th>\n",
       "      <th>original_language</th>\n",
       "      <th>original_title</th>\n",
       "      <th>popularity</th>\n",
       "      <th>release_date</th>\n",
       "      <th>title</th>\n",
       "      <th>vote_average</th>\n",
       "      <th>vote_count</th>\n",
       "    </tr>\n",
       "  </thead>\n",
       "  <tbody>\n",
       "    <tr>\n",
       "      <th>0</th>\n",
       "      <td>0</td>\n",
       "      <td>[12, 14, 10751]</td>\n",
       "      <td>12444</td>\n",
       "      <td>en</td>\n",
       "      <td>Harry Potter and the Deathly Hallows: Part 1</td>\n",
       "      <td>33.533</td>\n",
       "      <td>2010-11-19</td>\n",
       "      <td>Harry Potter and the Deathly Hallows: Part 1</td>\n",
       "      <td>7.7</td>\n",
       "      <td>10788</td>\n",
       "    </tr>\n",
       "    <tr>\n",
       "      <th>1</th>\n",
       "      <td>1</td>\n",
       "      <td>[14, 12, 16, 10751]</td>\n",
       "      <td>10191</td>\n",
       "      <td>en</td>\n",
       "      <td>How to Train Your Dragon</td>\n",
       "      <td>28.734</td>\n",
       "      <td>2010-03-26</td>\n",
       "      <td>How to Train Your Dragon</td>\n",
       "      <td>7.7</td>\n",
       "      <td>7610</td>\n",
       "    </tr>\n",
       "    <tr>\n",
       "      <th>2</th>\n",
       "      <td>2</td>\n",
       "      <td>[12, 28, 878]</td>\n",
       "      <td>10138</td>\n",
       "      <td>en</td>\n",
       "      <td>Iron Man 2</td>\n",
       "      <td>28.515</td>\n",
       "      <td>2010-05-07</td>\n",
       "      <td>Iron Man 2</td>\n",
       "      <td>6.8</td>\n",
       "      <td>12368</td>\n",
       "    </tr>\n",
       "    <tr>\n",
       "      <th>3</th>\n",
       "      <td>3</td>\n",
       "      <td>[16, 35, 10751]</td>\n",
       "      <td>862</td>\n",
       "      <td>en</td>\n",
       "      <td>Toy Story</td>\n",
       "      <td>28.005</td>\n",
       "      <td>1995-11-22</td>\n",
       "      <td>Toy Story</td>\n",
       "      <td>7.9</td>\n",
       "      <td>10174</td>\n",
       "    </tr>\n",
       "    <tr>\n",
       "      <th>4</th>\n",
       "      <td>4</td>\n",
       "      <td>[28, 878, 12]</td>\n",
       "      <td>27205</td>\n",
       "      <td>en</td>\n",
       "      <td>Inception</td>\n",
       "      <td>27.920</td>\n",
       "      <td>2010-07-16</td>\n",
       "      <td>Inception</td>\n",
       "      <td>8.3</td>\n",
       "      <td>22186</td>\n",
       "    </tr>\n",
       "  </tbody>\n",
       "</table>\n",
       "</div>"
      ],
      "text/plain": [
       "   Unnamed: 0            genre_ids     id original_language  \\\n",
       "0           0      [12, 14, 10751]  12444                en   \n",
       "1           1  [14, 12, 16, 10751]  10191                en   \n",
       "2           2        [12, 28, 878]  10138                en   \n",
       "3           3      [16, 35, 10751]    862                en   \n",
       "4           4        [28, 878, 12]  27205                en   \n",
       "\n",
       "                                 original_title  popularity release_date  \\\n",
       "0  Harry Potter and the Deathly Hallows: Part 1      33.533   2010-11-19   \n",
       "1                      How to Train Your Dragon      28.734   2010-03-26   \n",
       "2                                    Iron Man 2      28.515   2010-05-07   \n",
       "3                                     Toy Story      28.005   1995-11-22   \n",
       "4                                     Inception      27.920   2010-07-16   \n",
       "\n",
       "                                          title  vote_average  vote_count  \n",
       "0  Harry Potter and the Deathly Hallows: Part 1           7.7       10788  \n",
       "1                      How to Train Your Dragon           7.7        7610  \n",
       "2                                    Iron Man 2           6.8       12368  \n",
       "3                                     Toy Story           7.9       10174  \n",
       "4                                     Inception           8.3       22186  "
      ]
     },
     "execution_count": 105,
     "metadata": {},
     "output_type": "execute_result"
    }
   ],
   "source": [
    "df_tmdb.head()"
   ]
  },
  {
   "cell_type": "markdown",
   "metadata": {},
   "source": [
    "Sorting the TMDB table by 'Vote Average'"
   ]
  },
  {
   "cell_type": "code",
   "execution_count": 106,
   "metadata": {},
   "outputs": [
    {
     "data": {
      "text/html": [
       "<div>\n",
       "<style scoped>\n",
       "    .dataframe tbody tr th:only-of-type {\n",
       "        vertical-align: middle;\n",
       "    }\n",
       "\n",
       "    .dataframe tbody tr th {\n",
       "        vertical-align: top;\n",
       "    }\n",
       "\n",
       "    .dataframe thead th {\n",
       "        text-align: right;\n",
       "    }\n",
       "</style>\n",
       "<table border=\"1\" class=\"dataframe\">\n",
       "  <thead>\n",
       "    <tr style=\"text-align: right;\">\n",
       "      <th></th>\n",
       "      <th>Unnamed: 0</th>\n",
       "      <th>genre_ids</th>\n",
       "      <th>id</th>\n",
       "      <th>original_language</th>\n",
       "      <th>original_title</th>\n",
       "      <th>popularity</th>\n",
       "      <th>release_date</th>\n",
       "      <th>title</th>\n",
       "      <th>vote_average</th>\n",
       "      <th>vote_count</th>\n",
       "    </tr>\n",
       "  </thead>\n",
       "  <tbody>\n",
       "    <tr>\n",
       "      <th>13258</th>\n",
       "      <td>13258</td>\n",
       "      <td>[99]</td>\n",
       "      <td>403294</td>\n",
       "      <td>en</td>\n",
       "      <td>9/11: Simulations</td>\n",
       "      <td>0.600</td>\n",
       "      <td>2014-07-04</td>\n",
       "      <td>9/11: Simulations</td>\n",
       "      <td>10.0</td>\n",
       "      <td>1</td>\n",
       "    </tr>\n",
       "    <tr>\n",
       "      <th>22787</th>\n",
       "      <td>22787</td>\n",
       "      <td>[27, 35]</td>\n",
       "      <td>444170</td>\n",
       "      <td>en</td>\n",
       "      <td>Lasagna Cat - Telephone Sex Survey Results</td>\n",
       "      <td>0.722</td>\n",
       "      <td>2017-02-23</td>\n",
       "      <td>Lasagna Cat - Telephone Sex Survey Results</td>\n",
       "      <td>10.0</td>\n",
       "      <td>1</td>\n",
       "    </tr>\n",
       "    <tr>\n",
       "      <th>22592</th>\n",
       "      <td>22592</td>\n",
       "      <td>[99]</td>\n",
       "      <td>488357</td>\n",
       "      <td>en</td>\n",
       "      <td>MOTO 9: The Movie</td>\n",
       "      <td>0.900</td>\n",
       "      <td>2017-11-21</td>\n",
       "      <td>MOTO 9: The Movie</td>\n",
       "      <td>10.0</td>\n",
       "      <td>1</td>\n",
       "    </tr>\n",
       "    <tr>\n",
       "      <th>22607</th>\n",
       "      <td>22607</td>\n",
       "      <td>[]</td>\n",
       "      <td>437448</td>\n",
       "      <td>en</td>\n",
       "      <td>The Letter Carrier</td>\n",
       "      <td>0.895</td>\n",
       "      <td>2017-01-27</td>\n",
       "      <td>The Letter Carrier</td>\n",
       "      <td>10.0</td>\n",
       "      <td>1</td>\n",
       "    </tr>\n",
       "    <tr>\n",
       "      <th>22610</th>\n",
       "      <td>22610</td>\n",
       "      <td>[9648, 37, 18, 10402]</td>\n",
       "      <td>463601</td>\n",
       "      <td>en</td>\n",
       "      <td>Hope This Goes Over Well/Living in an Empty World</td>\n",
       "      <td>0.894</td>\n",
       "      <td>2017-06-26</td>\n",
       "      <td>Hope This Goes Over Well/Living in an Empty World</td>\n",
       "      <td>10.0</td>\n",
       "      <td>1</td>\n",
       "    </tr>\n",
       "    <tr>\n",
       "      <th>...</th>\n",
       "      <td>...</td>\n",
       "      <td>...</td>\n",
       "      <td>...</td>\n",
       "      <td>...</td>\n",
       "      <td>...</td>\n",
       "      <td>...</td>\n",
       "      <td>...</td>\n",
       "      <td>...</td>\n",
       "      <td>...</td>\n",
       "      <td>...</td>\n",
       "    </tr>\n",
       "    <tr>\n",
       "      <th>11018</th>\n",
       "      <td>11018</td>\n",
       "      <td>[]</td>\n",
       "      <td>124727</td>\n",
       "      <td>en</td>\n",
       "      <td>Darkchylde</td>\n",
       "      <td>0.600</td>\n",
       "      <td>2013-08-09</td>\n",
       "      <td>Darkchylde</td>\n",
       "      <td>0.0</td>\n",
       "      <td>1</td>\n",
       "    </tr>\n",
       "    <tr>\n",
       "      <th>14168</th>\n",
       "      <td>14168</td>\n",
       "      <td>[]</td>\n",
       "      <td>167531</td>\n",
       "      <td>en</td>\n",
       "      <td>Summer Snow</td>\n",
       "      <td>0.600</td>\n",
       "      <td>2014-07-25</td>\n",
       "      <td>Summer Snow</td>\n",
       "      <td>0.0</td>\n",
       "      <td>1</td>\n",
       "    </tr>\n",
       "    <tr>\n",
       "      <th>14167</th>\n",
       "      <td>14167</td>\n",
       "      <td>[99, 10402]</td>\n",
       "      <td>221918</td>\n",
       "      <td>en</td>\n",
       "      <td>Butch Walker:  Out of Focus</td>\n",
       "      <td>0.600</td>\n",
       "      <td>2014-08-05</td>\n",
       "      <td>Butch Walker:  Out of Focus</td>\n",
       "      <td>0.0</td>\n",
       "      <td>1</td>\n",
       "    </tr>\n",
       "    <tr>\n",
       "      <th>20601</th>\n",
       "      <td>20601</td>\n",
       "      <td>[18, 35]</td>\n",
       "      <td>448105</td>\n",
       "      <td>en</td>\n",
       "      <td>The Angry Man</td>\n",
       "      <td>0.600</td>\n",
       "      <td>2017-04-08</td>\n",
       "      <td>The Angry Man</td>\n",
       "      <td>0.0</td>\n",
       "      <td>1</td>\n",
       "    </tr>\n",
       "    <tr>\n",
       "      <th>26516</th>\n",
       "      <td>26516</td>\n",
       "      <td>[53, 27]</td>\n",
       "      <td>309885</td>\n",
       "      <td>en</td>\n",
       "      <td>The Church</td>\n",
       "      <td>0.600</td>\n",
       "      <td>2018-10-05</td>\n",
       "      <td>The Church</td>\n",
       "      <td>0.0</td>\n",
       "      <td>1</td>\n",
       "    </tr>\n",
       "  </tbody>\n",
       "</table>\n",
       "<p>26517 rows × 10 columns</p>\n",
       "</div>"
      ],
      "text/plain": [
       "       Unnamed: 0              genre_ids      id original_language  \\\n",
       "13258       13258                   [99]  403294                en   \n",
       "22787       22787               [27, 35]  444170                en   \n",
       "22592       22592                   [99]  488357                en   \n",
       "22607       22607                     []  437448                en   \n",
       "22610       22610  [9648, 37, 18, 10402]  463601                en   \n",
       "...           ...                    ...     ...               ...   \n",
       "11018       11018                     []  124727                en   \n",
       "14168       14168                     []  167531                en   \n",
       "14167       14167            [99, 10402]  221918                en   \n",
       "20601       20601               [18, 35]  448105                en   \n",
       "26516       26516               [53, 27]  309885                en   \n",
       "\n",
       "                                          original_title  popularity  \\\n",
       "13258                                  9/11: Simulations       0.600   \n",
       "22787         Lasagna Cat - Telephone Sex Survey Results       0.722   \n",
       "22592                                  MOTO 9: The Movie       0.900   \n",
       "22607                                 The Letter Carrier       0.895   \n",
       "22610  Hope This Goes Over Well/Living in an Empty World       0.894   \n",
       "...                                                  ...         ...   \n",
       "11018                                         Darkchylde       0.600   \n",
       "14168                                        Summer Snow       0.600   \n",
       "14167                        Butch Walker:  Out of Focus       0.600   \n",
       "20601                                      The Angry Man       0.600   \n",
       "26516                                         The Church       0.600   \n",
       "\n",
       "      release_date                                              title  \\\n",
       "13258   2014-07-04                                  9/11: Simulations   \n",
       "22787   2017-02-23         Lasagna Cat - Telephone Sex Survey Results   \n",
       "22592   2017-11-21                                  MOTO 9: The Movie   \n",
       "22607   2017-01-27                                 The Letter Carrier   \n",
       "22610   2017-06-26  Hope This Goes Over Well/Living in an Empty World   \n",
       "...            ...                                                ...   \n",
       "11018   2013-08-09                                         Darkchylde   \n",
       "14168   2014-07-25                                        Summer Snow   \n",
       "14167   2014-08-05                        Butch Walker:  Out of Focus   \n",
       "20601   2017-04-08                                      The Angry Man   \n",
       "26516   2018-10-05                                         The Church   \n",
       "\n",
       "       vote_average  vote_count  \n",
       "13258          10.0           1  \n",
       "22787          10.0           1  \n",
       "22592          10.0           1  \n",
       "22607          10.0           1  \n",
       "22610          10.0           1  \n",
       "...             ...         ...  \n",
       "11018           0.0           1  \n",
       "14168           0.0           1  \n",
       "14167           0.0           1  \n",
       "20601           0.0           1  \n",
       "26516           0.0           1  \n",
       "\n",
       "[26517 rows x 10 columns]"
      ]
     },
     "execution_count": 106,
     "metadata": {},
     "output_type": "execute_result"
    }
   ],
   "source": [
    "top_vote_avg = df_tmdb.sort_values('vote_average', ascending=False)\n",
    "top_vote_avg"
   ]
  },
  {
   "cell_type": "markdown",
   "metadata": {},
   "source": [
    "Sorting by a vote count greater than 10,000 and a vote average greater than 7. Reason for doing that is to find the most widely-seen movies with the highest ratings."
   ]
  },
  {
   "cell_type": "code",
   "execution_count": 107,
   "metadata": {},
   "outputs": [],
   "source": [
    "top_votes = top_vote_avg.loc[(top_vote_avg['vote_count'] > 10000) & (top_vote_avg['vote_average'] > 7)]\n",
    "top_votes = top_votes.sort_values('vote_average', ascending=False)"
   ]
  },
  {
   "cell_type": "code",
   "execution_count": 108,
   "metadata": {},
   "outputs": [],
   "source": [
    "top_votes = top_votes.drop_duplicates(subset='title')"
   ]
  },
  {
   "cell_type": "code",
   "execution_count": 109,
   "metadata": {},
   "outputs": [
    {
     "data": {
      "text/html": [
       "<div>\n",
       "<style scoped>\n",
       "    .dataframe tbody tr th:only-of-type {\n",
       "        vertical-align: middle;\n",
       "    }\n",
       "\n",
       "    .dataframe tbody tr th {\n",
       "        vertical-align: top;\n",
       "    }\n",
       "\n",
       "    .dataframe thead th {\n",
       "        text-align: right;\n",
       "    }\n",
       "</style>\n",
       "<table border=\"1\" class=\"dataframe\">\n",
       "  <thead>\n",
       "    <tr style=\"text-align: right;\">\n",
       "      <th></th>\n",
       "      <th>Unnamed: 0</th>\n",
       "      <th>genre_ids</th>\n",
       "      <th>id</th>\n",
       "      <th>original_language</th>\n",
       "      <th>original_title</th>\n",
       "      <th>popularity</th>\n",
       "      <th>release_date</th>\n",
       "      <th>title</th>\n",
       "      <th>vote_average</th>\n",
       "      <th>vote_count</th>\n",
       "    </tr>\n",
       "  </thead>\n",
       "  <tbody>\n",
       "    <tr>\n",
       "      <th>23811</th>\n",
       "      <td>23811</td>\n",
       "      <td>[12, 28, 14]</td>\n",
       "      <td>299536</td>\n",
       "      <td>en</td>\n",
       "      <td>Avengers: Infinity War</td>\n",
       "      <td>80.773</td>\n",
       "      <td>2018-04-27</td>\n",
       "      <td>Avengers: Infinity War</td>\n",
       "      <td>8.3</td>\n",
       "      <td>13948</td>\n",
       "    </tr>\n",
       "    <tr>\n",
       "      <th>4</th>\n",
       "      <td>4</td>\n",
       "      <td>[28, 878, 12]</td>\n",
       "      <td>27205</td>\n",
       "      <td>en</td>\n",
       "      <td>Inception</td>\n",
       "      <td>27.920</td>\n",
       "      <td>2010-07-16</td>\n",
       "      <td>Inception</td>\n",
       "      <td>8.3</td>\n",
       "      <td>22186</td>\n",
       "    </tr>\n",
       "    <tr>\n",
       "      <th>11032</th>\n",
       "      <td>11032</td>\n",
       "      <td>[12, 18, 878]</td>\n",
       "      <td>157336</td>\n",
       "      <td>en</td>\n",
       "      <td>Interstellar</td>\n",
       "      <td>28.440</td>\n",
       "      <td>2014-11-05</td>\n",
       "      <td>Interstellar</td>\n",
       "      <td>8.2</td>\n",
       "      <td>18597</td>\n",
       "    </tr>\n",
       "    <tr>\n",
       "      <th>2472</th>\n",
       "      <td>2472</td>\n",
       "      <td>[10751, 16, 18]</td>\n",
       "      <td>8587</td>\n",
       "      <td>en</td>\n",
       "      <td>The Lion King</td>\n",
       "      <td>28.583</td>\n",
       "      <td>1994-06-23</td>\n",
       "      <td>The Lion King</td>\n",
       "      <td>8.2</td>\n",
       "      <td>10160</td>\n",
       "    </tr>\n",
       "    <tr>\n",
       "      <th>19</th>\n",
       "      <td>19</td>\n",
       "      <td>[18, 53, 9648]</td>\n",
       "      <td>11324</td>\n",
       "      <td>en</td>\n",
       "      <td>Shutter Island</td>\n",
       "      <td>18.060</td>\n",
       "      <td>2010-02-18</td>\n",
       "      <td>Shutter Island</td>\n",
       "      <td>8.1</td>\n",
       "      <td>12625</td>\n",
       "    </tr>\n",
       "    <tr>\n",
       "      <th>2471</th>\n",
       "      <td>2471</td>\n",
       "      <td>[10751, 14, 12]</td>\n",
       "      <td>12445</td>\n",
       "      <td>en</td>\n",
       "      <td>Harry Potter and the Deathly Hallows: Part 2</td>\n",
       "      <td>29.206</td>\n",
       "      <td>2011-07-15</td>\n",
       "      <td>Harry Potter and the Deathly Hallows: Part 2</td>\n",
       "      <td>8.1</td>\n",
       "      <td>11567</td>\n",
       "    </tr>\n",
       "    <tr>\n",
       "      <th>11026</th>\n",
       "      <td>11026</td>\n",
       "      <td>[36, 18, 53, 10752]</td>\n",
       "      <td>205596</td>\n",
       "      <td>en</td>\n",
       "      <td>The Imitation Game</td>\n",
       "      <td>33.078</td>\n",
       "      <td>2014-12-19</td>\n",
       "      <td>The Imitation Game</td>\n",
       "      <td>8.1</td>\n",
       "      <td>10396</td>\n",
       "    </tr>\n",
       "    <tr>\n",
       "      <th>5189</th>\n",
       "      <td>5189</td>\n",
       "      <td>[18, 37]</td>\n",
       "      <td>68718</td>\n",
       "      <td>en</td>\n",
       "      <td>Django Unchained</td>\n",
       "      <td>21.260</td>\n",
       "      <td>2012-12-25</td>\n",
       "      <td>Django Unchained</td>\n",
       "      <td>8.0</td>\n",
       "      <td>15725</td>\n",
       "    </tr>\n",
       "    <tr>\n",
       "      <th>14184</th>\n",
       "      <td>14184</td>\n",
       "      <td>[18, 35, 16, 10751]</td>\n",
       "      <td>150540</td>\n",
       "      <td>en</td>\n",
       "      <td>Inside Out</td>\n",
       "      <td>24.797</td>\n",
       "      <td>2015-06-19</td>\n",
       "      <td>Inside Out</td>\n",
       "      <td>8.0</td>\n",
       "      <td>12691</td>\n",
       "    </tr>\n",
       "    <tr>\n",
       "      <th>11027</th>\n",
       "      <td>11027</td>\n",
       "      <td>[9648, 53, 18]</td>\n",
       "      <td>210577</td>\n",
       "      <td>en</td>\n",
       "      <td>Gone Girl</td>\n",
       "      <td>31.215</td>\n",
       "      <td>2014-10-03</td>\n",
       "      <td>Gone Girl</td>\n",
       "      <td>7.9</td>\n",
       "      <td>10459</td>\n",
       "    </tr>\n",
       "    <tr>\n",
       "      <th>20688</th>\n",
       "      <td>20688</td>\n",
       "      <td>[35, 18, 10749]</td>\n",
       "      <td>313369</td>\n",
       "      <td>en</td>\n",
       "      <td>La La Land</td>\n",
       "      <td>16.275</td>\n",
       "      <td>2016-12-09</td>\n",
       "      <td>La La Land</td>\n",
       "      <td>7.9</td>\n",
       "      <td>10028</td>\n",
       "    </tr>\n",
       "    <tr>\n",
       "      <th>2473</th>\n",
       "      <td>2473</td>\n",
       "      <td>[16, 35, 10751]</td>\n",
       "      <td>862</td>\n",
       "      <td>en</td>\n",
       "      <td>Toy Story</td>\n",
       "      <td>28.005</td>\n",
       "      <td>1995-11-22</td>\n",
       "      <td>Toy Story</td>\n",
       "      <td>7.9</td>\n",
       "      <td>10174</td>\n",
       "    </tr>\n",
       "    <tr>\n",
       "      <th>7883</th>\n",
       "      <td>7883</td>\n",
       "      <td>[80, 18, 35]</td>\n",
       "      <td>106646</td>\n",
       "      <td>en</td>\n",
       "      <td>The Wolf of Wall Street</td>\n",
       "      <td>29.518</td>\n",
       "      <td>2013-12-25</td>\n",
       "      <td>The Wolf of Wall Street</td>\n",
       "      <td>7.9</td>\n",
       "      <td>12411</td>\n",
       "    </tr>\n",
       "    <tr>\n",
       "      <th>11021</th>\n",
       "      <td>11021</td>\n",
       "      <td>[28, 878, 12]</td>\n",
       "      <td>118340</td>\n",
       "      <td>en</td>\n",
       "      <td>Guardians of the Galaxy</td>\n",
       "      <td>49.606</td>\n",
       "      <td>2014-08-01</td>\n",
       "      <td>Guardians of the Galaxy</td>\n",
       "      <td>7.9</td>\n",
       "      <td>17958</td>\n",
       "    </tr>\n",
       "    <tr>\n",
       "      <th>11024</th>\n",
       "      <td>11024</td>\n",
       "      <td>[12, 10751, 16, 28, 35]</td>\n",
       "      <td>177572</td>\n",
       "      <td>en</td>\n",
       "      <td>Big Hero 6</td>\n",
       "      <td>36.920</td>\n",
       "      <td>2014-11-07</td>\n",
       "      <td>Big Hero 6</td>\n",
       "      <td>7.8</td>\n",
       "      <td>10176</td>\n",
       "    </tr>\n",
       "    <tr>\n",
       "      <th>20620</th>\n",
       "      <td>20620</td>\n",
       "      <td>[28, 18, 878]</td>\n",
       "      <td>263115</td>\n",
       "      <td>en</td>\n",
       "      <td>Logan</td>\n",
       "      <td>45.000</td>\n",
       "      <td>2017-03-03</td>\n",
       "      <td>Logan</td>\n",
       "      <td>7.8</td>\n",
       "      <td>12330</td>\n",
       "    </tr>\n",
       "    <tr>\n",
       "      <th>5182</th>\n",
       "      <td>5182</td>\n",
       "      <td>[28, 80, 18, 53]</td>\n",
       "      <td>49026</td>\n",
       "      <td>en</td>\n",
       "      <td>The Dark Knight Rises</td>\n",
       "      <td>26.220</td>\n",
       "      <td>2012-07-20</td>\n",
       "      <td>The Dark Knight Rises</td>\n",
       "      <td>7.7</td>\n",
       "      <td>13933</td>\n",
       "    </tr>\n",
       "    <tr>\n",
       "      <th>0</th>\n",
       "      <td>0</td>\n",
       "      <td>[12, 14, 10751]</td>\n",
       "      <td>12444</td>\n",
       "      <td>en</td>\n",
       "      <td>Harry Potter and the Deathly Hallows: Part 1</td>\n",
       "      <td>33.533</td>\n",
       "      <td>2010-11-19</td>\n",
       "      <td>Harry Potter and the Deathly Hallows: Part 1</td>\n",
       "      <td>7.7</td>\n",
       "      <td>10788</td>\n",
       "    </tr>\n",
       "    <tr>\n",
       "      <th>11063</th>\n",
       "      <td>11063</td>\n",
       "      <td>[28, 12, 878]</td>\n",
       "      <td>100402</td>\n",
       "      <td>en</td>\n",
       "      <td>Captain America: The Winter Soldier</td>\n",
       "      <td>18.073</td>\n",
       "      <td>2014-04-04</td>\n",
       "      <td>Captain America: The Winter Soldier</td>\n",
       "      <td>7.7</td>\n",
       "      <td>11034</td>\n",
       "    </tr>\n",
       "    <tr>\n",
       "      <th>17397</th>\n",
       "      <td>17397</td>\n",
       "      <td>[18, 12, 878]</td>\n",
       "      <td>286217</td>\n",
       "      <td>en</td>\n",
       "      <td>The Martian</td>\n",
       "      <td>22.856</td>\n",
       "      <td>2015-10-02</td>\n",
       "      <td>The Martian</td>\n",
       "      <td>7.7</td>\n",
       "      <td>12172</td>\n",
       "    </tr>\n",
       "  </tbody>\n",
       "</table>\n",
       "</div>"
      ],
      "text/plain": [
       "       Unnamed: 0                genre_ids      id original_language  \\\n",
       "23811       23811             [12, 28, 14]  299536                en   \n",
       "4               4            [28, 878, 12]   27205                en   \n",
       "11032       11032            [12, 18, 878]  157336                en   \n",
       "2472         2472          [10751, 16, 18]    8587                en   \n",
       "19             19           [18, 53, 9648]   11324                en   \n",
       "2471         2471          [10751, 14, 12]   12445                en   \n",
       "11026       11026      [36, 18, 53, 10752]  205596                en   \n",
       "5189         5189                 [18, 37]   68718                en   \n",
       "14184       14184      [18, 35, 16, 10751]  150540                en   \n",
       "11027       11027           [9648, 53, 18]  210577                en   \n",
       "20688       20688          [35, 18, 10749]  313369                en   \n",
       "2473         2473          [16, 35, 10751]     862                en   \n",
       "7883         7883             [80, 18, 35]  106646                en   \n",
       "11021       11021            [28, 878, 12]  118340                en   \n",
       "11024       11024  [12, 10751, 16, 28, 35]  177572                en   \n",
       "20620       20620            [28, 18, 878]  263115                en   \n",
       "5182         5182         [28, 80, 18, 53]   49026                en   \n",
       "0               0          [12, 14, 10751]   12444                en   \n",
       "11063       11063            [28, 12, 878]  100402                en   \n",
       "17397       17397            [18, 12, 878]  286217                en   \n",
       "\n",
       "                                     original_title  popularity release_date  \\\n",
       "23811                        Avengers: Infinity War      80.773   2018-04-27   \n",
       "4                                         Inception      27.920   2010-07-16   \n",
       "11032                                  Interstellar      28.440   2014-11-05   \n",
       "2472                                  The Lion King      28.583   1994-06-23   \n",
       "19                                   Shutter Island      18.060   2010-02-18   \n",
       "2471   Harry Potter and the Deathly Hallows: Part 2      29.206   2011-07-15   \n",
       "11026                            The Imitation Game      33.078   2014-12-19   \n",
       "5189                               Django Unchained      21.260   2012-12-25   \n",
       "14184                                    Inside Out      24.797   2015-06-19   \n",
       "11027                                     Gone Girl      31.215   2014-10-03   \n",
       "20688                                    La La Land      16.275   2016-12-09   \n",
       "2473                                      Toy Story      28.005   1995-11-22   \n",
       "7883                        The Wolf of Wall Street      29.518   2013-12-25   \n",
       "11021                       Guardians of the Galaxy      49.606   2014-08-01   \n",
       "11024                                    Big Hero 6      36.920   2014-11-07   \n",
       "20620                                         Logan      45.000   2017-03-03   \n",
       "5182                          The Dark Knight Rises      26.220   2012-07-20   \n",
       "0      Harry Potter and the Deathly Hallows: Part 1      33.533   2010-11-19   \n",
       "11063           Captain America: The Winter Soldier      18.073   2014-04-04   \n",
       "17397                                   The Martian      22.856   2015-10-02   \n",
       "\n",
       "                                              title  vote_average  vote_count  \n",
       "23811                        Avengers: Infinity War           8.3       13948  \n",
       "4                                         Inception           8.3       22186  \n",
       "11032                                  Interstellar           8.2       18597  \n",
       "2472                                  The Lion King           8.2       10160  \n",
       "19                                   Shutter Island           8.1       12625  \n",
       "2471   Harry Potter and the Deathly Hallows: Part 2           8.1       11567  \n",
       "11026                            The Imitation Game           8.1       10396  \n",
       "5189                               Django Unchained           8.0       15725  \n",
       "14184                                    Inside Out           8.0       12691  \n",
       "11027                                     Gone Girl           7.9       10459  \n",
       "20688                                    La La Land           7.9       10028  \n",
       "2473                                      Toy Story           7.9       10174  \n",
       "7883                        The Wolf of Wall Street           7.9       12411  \n",
       "11021                       Guardians of the Galaxy           7.9       17958  \n",
       "11024                                    Big Hero 6           7.8       10176  \n",
       "20620                                         Logan           7.8       12330  \n",
       "5182                          The Dark Knight Rises           7.7       13933  \n",
       "0      Harry Potter and the Deathly Hallows: Part 1           7.7       10788  \n",
       "11063           Captain America: The Winter Soldier           7.7       11034  \n",
       "17397                                   The Martian           7.7       12172  "
      ]
     },
     "execution_count": 109,
     "metadata": {},
     "output_type": "execute_result"
    }
   ],
   "source": [
    "top_20_votes = top_votes[:20] #Selecting out the top 20 of that list\n",
    "top_20_votes\n"
   ]
  },
  {
   "cell_type": "markdown",
   "metadata": {},
   "source": [
    "Determining movie popularity based on TMDB 'popularity' metric for movies with popularity greater than 40 and vote count greater than a 1000"
   ]
  },
  {
   "cell_type": "code",
   "execution_count": 110,
   "metadata": {},
   "outputs": [],
   "source": [
    "most_popular = top_vote_avg.loc[(top_vote_avg['popularity'] > 40) & (top_vote_avg['vote_count'] > 1000)]\n",
    "most_popular = most_popular.sort_values('popularity', ascending=False)"
   ]
  },
  {
   "cell_type": "code",
   "execution_count": 111,
   "metadata": {},
   "outputs": [],
   "source": [
    "most_popular = most_popular.drop_duplicates(subset='title')"
   ]
  },
  {
   "cell_type": "code",
   "execution_count": 112,
   "metadata": {},
   "outputs": [
    {
     "data": {
      "text/html": [
       "<div>\n",
       "<style scoped>\n",
       "    .dataframe tbody tr th:only-of-type {\n",
       "        vertical-align: middle;\n",
       "    }\n",
       "\n",
       "    .dataframe tbody tr th {\n",
       "        vertical-align: top;\n",
       "    }\n",
       "\n",
       "    .dataframe thead th {\n",
       "        text-align: right;\n",
       "    }\n",
       "</style>\n",
       "<table border=\"1\" class=\"dataframe\">\n",
       "  <thead>\n",
       "    <tr style=\"text-align: right;\">\n",
       "      <th></th>\n",
       "      <th>Unnamed: 0</th>\n",
       "      <th>genre_ids</th>\n",
       "      <th>id</th>\n",
       "      <th>original_language</th>\n",
       "      <th>original_title</th>\n",
       "      <th>popularity</th>\n",
       "      <th>release_date</th>\n",
       "      <th>title</th>\n",
       "      <th>vote_average</th>\n",
       "      <th>vote_count</th>\n",
       "    </tr>\n",
       "  </thead>\n",
       "  <tbody>\n",
       "    <tr>\n",
       "      <th>23811</th>\n",
       "      <td>23811</td>\n",
       "      <td>[12, 28, 14]</td>\n",
       "      <td>299536</td>\n",
       "      <td>en</td>\n",
       "      <td>Avengers: Infinity War</td>\n",
       "      <td>80.773</td>\n",
       "      <td>2018-04-27</td>\n",
       "      <td>Avengers: Infinity War</td>\n",
       "      <td>8.3</td>\n",
       "      <td>13948</td>\n",
       "    </tr>\n",
       "    <tr>\n",
       "      <th>11019</th>\n",
       "      <td>11019</td>\n",
       "      <td>[28, 53]</td>\n",
       "      <td>245891</td>\n",
       "      <td>en</td>\n",
       "      <td>John Wick</td>\n",
       "      <td>78.123</td>\n",
       "      <td>2014-10-24</td>\n",
       "      <td>John Wick</td>\n",
       "      <td>7.2</td>\n",
       "      <td>10081</td>\n",
       "    </tr>\n",
       "    <tr>\n",
       "      <th>23812</th>\n",
       "      <td>23812</td>\n",
       "      <td>[28, 12, 16, 878, 35]</td>\n",
       "      <td>324857</td>\n",
       "      <td>en</td>\n",
       "      <td>Spider-Man: Into the Spider-Verse</td>\n",
       "      <td>60.534</td>\n",
       "      <td>2018-12-14</td>\n",
       "      <td>Spider-Man: Into the Spider-Verse</td>\n",
       "      <td>8.4</td>\n",
       "      <td>4048</td>\n",
       "    </tr>\n",
       "    <tr>\n",
       "      <th>11020</th>\n",
       "      <td>11020</td>\n",
       "      <td>[28, 12, 14]</td>\n",
       "      <td>122917</td>\n",
       "      <td>en</td>\n",
       "      <td>The Hobbit: The Battle of the Five Armies</td>\n",
       "      <td>53.783</td>\n",
       "      <td>2014-12-17</td>\n",
       "      <td>The Hobbit: The Battle of the Five Armies</td>\n",
       "      <td>7.3</td>\n",
       "      <td>8392</td>\n",
       "    </tr>\n",
       "    <tr>\n",
       "      <th>5179</th>\n",
       "      <td>5179</td>\n",
       "      <td>[878, 28, 12]</td>\n",
       "      <td>24428</td>\n",
       "      <td>en</td>\n",
       "      <td>The Avengers</td>\n",
       "      <td>50.289</td>\n",
       "      <td>2012-05-04</td>\n",
       "      <td>The Avengers</td>\n",
       "      <td>7.6</td>\n",
       "      <td>19673</td>\n",
       "    </tr>\n",
       "    <tr>\n",
       "      <th>11021</th>\n",
       "      <td>11021</td>\n",
       "      <td>[28, 878, 12]</td>\n",
       "      <td>118340</td>\n",
       "      <td>en</td>\n",
       "      <td>Guardians of the Galaxy</td>\n",
       "      <td>49.606</td>\n",
       "      <td>2014-08-01</td>\n",
       "      <td>Guardians of the Galaxy</td>\n",
       "      <td>7.9</td>\n",
       "      <td>17958</td>\n",
       "    </tr>\n",
       "    <tr>\n",
       "      <th>20617</th>\n",
       "      <td>20617</td>\n",
       "      <td>[878, 28, 53]</td>\n",
       "      <td>335984</td>\n",
       "      <td>en</td>\n",
       "      <td>Blade Runner 2049</td>\n",
       "      <td>48.571</td>\n",
       "      <td>2017-10-06</td>\n",
       "      <td>Blade Runner 2049</td>\n",
       "      <td>7.4</td>\n",
       "      <td>6679</td>\n",
       "    </tr>\n",
       "    <tr>\n",
       "      <th>23814</th>\n",
       "      <td>23814</td>\n",
       "      <td>[12]</td>\n",
       "      <td>338952</td>\n",
       "      <td>en</td>\n",
       "      <td>Fantastic Beasts: The Crimes of Grindelwald</td>\n",
       "      <td>48.508</td>\n",
       "      <td>2018-11-16</td>\n",
       "      <td>Fantastic Beasts: The Crimes of Grindelwald</td>\n",
       "      <td>6.9</td>\n",
       "      <td>4870</td>\n",
       "    </tr>\n",
       "    <tr>\n",
       "      <th>23815</th>\n",
       "      <td>23815</td>\n",
       "      <td>[10751, 16, 35, 14, 12]</td>\n",
       "      <td>404368</td>\n",
       "      <td>en</td>\n",
       "      <td>Ralph Breaks the Internet</td>\n",
       "      <td>48.057</td>\n",
       "      <td>2018-11-21</td>\n",
       "      <td>Ralph Breaks the Internet</td>\n",
       "      <td>7.2</td>\n",
       "      <td>2626</td>\n",
       "    </tr>\n",
       "    <tr>\n",
       "      <th>20618</th>\n",
       "      <td>20618</td>\n",
       "      <td>[28, 12, 878, 18]</td>\n",
       "      <td>315635</td>\n",
       "      <td>en</td>\n",
       "      <td>Spider-Man: Homecoming</td>\n",
       "      <td>46.775</td>\n",
       "      <td>2017-07-07</td>\n",
       "      <td>Spider-Man: Homecoming</td>\n",
       "      <td>7.4</td>\n",
       "      <td>11585</td>\n",
       "    </tr>\n",
       "    <tr>\n",
       "      <th>20619</th>\n",
       "      <td>20619</td>\n",
       "      <td>[53, 28, 80]</td>\n",
       "      <td>324552</td>\n",
       "      <td>en</td>\n",
       "      <td>John Wick: Chapter 2</td>\n",
       "      <td>45.253</td>\n",
       "      <td>2017-02-10</td>\n",
       "      <td>John Wick: Chapter 2</td>\n",
       "      <td>7.0</td>\n",
       "      <td>5863</td>\n",
       "    </tr>\n",
       "    <tr>\n",
       "      <th>20620</th>\n",
       "      <td>20620</td>\n",
       "      <td>[28, 18, 878]</td>\n",
       "      <td>263115</td>\n",
       "      <td>en</td>\n",
       "      <td>Logan</td>\n",
       "      <td>45.000</td>\n",
       "      <td>2017-03-03</td>\n",
       "      <td>Logan</td>\n",
       "      <td>7.8</td>\n",
       "      <td>12330</td>\n",
       "    </tr>\n",
       "    <tr>\n",
       "      <th>23816</th>\n",
       "      <td>23816</td>\n",
       "      <td>[28, 12, 878, 35]</td>\n",
       "      <td>363088</td>\n",
       "      <td>en</td>\n",
       "      <td>Ant-Man and the Wasp</td>\n",
       "      <td>44.729</td>\n",
       "      <td>2018-07-06</td>\n",
       "      <td>Ant-Man and the Wasp</td>\n",
       "      <td>7.0</td>\n",
       "      <td>6290</td>\n",
       "    </tr>\n",
       "    <tr>\n",
       "      <th>14169</th>\n",
       "      <td>14169</td>\n",
       "      <td>[28, 12, 878]</td>\n",
       "      <td>99861</td>\n",
       "      <td>en</td>\n",
       "      <td>Avengers: Age of Ultron</td>\n",
       "      <td>44.383</td>\n",
       "      <td>2015-05-01</td>\n",
       "      <td>Avengers: Age of Ultron</td>\n",
       "      <td>7.3</td>\n",
       "      <td>13457</td>\n",
       "    </tr>\n",
       "    <tr>\n",
       "      <th>23817</th>\n",
       "      <td>23817</td>\n",
       "      <td>[28, 12, 14, 878]</td>\n",
       "      <td>284054</td>\n",
       "      <td>en</td>\n",
       "      <td>Black Panther</td>\n",
       "      <td>44.140</td>\n",
       "      <td>2018-02-16</td>\n",
       "      <td>Black Panther</td>\n",
       "      <td>7.4</td>\n",
       "      <td>12365</td>\n",
       "    </tr>\n",
       "    <tr>\n",
       "      <th>23818</th>\n",
       "      <td>23818</td>\n",
       "      <td>[878, 28]</td>\n",
       "      <td>335983</td>\n",
       "      <td>en</td>\n",
       "      <td>Venom</td>\n",
       "      <td>44.007</td>\n",
       "      <td>2018-10-05</td>\n",
       "      <td>Venom</td>\n",
       "      <td>6.6</td>\n",
       "      <td>6206</td>\n",
       "    </tr>\n",
       "    <tr>\n",
       "      <th>23819</th>\n",
       "      <td>23819</td>\n",
       "      <td>[28, 12, 35, 14]</td>\n",
       "      <td>284053</td>\n",
       "      <td>en</td>\n",
       "      <td>Thor: Ragnarok</td>\n",
       "      <td>43.450</td>\n",
       "      <td>2017-11-03</td>\n",
       "      <td>Thor: Ragnarok</td>\n",
       "      <td>7.5</td>\n",
       "      <td>11380</td>\n",
       "    </tr>\n",
       "    <tr>\n",
       "      <th>23820</th>\n",
       "      <td>23820</td>\n",
       "      <td>[28, 12, 878]</td>\n",
       "      <td>424783</td>\n",
       "      <td>en</td>\n",
       "      <td>Bumblebee</td>\n",
       "      <td>43.078</td>\n",
       "      <td>2018-12-21</td>\n",
       "      <td>Bumblebee</td>\n",
       "      <td>6.5</td>\n",
       "      <td>2425</td>\n",
       "    </tr>\n",
       "    <tr>\n",
       "      <th>11022</th>\n",
       "      <td>11022</td>\n",
       "      <td>[28, 12, 14, 878]</td>\n",
       "      <td>127585</td>\n",
       "      <td>en</td>\n",
       "      <td>X-Men: Days of Future Past</td>\n",
       "      <td>41.867</td>\n",
       "      <td>2014-05-23</td>\n",
       "      <td>X-Men: Days of Future Past</td>\n",
       "      <td>7.5</td>\n",
       "      <td>10062</td>\n",
       "    </tr>\n",
       "    <tr>\n",
       "      <th>20622</th>\n",
       "      <td>20622</td>\n",
       "      <td>[28, 12, 35, 878]</td>\n",
       "      <td>283995</td>\n",
       "      <td>en</td>\n",
       "      <td>Guardians of the Galaxy Vol. 2</td>\n",
       "      <td>40.228</td>\n",
       "      <td>2017-05-05</td>\n",
       "      <td>Guardians of the Galaxy Vol. 2</td>\n",
       "      <td>7.7</td>\n",
       "      <td>12535</td>\n",
       "    </tr>\n",
       "  </tbody>\n",
       "</table>\n",
       "</div>"
      ],
      "text/plain": [
       "       Unnamed: 0                genre_ids      id original_language  \\\n",
       "23811       23811             [12, 28, 14]  299536                en   \n",
       "11019       11019                 [28, 53]  245891                en   \n",
       "23812       23812    [28, 12, 16, 878, 35]  324857                en   \n",
       "11020       11020             [28, 12, 14]  122917                en   \n",
       "5179         5179            [878, 28, 12]   24428                en   \n",
       "11021       11021            [28, 878, 12]  118340                en   \n",
       "20617       20617            [878, 28, 53]  335984                en   \n",
       "23814       23814                     [12]  338952                en   \n",
       "23815       23815  [10751, 16, 35, 14, 12]  404368                en   \n",
       "20618       20618        [28, 12, 878, 18]  315635                en   \n",
       "20619       20619             [53, 28, 80]  324552                en   \n",
       "20620       20620            [28, 18, 878]  263115                en   \n",
       "23816       23816        [28, 12, 878, 35]  363088                en   \n",
       "14169       14169            [28, 12, 878]   99861                en   \n",
       "23817       23817        [28, 12, 14, 878]  284054                en   \n",
       "23818       23818                [878, 28]  335983                en   \n",
       "23819       23819         [28, 12, 35, 14]  284053                en   \n",
       "23820       23820            [28, 12, 878]  424783                en   \n",
       "11022       11022        [28, 12, 14, 878]  127585                en   \n",
       "20622       20622        [28, 12, 35, 878]  283995                en   \n",
       "\n",
       "                                    original_title  popularity release_date  \\\n",
       "23811                       Avengers: Infinity War      80.773   2018-04-27   \n",
       "11019                                    John Wick      78.123   2014-10-24   \n",
       "23812            Spider-Man: Into the Spider-Verse      60.534   2018-12-14   \n",
       "11020    The Hobbit: The Battle of the Five Armies      53.783   2014-12-17   \n",
       "5179                                  The Avengers      50.289   2012-05-04   \n",
       "11021                      Guardians of the Galaxy      49.606   2014-08-01   \n",
       "20617                            Blade Runner 2049      48.571   2017-10-06   \n",
       "23814  Fantastic Beasts: The Crimes of Grindelwald      48.508   2018-11-16   \n",
       "23815                    Ralph Breaks the Internet      48.057   2018-11-21   \n",
       "20618                       Spider-Man: Homecoming      46.775   2017-07-07   \n",
       "20619                         John Wick: Chapter 2      45.253   2017-02-10   \n",
       "20620                                        Logan      45.000   2017-03-03   \n",
       "23816                         Ant-Man and the Wasp      44.729   2018-07-06   \n",
       "14169                      Avengers: Age of Ultron      44.383   2015-05-01   \n",
       "23817                                Black Panther      44.140   2018-02-16   \n",
       "23818                                        Venom      44.007   2018-10-05   \n",
       "23819                               Thor: Ragnarok      43.450   2017-11-03   \n",
       "23820                                    Bumblebee      43.078   2018-12-21   \n",
       "11022                   X-Men: Days of Future Past      41.867   2014-05-23   \n",
       "20622               Guardians of the Galaxy Vol. 2      40.228   2017-05-05   \n",
       "\n",
       "                                             title  vote_average  vote_count  \n",
       "23811                       Avengers: Infinity War           8.3       13948  \n",
       "11019                                    John Wick           7.2       10081  \n",
       "23812            Spider-Man: Into the Spider-Verse           8.4        4048  \n",
       "11020    The Hobbit: The Battle of the Five Armies           7.3        8392  \n",
       "5179                                  The Avengers           7.6       19673  \n",
       "11021                      Guardians of the Galaxy           7.9       17958  \n",
       "20617                            Blade Runner 2049           7.4        6679  \n",
       "23814  Fantastic Beasts: The Crimes of Grindelwald           6.9        4870  \n",
       "23815                    Ralph Breaks the Internet           7.2        2626  \n",
       "20618                       Spider-Man: Homecoming           7.4       11585  \n",
       "20619                         John Wick: Chapter 2           7.0        5863  \n",
       "20620                                        Logan           7.8       12330  \n",
       "23816                         Ant-Man and the Wasp           7.0        6290  \n",
       "14169                      Avengers: Age of Ultron           7.3       13457  \n",
       "23817                                Black Panther           7.4       12365  \n",
       "23818                                        Venom           6.6        6206  \n",
       "23819                               Thor: Ragnarok           7.5       11380  \n",
       "23820                                    Bumblebee           6.5        2425  \n",
       "11022                   X-Men: Days of Future Past           7.5       10062  \n",
       "20622               Guardians of the Galaxy Vol. 2           7.7       12535  "
      ]
     },
     "execution_count": 112,
     "metadata": {},
     "output_type": "execute_result"
    }
   ],
   "source": [
    "most_popular_twenty = most_popular[:20] #top 20 from most popular table\n",
    "most_popular_twenty"
   ]
  },
  {
   "cell_type": "markdown",
   "metadata": {},
   "source": [
    "### The-Numbers Movie Budgets Dataset\n",
    "\n",
    "- TN Dataset contains box-office perfonance data for all movies with the exception of its respective genre.\n",
    "- After Cleaning the dataset, merged TN and TMDB, and Genre ID for each movie could be asociated with its own box-office data."
   ]
  },
  {
   "cell_type": "code",
   "execution_count": 113,
   "metadata": {},
   "outputs": [],
   "source": [
    "df_tn = pd.read_csv('./zippedData/tn.movie_budgets.csv.gz')"
   ]
  },
  {
   "cell_type": "markdown",
   "metadata": {},
   "source": [
    "Transform all numeric columns from object to int"
   ]
  },
  {
   "cell_type": "code",
   "execution_count": 114,
   "metadata": {},
   "outputs": [],
   "source": [
    "#Removing all commas and $ signs from production_budget column\n",
    "df_tn['production_budget'] = df_tn['production_budget'].str.replace(',','')\n",
    "df_tn['production_budget'] = df_tn['production_budget'].str.replace('$','')\n",
    "\n",
    "#Removing all commas and $ signs from domestic_gross column\n",
    "df_tn['domestic_gross'] = df_tn['domestic_gross'].str.replace(',','')\n",
    "df_tn['domestic_gross'] = df_tn['domestic_gross'].str.replace('$','')\n",
    "\n",
    "#Removing all commas and $ signs from worldwide_gross column\n",
    "df_tn['worldwide_gross'] = df_tn['worldwide_gross'].str.replace(',','')\n",
    "df_tn['worldwide_gross'] = df_tn['worldwide_gross'].str.replace('$','')\n"
   ]
  },
  {
   "cell_type": "code",
   "execution_count": 115,
   "metadata": {},
   "outputs": [],
   "source": [
    "#Converting values from str to int\n",
    "df_tn['production_budget'] = df_tn['production_budget'].astype(int)\n",
    "df_tn['domestic_gross'] = df_tn['domestic_gross'].astype(int)\n",
    "df_tn['worldwide_gross'] = df_tn['worldwide_gross'].astype(int)"
   ]
  },
  {
   "cell_type": "markdown",
   "metadata": {},
   "source": [
    "Creating a new column for gross profit, substracting production budget from total worldwide_gross"
   ]
  },
  {
   "cell_type": "code",
   "execution_count": 116,
   "metadata": {},
   "outputs": [],
   "source": [
    "df_tn['gross_profit']= df_tn['worldwide_gross'] - df_tn['production_budget']"
   ]
  },
  {
   "cell_type": "code",
   "execution_count": 117,
   "metadata": {},
   "outputs": [],
   "source": [
    "df_tn['gross_profit_by_millions'] = df_tn['gross_profit']/10000"
   ]
  },
  {
   "cell_type": "markdown",
   "metadata": {},
   "source": [
    "#### Merging two data frames to get genre column into frame with movies earnings\n",
    "\n",
    "Merging TMDB and TN data frames, TMDB contains movie's genres column and TN has gross profit information, by merging the two frames we can find which generes had better results in the box office."
   ]
  },
  {
   "cell_type": "code",
   "execution_count": 118,
   "metadata": {
    "scrolled": true
   },
   "outputs": [],
   "source": [
    "#set movie column as index, therefore both dataframes can merge based on matching values from its respective index\n",
    "df_tmdb_2 = df_tmdb.set_index(['title'])\n",
    "df_tn.set_index(['movie'], inplace= True)"
   ]
  },
  {
   "cell_type": "code",
   "execution_count": 119,
   "metadata": {},
   "outputs": [],
   "source": [
    "merged_df = df_tn.merge(df_tmdb_2, how = 'inner', left_index=True, right_index=True)\n"
   ]
  },
  {
   "cell_type": "code",
   "execution_count": 120,
   "metadata": {},
   "outputs": [],
   "source": [
    "# Droping columns with missing info\n",
    "merged_df.loc[merged_df['genre_ids'] == '[]', 'genre_ids'] = None\n",
    "\n",
    "merged_df = merged_df.dropna(subset=['genre_ids'])"
   ]
  },
  {
   "cell_type": "markdown",
   "metadata": {},
   "source": [
    "Changing values for each genre id number to its respective name"
   ]
  },
  {
   "cell_type": "code",
   "execution_count": 121,
   "metadata": {},
   "outputs": [],
   "source": [
    "merged_df['genre_ids'] = merged_df['genre_ids'].str.replace('12', 'Adventure')\n",
    "merged_df['genre_ids'] = merged_df['genre_ids'].str.replace('28', 'Action')\n",
    "merged_df['genre_ids'] = merged_df['genre_ids'].str.replace('16', 'Animation')\n",
    "merged_df['genre_ids'] = merged_df['genre_ids'].str.replace('35', 'Comedy')\n",
    "merged_df['genre_ids'] = merged_df['genre_ids'].str.replace('80', 'Crime')\n",
    "merged_df['genre_ids'] = merged_df['genre_ids'].str.replace('99', 'Documentary')\n",
    "merged_df['genre_ids'] = merged_df['genre_ids'].str.replace('18', 'Drama')\n",
    "merged_df['genre_ids'] = merged_df['genre_ids'].str.replace('10751', 'Family')\n",
    "merged_df['genre_ids'] = merged_df['genre_ids'].str.replace('14', 'Fantasy')\n",
    "merged_df['genre_ids'] = merged_df['genre_ids'].str.replace('36', 'History')\n",
    "merged_df['genre_ids'] = merged_df['genre_ids'].str.replace('27', 'Horror')\n",
    "merged_df['genre_ids'] = merged_df['genre_ids'].str.replace('10402', 'Music')\n",
    "merged_df['genre_ids'] = merged_df['genre_ids'].str.replace('9648', 'Mystery')\n",
    "merged_df['genre_ids'] = merged_df['genre_ids'].str.replace('10749', 'Romance')\n",
    "merged_df['genre_ids'] = merged_df['genre_ids'].str.replace('878', 'Science Fiction')\n",
    "merged_df['genre_ids'] = merged_df['genre_ids'].str.replace('10770', 'TV Movie')\n",
    "merged_df['genre_ids'] = merged_df['genre_ids'].str.replace('53', 'Thriller')\n",
    "merged_df['genre_ids'] = merged_df['genre_ids'].str.replace('10752', 'War')\n",
    "merged_df['genre_ids'] = merged_df['genre_ids'].str.replace('37', 'Western')"
   ]
  },
  {
   "cell_type": "markdown",
   "metadata": {},
   "source": [
    "#### Save as new file"
   ]
  },
  {
   "cell_type": "code",
   "execution_count": 122,
   "metadata": {},
   "outputs": [],
   "source": [
    "# df.to_csv('Merged_df_TMDB_TN.csv')"
   ]
  },
  {
   "cell_type": "code",
   "execution_count": 123,
   "metadata": {},
   "outputs": [],
   "source": [
    "df_TMDB_TN = pd.read_csv('./Notes/Merged_df_TMDB_TN.csv')"
   ]
  },
  {
   "cell_type": "markdown",
   "metadata": {},
   "source": [
    "Determining top 20 movies based on highest profit at the Box-office"
   ]
  },
  {
   "cell_type": "code",
   "execution_count": 124,
   "metadata": {},
   "outputs": [],
   "source": [
    "df_top_movies = df_TMDB_TN.sort_values(by=['gross_profit_by_millions'], ascending=False).head(20)"
   ]
  },
  {
   "cell_type": "markdown",
   "metadata": {},
   "source": [
    "## What About Streaming?\n",
    "\n",
    "According to a [report by the Motion Picture Association](https://www.motionpictures.org/wp-content/uploads/2022/03/MPA-2021-THEME-Report-FINAL.pdf), revenue from films released digitally through streaming services such as Netflix, Hulu, Disney+, and Amazon Prime Video increased by **11% in the US** and **24% internationally** from 2020 to 2021. The total revenue generated in 2021 from digital releases globally was **$72 Billion**"
   ]
  },
  {
   "cell_type": "code",
   "execution_count": 125,
   "metadata": {},
   "outputs": [
    {
     "data": {
      "text/plain": [
       "22251047806.0"
      ]
     },
     "execution_count": 125,
     "metadata": {},
     "output_type": "execute_result"
    }
   ],
   "source": [
    "box_rev = pd.read_csv('./zippedData/bom.movie_gross.csv.gz')\n",
    "box_rev['total_gross'] = box_rev['domestic_gross'] + box_rev['domestic_gross']\n",
    "box_rev.head()\n",
    "\n",
    "box_rev_17_18 = box_rev[(box_rev.year == 2017) | (box_rev.year == 2018)] # unfortunately our data for box office revenue only goes up to the end of 2018\n",
    "total_box_rev_17_18 = box_rev_17_18['total_gross'].sum()\n",
    "\n",
    "total_digi_rev_17_18 = 66300000000 # from report numbers, digital 2017 + 2018, international + US\n",
    "\n",
    "total_digi_rev_17_18 - total_box_rev_17_18"
   ]
  },
  {
   "cell_type": "markdown",
   "metadata": {},
   "source": [
    "### Streaming Revenue is Higher Than Box Office Revenue\n",
    "\n",
    "Even in 2017 & 2018, before people were spending more time at home from the pandemic, streaming revenue was **$22.25 billion more** than box office revenue (according to the Motion Picture Association report above)"
   ]
  },
  {
   "cell_type": "code",
   "execution_count": 126,
   "metadata": {},
   "outputs": [
    {
     "data": {
      "text/html": [
       "<div>\n",
       "<style scoped>\n",
       "    .dataframe tbody tr th:only-of-type {\n",
       "        vertical-align: middle;\n",
       "    }\n",
       "\n",
       "    .dataframe tbody tr th {\n",
       "        vertical-align: top;\n",
       "    }\n",
       "\n",
       "    .dataframe thead th {\n",
       "        text-align: right;\n",
       "    }\n",
       "</style>\n",
       "<table border=\"1\" class=\"dataframe\">\n",
       "  <thead>\n",
       "    <tr style=\"text-align: right;\">\n",
       "      <th></th>\n",
       "      <th>week</th>\n",
       "      <th>category</th>\n",
       "      <th>weekly_rank</th>\n",
       "      <th>show_title</th>\n",
       "      <th>season_title</th>\n",
       "      <th>weekly_hours_viewed</th>\n",
       "      <th>cumulative_weeks_in_top_10</th>\n",
       "    </tr>\n",
       "  </thead>\n",
       "  <tbody>\n",
       "    <tr>\n",
       "      <th>0</th>\n",
       "      <td>2022-09-25</td>\n",
       "      <td>Films (English)</td>\n",
       "      <td>1</td>\n",
       "      <td>Do Revenge</td>\n",
       "      <td>NaN</td>\n",
       "      <td>42550000</td>\n",
       "      <td>2</td>\n",
       "    </tr>\n",
       "    <tr>\n",
       "      <th>1</th>\n",
       "      <td>2022-09-25</td>\n",
       "      <td>Films (English)</td>\n",
       "      <td>2</td>\n",
       "      <td>Lou</td>\n",
       "      <td>NaN</td>\n",
       "      <td>40570000</td>\n",
       "      <td>1</td>\n",
       "    </tr>\n",
       "    <tr>\n",
       "      <th>2</th>\n",
       "      <td>2022-09-25</td>\n",
       "      <td>Films (English)</td>\n",
       "      <td>3</td>\n",
       "      <td>Father Stu</td>\n",
       "      <td>NaN</td>\n",
       "      <td>13770000</td>\n",
       "      <td>1</td>\n",
       "    </tr>\n",
       "    <tr>\n",
       "      <th>3</th>\n",
       "      <td>2022-09-25</td>\n",
       "      <td>Films (English)</td>\n",
       "      <td>4</td>\n",
       "      <td>I Used to Be Famous</td>\n",
       "      <td>NaN</td>\n",
       "      <td>11630000</td>\n",
       "      <td>1</td>\n",
       "    </tr>\n",
       "    <tr>\n",
       "      <th>4</th>\n",
       "      <td>2022-09-25</td>\n",
       "      <td>Films (English)</td>\n",
       "      <td>5</td>\n",
       "      <td>A Jazzman's Blues</td>\n",
       "      <td>NaN</td>\n",
       "      <td>7820000</td>\n",
       "      <td>1</td>\n",
       "    </tr>\n",
       "    <tr>\n",
       "      <th>...</th>\n",
       "      <td>...</td>\n",
       "      <td>...</td>\n",
       "      <td>...</td>\n",
       "      <td>...</td>\n",
       "      <td>...</td>\n",
       "      <td>...</td>\n",
       "      <td>...</td>\n",
       "    </tr>\n",
       "    <tr>\n",
       "      <th>2575</th>\n",
       "      <td>2021-07-04</td>\n",
       "      <td>Films (Non-English)</td>\n",
       "      <td>6</td>\n",
       "      <td>Security</td>\n",
       "      <td>NaN</td>\n",
       "      <td>2950000</td>\n",
       "      <td>1</td>\n",
       "    </tr>\n",
       "    <tr>\n",
       "      <th>2576</th>\n",
       "      <td>2021-07-04</td>\n",
       "      <td>Films (Non-English)</td>\n",
       "      <td>7</td>\n",
       "      <td>Murder by the Coast</td>\n",
       "      <td>NaN</td>\n",
       "      <td>2690000</td>\n",
       "      <td>1</td>\n",
       "    </tr>\n",
       "    <tr>\n",
       "      <th>2577</th>\n",
       "      <td>2021-07-04</td>\n",
       "      <td>Films (Non-English)</td>\n",
       "      <td>8</td>\n",
       "      <td>Xtreme</td>\n",
       "      <td>NaN</td>\n",
       "      <td>2650000</td>\n",
       "      <td>1</td>\n",
       "    </tr>\n",
       "    <tr>\n",
       "      <th>2578</th>\n",
       "      <td>2021-07-04</td>\n",
       "      <td>Films (Non-English)</td>\n",
       "      <td>9</td>\n",
       "      <td>Rurouni Kenshin: Origins</td>\n",
       "      <td>NaN</td>\n",
       "      <td>2150000</td>\n",
       "      <td>1</td>\n",
       "    </tr>\n",
       "    <tr>\n",
       "      <th>2579</th>\n",
       "      <td>2021-07-04</td>\n",
       "      <td>Films (Non-English)</td>\n",
       "      <td>10</td>\n",
       "      <td>Prime Time</td>\n",
       "      <td>NaN</td>\n",
       "      <td>2080000</td>\n",
       "      <td>1</td>\n",
       "    </tr>\n",
       "  </tbody>\n",
       "</table>\n",
       "<p>1300 rows × 7 columns</p>\n",
       "</div>"
      ],
      "text/plain": [
       "            week             category  weekly_rank                show_title  \\\n",
       "0     2022-09-25      Films (English)            1                Do Revenge   \n",
       "1     2022-09-25      Films (English)            2                       Lou   \n",
       "2     2022-09-25      Films (English)            3                Father Stu   \n",
       "3     2022-09-25      Films (English)            4       I Used to Be Famous   \n",
       "4     2022-09-25      Films (English)            5         A Jazzman's Blues   \n",
       "...          ...                  ...          ...                       ...   \n",
       "2575  2021-07-04  Films (Non-English)            6                  Security   \n",
       "2576  2021-07-04  Films (Non-English)            7       Murder by the Coast   \n",
       "2577  2021-07-04  Films (Non-English)            8                    Xtreme   \n",
       "2578  2021-07-04  Films (Non-English)            9  Rurouni Kenshin: Origins   \n",
       "2579  2021-07-04  Films (Non-English)           10                Prime Time   \n",
       "\n",
       "     season_title  weekly_hours_viewed  cumulative_weeks_in_top_10  \n",
       "0             NaN             42550000                           2  \n",
       "1             NaN             40570000                           1  \n",
       "2             NaN             13770000                           1  \n",
       "3             NaN             11630000                           1  \n",
       "4             NaN              7820000                           1  \n",
       "...           ...                  ...                         ...  \n",
       "2575          NaN              2950000                           1  \n",
       "2576          NaN              2690000                           1  \n",
       "2577          NaN              2650000                           1  \n",
       "2578          NaN              2150000                           1  \n",
       "2579          NaN              2080000                           1  \n",
       "\n",
       "[1300 rows x 7 columns]"
      ]
     },
     "execution_count": 126,
     "metadata": {},
     "output_type": "execute_result"
    }
   ],
   "source": [
    "netflix = pd.read_csv('./zippedData/all-weeks-global.tsv', delimiter='\\t') # time frame for this dataset is 6/28/21 to 9/25/22\n",
    "nf_movies = netflix[netflix['category'].str.contains('Film')]\n",
    "nf_movies"
   ]
  },
  {
   "cell_type": "markdown",
   "metadata": {},
   "source": [
    "Narrowing down the table to only the top movies"
   ]
  },
  {
   "cell_type": "code",
   "execution_count": 127,
   "metadata": {},
   "outputs": [],
   "source": [
    "top_movies = nf_movies[['show_title','weekly_hours_viewed']].sort_values(by='weekly_hours_viewed', ascending=False)\n",
    "top_movies.drop_duplicates(subset='show_title', inplace=True)\n",
    "top100 = top_movies[0:100]\n",
    "top20 = top_movies[0:20]\n",
    "top30 = top_movies[0:30]\n",
    "top50 = top_movies[0:50]"
   ]
  },
  {
   "cell_type": "markdown",
   "metadata": {},
   "source": [
    "Preparation for a second plot showing top 20 most viewed generes"
   ]
  },
  {
   "cell_type": "code",
   "execution_count": 128,
   "metadata": {},
   "outputs": [
    {
     "name": "stderr",
     "output_type": "stream",
     "text": [
      "<ipython-input-128-17641bfe3b40>:5: SettingWithCopyWarning: \n",
      "A value is trying to be set on a copy of a slice from a DataFrame.\n",
      "Try using .loc[row_indexer,col_indexer] = value instead\n",
      "\n",
      "See the caveats in the documentation: https://pandas.pydata.org/pandas-docs/stable/user_guide/indexing.html#returning-a-view-versus-a-copy\n",
      "  top20['genre'] = top20_genres\n"
     ]
    }
   ],
   "source": [
    "top20_genres = ['Comedy', 'Action', 'Music', 'Action', 'Action', 'Comedy', 'Drama', 'Comedy', 'Drama', 'Comedy', 'Comedy', 'Action', 'Documentary', 'Action', 'Action', 'Comedy', 'Comedy', 'Comedy', 'Action', 'Action'] \n",
    "# hard coded from Netflix's website listing for each movie or IMDB, since Netflix's provided .tsv didn't include genre. Romatic Comedy coded here as Comedy\n",
    "len(top20_genres)\n",
    "\n",
    "top20['genre'] = top20_genres"
   ]
  },
  {
   "cell_type": "markdown",
   "metadata": {},
   "source": [
    "# Video Game Movies\n"
   ]
  },
  {
   "cell_type": "markdown",
   "metadata": {},
   "source": [
    "We found a DataSet of movies based on video games, and sorted them by worldwide box-office"
   ]
  },
  {
   "cell_type": "code",
   "execution_count": 129,
   "metadata": {
    "scrolled": true
   },
   "outputs": [],
   "source": [
    "df_vid_game = pd.read_csv('./zippedData/video_game_films.csv')"
   ]
  },
  {
   "cell_type": "code",
   "execution_count": 130,
   "metadata": {},
   "outputs": [],
   "source": [
    "vid_games_box_off = df_vid_game.sort_values('Worldwide box office', ascending=False)\n",
    "vid_games_plt_data = vid_games_box_off[:20]\n"
   ]
  },
  {
   "cell_type": "markdown",
   "metadata": {},
   "source": [
    "## Data Modeling\n"
   ]
  },
  {
   "cell_type": "markdown",
   "metadata": {},
   "source": [
    "Plot below shows top 20 movies based on average rating\n",
    "- Blue: Action/Adventure\n",
    "- Black: Other"
   ]
  },
  {
   "cell_type": "code",
   "execution_count": 131,
   "metadata": {
    "scrolled": true
   },
   "outputs": [
    {
     "data": {
      "image/png": "[encoded data removed]",
      "text/plain": [
       "<Figure size 432x288 with 1 Axes>"
      ]
     },
     "metadata": {
      "needs_background": "light"
     },
     "output_type": "display_data"
    }
   ],
   "source": [
    "# code for plot used on Action/Adventure slide\n",
    "\n",
    "ax = sns.barplot(data=top_20_votes, x='original_title', y='vote_average', \n",
    "                 palette = ['#25a6e0', '#25a6e0', '#25a6e0', 'black', 'black', '#25a6e0', 'black', 'black', 'black', 'black',\n",
    "                           'black', 'black', 'black', '#25a6e0', '#25a6e0', '#25a6e0', '#25a6e0', '#25a6e0', '#25a6e0', '#25a6e0'])\n",
    "\n",
    "sns.set(rc={'axes.facecolor':(0,0,0,0), 'figure.facecolor':(0,0,0,0)})\n",
    "ax.set_xticklabels(ax.get_xticklabels(), rotation=40, ha=\"right\", rotation_mode='anchor')\n",
    "ax.set_xlabel('Movie Titles')\n",
    "ax.set_ylabel('Avg Rating (>10K Counts)')\n",
    "ax.set_title('Highest Rated Movies from TMDB');\n",
    "\n",
    "#plt.savefig('./zippedData/highest rated movies from TMDB action adv', bbox_inches='tight', dpi=300);"
   ]
  },
  {
   "cell_type": "markdown",
   "metadata": {},
   "source": [
    "Plot below shows top 20 movies based on box-office profit\n",
    "\n",
    "Blue: Action\n",
    "Magenta: Comedy\n",
    "Black: Other"
   ]
  },
  {
   "cell_type": "code",
   "execution_count": 132,
   "metadata": {},
   "outputs": [
    {
     "data": {
      "image/png": "[encoded data removed]",
      "text/plain": [
       "<Figure size 432x288 with 1 Axes>"
      ]
     },
     "metadata": {
      "needs_background": "light"
     },
     "output_type": "display_data"
    }
   ],
   "source": [
    "ax = sns.barplot( x=df_top_movies['original_title'], y=df_top_movies['gross_profit_by_millions'], palette = (['#25a6e0', '#25a6e0', '#25a6e0', '#25a6e0', '#25a6e0', '#25a6e0', '#25a6e0', 'black', 'black', 'magenta', '#25a6e0', '#25a6e0', '#25a6e0', '#25a6e0', '#25a6e0', 'magenta', '#25a6e0', '#25a6e0', 'black', 'magenta']), ci=None )\n",
    "\n",
    "\n",
    "\n",
    "ax.set_xticklabels(ax.get_xticklabels(), rotation=40, ha=\"right\", rotation_mode='anchor')\n",
    "ax.set_ylabel('Box office Profit \\n (millions)')\n",
    "ax.set_xlabel('Movie Title ')\n",
    "ax.set_title('Top 20 Movies by Gross Profit');\n",
    "sns.set(rc={'axes.facecolor':(0,0,0,0), 'figure.facecolor':(0,0,0,0)})\n",
    "\n",
    "#plt.savefig('../zippedData/Top_20_Movies_by_Gross_Profit_2', bbox_inches='tight', dpi=300);\n",
    "# plt.gcf().axes[0].yaxis.get_major_formatter().set_scientific(False) "
   ]
  },
  {
   "cell_type": "markdown",
   "metadata": {},
   "source": [
    "Plot below shows top 20 movies based on average rating\n",
    "- Green: Drama\n",
    "- Black: Other"
   ]
  },
  {
   "cell_type": "code",
   "execution_count": 133,
   "metadata": {},
   "outputs": [
    {
     "data": {
      "image/png": "[encoded data removed]",
      "text/plain": [
       "<Figure size 432x288 with 1 Axes>"
      ]
     },
     "metadata": {
      "needs_background": "light"
     },
     "output_type": "display_data"
    }
   ],
   "source": [
    "# code for plot used on drama slide\n",
    "\n",
    "ax = sns.barplot(data=top_20_votes, x='original_title', y='vote_average', palette = ['black', 'black', '#4fb974', '#4fb974', '#4fb974', 'black', '#4fb974', '#4fb974', '#4fb974', '#4fb974',\n",
    "                                                                                    '#4fb974', 'black', '#4fb974', 'black', 'black', '#4fb974', '#4fb974', 'black', 'black', '#4fb974'])\n",
    "\n",
    "sns.set(rc={'axes.facecolor':(0,0,0,0), 'figure.facecolor':(0,0,0,0)})\n",
    "ax.set_xticklabels(ax.get_xticklabels(), rotation=40, ha=\"right\", rotation_mode='anchor')\n",
    "ax.set_xlabel('Movie Titles')\n",
    "ax.set_ylabel('Avg Rating (>10K Counts)')\n",
    "ax.set_title('Highest Rated Movies from TMDB');\n",
    "\n",
    "# plt.savefig('./zippedData/highest rated movies from TMDB drama', bbox_inches='tight', dpi=300);"
   ]
  },
  {
   "cell_type": "markdown",
   "metadata": {},
   "source": [
    "Plot below shows top 20 movies based on average rating\n",
    "\n",
    "- Magenta: Comedy\n",
    "- Black: Other"
   ]
  },
  {
   "cell_type": "code",
   "execution_count": 134,
   "metadata": {},
   "outputs": [
    {
     "data": {
      "image/png": "[encoded data removed]",
      "text/plain": [
       "<Figure size 432x288 with 1 Axes>"
      ]
     },
     "metadata": {
      "needs_background": "light"
     },
     "output_type": "display_data"
    }
   ],
   "source": [
    "# code for comedy plot\n",
    "\n",
    "ax = sns.barplot(data=top_20_votes, x='original_title', y='vote_average', palette = ['black', 'black', 'black', 'black', 'black', 'black', 'black', 'black', 'magenta', 'black',\n",
    "                                                                                    'magenta', 'magenta', 'magenta', 'black', 'magenta', 'black', 'black', 'black', 'black', 'black'])\n",
    "\n",
    "sns.set(rc={'axes.facecolor':(0,0,0,0), 'figure.facecolor':(0,0,0,0)})\n",
    "ax.set_xticklabels(ax.get_xticklabels(), rotation=40, ha=\"right\", rotation_mode='anchor')\n",
    "ax.set_xlabel('Movie Titles')\n",
    "ax.set_ylabel('Avg Rating (>10K Counts)')\n",
    "ax.set_title('Highest Rated Movies from TMDB');\n",
    "\n",
    "#plt.savefig('./zippedData/highest rated movies from TMDB comedy', bbox_inches='tight', dpi=300);"
   ]
  },
  {
   "cell_type": "markdown",
   "metadata": {},
   "source": [
    "&nbsp;\n",
    "\n",
    "&nbsp; \n",
    "\n",
    "Plot below demonstrates that all of the top 20 movies in the TMDB popularity category are Action movies"
   ]
  },
  {
   "cell_type": "code",
   "execution_count": 135,
   "metadata": {},
   "outputs": [
    {
     "data": {
      "image/png": "[encoded data removed]",
      "text/plain": [
       "<Figure size 432x288 with 1 Axes>"
      ]
     },
     "metadata": {
      "needs_background": "light"
     },
     "output_type": "display_data"
    }
   ],
   "source": [
    "# code for TMDB 'popularity' stats - ALL in action/adventure genre\n",
    "ax = sns.barplot(data=most_popular_twenty, x='original_title', y='popularity', color='#25a6e0')\n",
    "\n",
    "sns.set(rc={'axes.facecolor':(0,0,0,0), 'figure.facecolor':(0,0,0,0)})\n",
    "ax.set_xticklabels(ax.get_xticklabels(), rotation=40, ha=\"right\", rotation_mode='anchor')\n",
    "ax.set_xlabel('Movie Titles')\n",
    "ax.set_ylabel('Popularity Rating on TMDB')\n",
    "ax.set_title('Most Popular Movie Titles from TMDB');\n",
    "# plt.savefig('./zippedData/most popular movie titles from TMDB', bbox_inches='tight', dpi=300);"
   ]
  },
  {
   "cell_type": "code",
   "execution_count": 136,
   "metadata": {},
   "outputs": [],
   "source": [
    "top20_palette = ['magenta', '#25a6e0', 'black', '#25a6e0', '#25a6e0', 'magenta', '#4fb974', 'magenta', '#4fb974', 'magenta', 'magenta', '#25a6e0', 'black', '#25a6e0', '#25a6e0', 'magenta', 'magenta', 'magenta', '#25a6e0', '#25a6e0' ] \n",
    "# '#25a6e0' is action, magenta comedy, '#4fb974' drama, black for others (so, music, documentary)"
   ]
  },
  {
   "cell_type": "code",
   "execution_count": 137,
   "metadata": {},
   "outputs": [
    {
     "data": {
      "image/png": "[encoded data removed]",
      "text/plain": [
       "<Figure size 432x288 with 1 Axes>"
      ]
     },
     "metadata": {
      "needs_background": "light"
     },
     "output_type": "display_data"
    }
   ],
   "source": [
    "ax = sns.barplot(data=top20, x='show_title', y=top20['weekly_hours_viewed'] / 1000000, palette=top20_palette, dodge=False)\n",
    "ax.set_xticklabels(ax.get_xticklabels(), rotation=40, ha=\"right\", rotation_mode='anchor')\n",
    "ax.set_ylabel('Hours Viewed 2021-22 \\n (millions)')\n",
    "ax.set_xlabel('')\n",
    "ax.set_title('What People Are Watching on NetFlix Globally')\n",
    "plt.gcf().axes[0].yaxis.get_major_formatter().set_scientific(False) # this turns of scientific notation for numerical vals\n",
    "\n",
    "sns.set(rc={'axes.facecolor':(0,0,0,0), 'figure.facecolor':(0,0,0,0)})\n",
    "plt.show();\n",
    "# plt.savefig('./../Data/netflix_top20_titles_hours.png', bbox_inches='tight');"
   ]
  },
  {
   "cell_type": "markdown",
   "metadata": {},
   "source": [
    "### The top two movies have significantly more views that the rest\n",
    "*why is that?*\n",
    "\n",
    "&nbsp;\n",
    "\n",
    "The blurb about Netflix's \\#1 film, \"Don't Look Up\" https://www.dontlookup-movie.com/synopsis/\n",
    ">Two astronomers go on a media tour to warn humankind of a planet-killing comet hurtling toward Earth. The response from a distracted world: Meh.\n",
    "\n",
    "Compared with Netflix's description of \"Red Notice\" https://www.netflix.com/title/81161626\n",
    ">An FBI profiler pursuing the world's most wanted art thief becomes his reluctant partner in crime to catch an elusive crook who's always one step ahead.\n",
    "\n",
    "The two don't seem to have much in common, story-wise.\n",
    "\n",
    "&nbsp;\n",
    "\n",
    "&nbsp;\n",
    "\n",
    "\n",
    "### Genre as a Driver of Interest\n",
    "\n",
    "Let's look at the genres of the top 20 streamed movies in the 2021-2022 span\n",
    "&nbsp;\n",
    "\n",
    "&nbsp;"
   ]
  },
  {
   "cell_type": "code",
   "execution_count": 138,
   "metadata": {},
   "outputs": [
    {
     "data": {
      "image/png": "[encoded data removed]",
      "text/plain": [
       "<Figure size 432x288 with 1 Axes>"
      ]
     },
     "metadata": {
      "needs_background": "light"
     },
     "output_type": "display_data"
    }
   ],
   "source": [
    "ax = sns.scatterplot(x=top20['genre'], y=top20['weekly_hours_viewed'] / 1000000, hue=top20['genre'], palette=['magenta', '#25a6e0', 'black', '#4fb974', 'black'], legend=False, s=150, alpha=0.90)\n",
    "# ax.bar(top20['genre'], top20['weekly_hours_viewed'], width=width, bottom=0.0, color='red', alpha=0.5)\n",
    "ax.set_ylabel('Hours Viewed 2021-22 \\n (millions)')\n",
    "ax.set_xlabel('Genre')\n",
    "\n",
    "plt.gcf().axes[0].yaxis.get_major_formatter().set_scientific(False)\n",
    "sns.set(rc={'axes.facecolor':(0,0,0,0), 'figure.facecolor':(0,0,0,0)})\n",
    "\n",
    "# plt.savefig('./../Data/top20_genres.png', bbox_inches='tight');\n",
    "plt.show();"
   ]
  },
  {
   "cell_type": "markdown",
   "metadata": {},
   "source": [
    "The number of dots represent the different movies. We can see that both in total hours watched and number movies in each genre, **comedy** and **action** are the most represented genres\n",
    "\n",
    "Our other datasets included data on films up til 2019. In those, comedy was farther from the top spot. Did the need to laugh increase after 2020?\n",
    "\n",
    "Netflix also represents at-home viewing. Streaming is a different market than box-office. If Microsoft Movie Studio is planning a streaming service or delivering content to viewers at home, comedy should be something to consider"
   ]
  },
  {
   "cell_type": "markdown",
   "metadata": {},
   "source": [
    "&nbsp;\n",
    "### Film adaptations of video games, sorted by worldwide box-office\n",
    "&nbsp;"
   ]
  },
  {
   "cell_type": "code",
   "execution_count": 139,
   "metadata": {},
   "outputs": [
    {
     "data": {
      "text/plain": [
       "Text(0.5, 1.0, 'Video Game Movies Worldwide Box Office')"
      ]
     },
     "execution_count": 139,
     "metadata": {},
     "output_type": "execute_result"
    },
    {
     "data": {
      "image/png": "[encoded data removed]",
      "text/plain": [
       "<Figure size 432x288 with 1 Axes>"
      ]
     },
     "metadata": {
      "needs_background": "light"
     },
     "output_type": "display_data"
    }
   ],
   "source": [
    "ax = sns.barplot(data=vid_games_plt_data, x='Title', y=vid_games_plt_data['Worldwide box office'] / 1000000)\n",
    "\n",
    "sns.set(rc={'axes.facecolor':(0,0,0,0), 'figure.facecolor':(0,0,0,0)})\n",
    "ax.set_xticklabels(ax.get_xticklabels(), rotation=40, ha=\"right\", rotation_mode='anchor')\n",
    "ax.set_xlabel('Movie Titles')\n",
    "ax.set_ylabel('Worldwide Box Office \\n ($ millions)')\n",
    "ax.set_title('Video Game Movies Worldwide Box Office')\n",
    "# plt.savefig('./zippedData/video game movies worldwide box office', bbox_inches='tight', dpi=300);"
   ]
  },
  {
   "cell_type": "markdown",
   "metadata": {},
   "source": [
    "## Evaluation\n",
    "\n",
    "Our analysis suggests the most impactful genres over all datasets spanning a wide time range were Action-Adventure and Drama. Using very recent data from streaming film statistics, we note that the current trends indicate a shift towards an increase in demand for Comedy films. As people's preference for movie viewing has shifted more towards streaming at home and on mobile devices, the trend for Comedy preference could be interpreted as translating better to small-screen viewing, as opposed to Action-Adventure films being more suited to big screen theatrical releases due to their highly sensory nature. One striking and relevant indication we discovered is the strong box office return for movies based on video game franchises. This seems like a natural outlet for Microsoft, given the large quantity of popular video game titles in Microsoft's product library."
   ]
  },
  {
   "cell_type": "markdown",
   "metadata": {},
   "source": [
    "## Conclusions\n",
    "\n",
    "Based on the consistent high performance of Action-Adventure and Drama films over time, and knowing the high returns on previous video game films, Microsoft should consider basing their initial movie studio production in their well regarded video game titles corresponding to these genres. The possible shift towards an interest in comedy is something to be further explored, and incorporated in order to be ahead of the curve on changes in viewership trends. Future predictive analysis beyond the scope of our project would be advised in this area, as our streaming data only spanned one year's time. There is also an untapped potential of utilizing Microsoft's knowledge and technology base in VR/AR to further enhance movie viewer immersion, as well as blending patronage across product market bases."
   ]
  },
  {
   "cell_type": "code",
   "execution_count": null,
   "metadata": {},
   "outputs": [],
   "source": []
  }
 ],
 "metadata": {
  "kernelspec": {
   "display_name": "Python (learn-env)",
   "language": "python",
   "name": "learn-env"
  },
  "language_info": {
   "codemirror_mode": {
    "name": "ipython",
    "version": 3
   },
   "file_extension": ".py",
   "mimetype": "text/x-python",
   "name": "python",
   "nbconvert_exporter": "python",
   "pygments_lexer": "ipython3",
   "version": "3.8.5"
  }
 },
 "nbformat": 4,
 "nbformat_minor": 4
}
