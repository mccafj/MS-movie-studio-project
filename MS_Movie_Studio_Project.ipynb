{
 "cells": [
  {
   "cell_type": "markdown",
   "metadata": {},
   "source": [
    "# Microsoft Movie Studio Proposal\n",
    "\n",
    "\n",
    "**Authors:** Juan Acosta, Holly Gultiano, and Jon McCaffrey\n",
    "***"
   ]
  },
  {
   "cell_type": "markdown",
   "metadata": {},
   "source": [
    "## Overview\n",
    "\n",
    "Our project presents current trends in the film market. Using exploratory and expository data analysis techniques in Python, we are able to give Microsoft Movie Studio recommendations on the most popular and profitable genres of film, as well as the best outlet for movie release, and how Microsoft could use its own intellectual property to expand into the growing market of video game inspired movies.\n"
   ]
  },
  {
   "cell_type": "markdown",
   "metadata": {},
   "source": [
    "## Business Challenge\n",
    "\n",
    "Microsoft is starting a movie studio (in this hypothetical example) and are looking to make significant impact as soon as possible in this sector. Our group's aim is to give actionable direction for them to go with this project, driven by real world data from the film industry. These included such data as viewer statistics and revenue, since they are the strongest indicators of success in the entertainment industry."
   ]
  },
  {
   "cell_type": "markdown",
   "metadata": {},
   "source": [
    "## Data Understanding\n",
    "\n",
    "Our sources of data included IMDB, Box Office Mojo, The Movie Database, The-Numbers Movie Budgets, Kaggle, MPA reports, and Netflix. The variables we found to be most useful are box office and streaming revenue, genre IDs, user ratings, TMDB popularity metric, total viewer counts, and hours watched for streaming content. For numeric variables, we use summed totals and statistical measures such as averages, and categorical data was cleaned and organized to make it smoothly operable with the numerical data."
   ]
  },
  {
   "cell_type": "code",
   "execution_count": 1,
   "metadata": {},
   "outputs": [],
   "source": [
    "# Import standard packages\n",
    "import pandas as pd\n",
    "import numpy as np\n",
    "import matplotlib.pyplot as plt\n",
    "from matplotlib.ticker import FormatStrFormatter, StrMethodFormatter\n",
    "import seaborn as sns\n",
    "\n",
    "%matplotlib inline"
   ]
  },
  {
   "cell_type": "markdown",
   "metadata": {},
   "source": [
    "### TMDB Dataset"
   ]
  },
  {
   "cell_type": "code",
   "execution_count": 2,
   "metadata": {
    "scrolled": true
   },
   "outputs": [
    {
     "name": "stdout",
     "output_type": "stream",
     "text": [
      "<class 'pandas.core.frame.DataFrame'>\n",
      "RangeIndex: 26517 entries, 0 to 26516\n",
      "Data columns (total 10 columns):\n",
      " #   Column             Non-Null Count  Dtype  \n",
      "---  ------             --------------  -----  \n",
      " 0   Unnamed: 0         26517 non-null  int64  \n",
      " 1   genre_ids          26517 non-null  object \n",
      " 2   id                 26517 non-null  int64  \n",
      " 3   original_language  26517 non-null  object \n",
      " 4   original_title     26517 non-null  object \n",
      " 5   popularity         26517 non-null  float64\n",
      " 6   release_date       26517 non-null  object \n",
      " 7   title              26517 non-null  object \n",
      " 8   vote_average       26517 non-null  float64\n",
      " 9   vote_count         26517 non-null  int64  \n",
      "dtypes: float64(2), int64(3), object(5)\n",
      "memory usage: 2.0+ MB\n"
     ]
    }
   ],
   "source": [
    "df_tmdb = pd.read_csv('./zippedData/tmdb.movies.csv.gz')\n",
    "df_tmdb.info()"
   ]
  },
  {
   "cell_type": "markdown",
   "metadata": {},
   "source": [
    "### Box Office Mojo Dataset"
   ]
  },
  {
   "cell_type": "code",
   "execution_count": 3,
   "metadata": {
    "scrolled": true
   },
   "outputs": [
    {
     "name": "stdout",
     "output_type": "stream",
     "text": [
      "<class 'pandas.core.frame.DataFrame'>\n",
      "RangeIndex: 3387 entries, 0 to 3386\n",
      "Data columns (total 5 columns):\n",
      " #   Column          Non-Null Count  Dtype  \n",
      "---  ------          --------------  -----  \n",
      " 0   title           3387 non-null   object \n",
      " 1   studio          3382 non-null   object \n",
      " 2   domestic_gross  3359 non-null   float64\n",
      " 3   foreign_gross   2037 non-null   object \n",
      " 4   year            3387 non-null   int64  \n",
      "dtypes: float64(1), int64(1), object(3)\n",
      "memory usage: 132.4+ KB\n"
     ]
    }
   ],
   "source": [
    "pd.read_csv('./zippedData/bom.movie_gross.csv.gz').info()"
   ]
  },
  {
   "cell_type": "markdown",
   "metadata": {},
   "source": [
    "### The-Numbers Movie Budgets Dataset"
   ]
  },
  {
   "cell_type": "code",
   "execution_count": 4,
   "metadata": {},
   "outputs": [
    {
     "name": "stdout",
     "output_type": "stream",
     "text": [
      "<class 'pandas.core.frame.DataFrame'>\n",
      "RangeIndex: 5782 entries, 0 to 5781\n",
      "Data columns (total 6 columns):\n",
      " #   Column             Non-Null Count  Dtype \n",
      "---  ------             --------------  ----- \n",
      " 0   id                 5782 non-null   int64 \n",
      " 1   release_date       5782 non-null   object\n",
      " 2   movie              5782 non-null   object\n",
      " 3   production_budget  5782 non-null   object\n",
      " 4   domestic_gross     5782 non-null   object\n",
      " 5   worldwide_gross    5782 non-null   object\n",
      "dtypes: int64(1), object(5)\n",
      "memory usage: 271.2+ KB\n"
     ]
    }
   ],
   "source": [
    "pd.read_csv('./zippedData/tn.movie_budgets.csv.gz').info()"
   ]
  },
  {
   "cell_type": "markdown",
   "metadata": {},
   "source": [
    "### Netflix Dataset\n",
    "\n",
    "[Top viewed Netflix content globally](https://top10.netflix.com/data/all-weeks-global.tsv)"
   ]
  },
  {
   "cell_type": "code",
   "execution_count": 5,
   "metadata": {
    "scrolled": true
   },
   "outputs": [
    {
     "name": "stdout",
     "output_type": "stream",
     "text": [
      "<class 'pandas.core.frame.DataFrame'>\n",
      "RangeIndex: 2600 entries, 0 to 2599\n",
      "Data columns (total 7 columns):\n",
      " #   Column                      Non-Null Count  Dtype \n",
      "---  ------                      --------------  ----- \n",
      " 0   week                        2600 non-null   object\n",
      " 1   category                    2600 non-null   object\n",
      " 2   weekly_rank                 2600 non-null   int64 \n",
      " 3   show_title                  2600 non-null   object\n",
      " 4   season_title                1267 non-null   object\n",
      " 5   weekly_hours_viewed         2600 non-null   int64 \n",
      " 6   cumulative_weeks_in_top_10  2600 non-null   int64 \n",
      "dtypes: int64(3), object(4)\n",
      "memory usage: 142.3+ KB\n"
     ]
    }
   ],
   "source": [
    "pd.read_csv('./zippedData/all-weeks-global.tsv', delimiter='\\t').info()"
   ]
  },
  {
   "cell_type": "markdown",
   "metadata": {},
   "source": [
    "### Kaggle Video game Dataset\n",
    "\n",
    "[video_game_films.csv at Kaggle.com](https://www.kaggle.com/datasets/bcruise/film-adaptations-of-video-games)"
   ]
  },
  {
   "cell_type": "code",
   "execution_count": 6,
   "metadata": {
    "scrolled": true
   },
   "outputs": [
    {
     "name": "stdout",
     "output_type": "stream",
     "text": [
      "<class 'pandas.core.frame.DataFrame'>\n",
      "RangeIndex: 42 entries, 0 to 41\n",
      "Data columns (total 7 columns):\n",
      " #   Column                   Non-Null Count  Dtype  \n",
      "---  ------                   --------------  -----  \n",
      " 0   Title                    42 non-null     object \n",
      " 1   Release date             42 non-null     object \n",
      " 2   Worldwide box office     42 non-null     float64\n",
      " 3   Rotten Tomatoes          40 non-null     float64\n",
      " 4   Metacritic               38 non-null     float64\n",
      " 5   Distributor              42 non-null     object \n",
      " 6   Original game publisher  42 non-null     object \n",
      "dtypes: float64(3), object(4)\n",
      "memory usage: 2.4+ KB\n"
     ]
    }
   ],
   "source": [
    "pd.read_csv('./zippedData/video_game_films.csv').info()"
   ]
  },
  {
   "cell_type": "markdown",
   "metadata": {},
   "source": [
    "### Motion Pictures Association THEME reports, 2018 and 2022\n",
    "\n",
    "https://www.mpa-apac.org/wp-content/uploads/2019/03/MPAA-THEME-Report-2018.pdf, and https://www.motionpictures.org/wp-content/uploads/2022/03/MPA-2021-THEME-Report-FINAL.pdf,"
   ]
  },
  {
   "cell_type": "markdown",
   "metadata": {},
   "source": [
    "## Data Preparation\n"
   ]
  },
  {
   "cell_type": "markdown",
   "metadata": {},
   "source": [
    "### The Movie Data Base\n",
    "- Able to sort by highest vote average, with conditional of movies with >10,000 vote counts\n",
    "- Then connected that to genre_ids category.\n",
    "- Found short list of what numbers in genre_ids translate too. Did not investigate API for full list\n",
    "- Completed comparisons using 'popularity' and 'vote_count' at the end\n",
    "- Removed duplicated titles from both datasets"
   ]
  },
  {
   "cell_type": "code",
   "execution_count": 7,
   "metadata": {},
   "outputs": [
    {
     "data": {
      "text/html": [
       "<div>\n",
       "<style scoped>\n",
       "    .dataframe tbody tr th:only-of-type {\n",
       "        vertical-align: middle;\n",
       "    }\n",
       "\n",
       "    .dataframe tbody tr th {\n",
       "        vertical-align: top;\n",
       "    }\n",
       "\n",
       "    .dataframe thead th {\n",
       "        text-align: right;\n",
       "    }\n",
       "</style>\n",
       "<table border=\"1\" class=\"dataframe\">\n",
       "  <thead>\n",
       "    <tr style=\"text-align: right;\">\n",
       "      <th></th>\n",
       "      <th>Unnamed: 0</th>\n",
       "      <th>genre_ids</th>\n",
       "      <th>id</th>\n",
       "      <th>original_language</th>\n",
       "      <th>original_title</th>\n",
       "      <th>popularity</th>\n",
       "      <th>release_date</th>\n",
       "      <th>title</th>\n",
       "      <th>vote_average</th>\n",
       "      <th>vote_count</th>\n",
       "    </tr>\n",
       "  </thead>\n",
       "  <tbody>\n",
       "    <tr>\n",
       "      <th>0</th>\n",
       "      <td>0</td>\n",
       "      <td>[12, 14, 10751]</td>\n",
       "      <td>12444</td>\n",
       "      <td>en</td>\n",
       "      <td>Harry Potter and the Deathly Hallows: Part 1</td>\n",
       "      <td>33.533</td>\n",
       "      <td>2010-11-19</td>\n",
       "      <td>Harry Potter and the Deathly Hallows: Part 1</td>\n",
       "      <td>7.7</td>\n",
       "      <td>10788</td>\n",
       "    </tr>\n",
       "    <tr>\n",
       "      <th>1</th>\n",
       "      <td>1</td>\n",
       "      <td>[14, 12, 16, 10751]</td>\n",
       "      <td>10191</td>\n",
       "      <td>en</td>\n",
       "      <td>How to Train Your Dragon</td>\n",
       "      <td>28.734</td>\n",
       "      <td>2010-03-26</td>\n",
       "      <td>How to Train Your Dragon</td>\n",
       "      <td>7.7</td>\n",
       "      <td>7610</td>\n",
       "    </tr>\n",
       "    <tr>\n",
       "      <th>2</th>\n",
       "      <td>2</td>\n",
       "      <td>[12, 28, 878]</td>\n",
       "      <td>10138</td>\n",
       "      <td>en</td>\n",
       "      <td>Iron Man 2</td>\n",
       "      <td>28.515</td>\n",
       "      <td>2010-05-07</td>\n",
       "      <td>Iron Man 2</td>\n",
       "      <td>6.8</td>\n",
       "      <td>12368</td>\n",
       "    </tr>\n",
       "    <tr>\n",
       "      <th>3</th>\n",
       "      <td>3</td>\n",
       "      <td>[16, 35, 10751]</td>\n",
       "      <td>862</td>\n",
       "      <td>en</td>\n",
       "      <td>Toy Story</td>\n",
       "      <td>28.005</td>\n",
       "      <td>1995-11-22</td>\n",
       "      <td>Toy Story</td>\n",
       "      <td>7.9</td>\n",
       "      <td>10174</td>\n",
       "    </tr>\n",
       "    <tr>\n",
       "      <th>4</th>\n",
       "      <td>4</td>\n",
       "      <td>[28, 878, 12]</td>\n",
       "      <td>27205</td>\n",
       "      <td>en</td>\n",
       "      <td>Inception</td>\n",
       "      <td>27.920</td>\n",
       "      <td>2010-07-16</td>\n",
       "      <td>Inception</td>\n",
       "      <td>8.3</td>\n",
       "      <td>22186</td>\n",
       "    </tr>\n",
       "  </tbody>\n",
       "</table>\n",
       "</div>"
      ],
      "text/plain": [
       "   Unnamed: 0            genre_ids     id original_language  \\\n",
       "0           0      [12, 14, 10751]  12444                en   \n",
       "1           1  [14, 12, 16, 10751]  10191                en   \n",
       "2           2        [12, 28, 878]  10138                en   \n",
       "3           3      [16, 35, 10751]    862                en   \n",
       "4           4        [28, 878, 12]  27205                en   \n",
       "\n",
       "                                 original_title  popularity release_date  \\\n",
       "0  Harry Potter and the Deathly Hallows: Part 1      33.533   2010-11-19   \n",
       "1                      How to Train Your Dragon      28.734   2010-03-26   \n",
       "2                                    Iron Man 2      28.515   2010-05-07   \n",
       "3                                     Toy Story      28.005   1995-11-22   \n",
       "4                                     Inception      27.920   2010-07-16   \n",
       "\n",
       "                                          title  vote_average  vote_count  \n",
       "0  Harry Potter and the Deathly Hallows: Part 1           7.7       10788  \n",
       "1                      How to Train Your Dragon           7.7        7610  \n",
       "2                                    Iron Man 2           6.8       12368  \n",
       "3                                     Toy Story           7.9       10174  \n",
       "4                                     Inception           8.3       22186  "
      ]
     },
     "execution_count": 7,
     "metadata": {},
     "output_type": "execute_result"
    }
   ],
   "source": [
    "df_tmdb.head()"
   ]
  },
  {
   "cell_type": "markdown",
   "metadata": {},
   "source": [
    "Sorting the TMDB table by 'Vote Average'"
   ]
  },
  {
   "cell_type": "code",
   "execution_count": 8,
   "metadata": {},
   "outputs": [
    {
     "data": {
      "text/html": [
       "<div>\n",
       "<style scoped>\n",
       "    .dataframe tbody tr th:only-of-type {\n",
       "        vertical-align: middle;\n",
       "    }\n",
       "\n",
       "    .dataframe tbody tr th {\n",
       "        vertical-align: top;\n",
       "    }\n",
       "\n",
       "    .dataframe thead th {\n",
       "        text-align: right;\n",
       "    }\n",
       "</style>\n",
       "<table border=\"1\" class=\"dataframe\">\n",
       "  <thead>\n",
       "    <tr style=\"text-align: right;\">\n",
       "      <th></th>\n",
       "      <th>Unnamed: 0</th>\n",
       "      <th>genre_ids</th>\n",
       "      <th>id</th>\n",
       "      <th>original_language</th>\n",
       "      <th>original_title</th>\n",
       "      <th>popularity</th>\n",
       "      <th>release_date</th>\n",
       "      <th>title</th>\n",
       "      <th>vote_average</th>\n",
       "      <th>vote_count</th>\n",
       "    </tr>\n",
       "  </thead>\n",
       "  <tbody>\n",
       "    <tr>\n",
       "      <th>13258</th>\n",
       "      <td>13258</td>\n",
       "      <td>[99]</td>\n",
       "      <td>403294</td>\n",
       "      <td>en</td>\n",
       "      <td>9/11: Simulations</td>\n",
       "      <td>0.600</td>\n",
       "      <td>2014-07-04</td>\n",
       "      <td>9/11: Simulations</td>\n",
       "      <td>10.0</td>\n",
       "      <td>1</td>\n",
       "    </tr>\n",
       "    <tr>\n",
       "      <th>22787</th>\n",
       "      <td>22787</td>\n",
       "      <td>[27, 35]</td>\n",
       "      <td>444170</td>\n",
       "      <td>en</td>\n",
       "      <td>Lasagna Cat - Telephone Sex Survey Results</td>\n",
       "      <td>0.722</td>\n",
       "      <td>2017-02-23</td>\n",
       "      <td>Lasagna Cat - Telephone Sex Survey Results</td>\n",
       "      <td>10.0</td>\n",
       "      <td>1</td>\n",
       "    </tr>\n",
       "    <tr>\n",
       "      <th>22592</th>\n",
       "      <td>22592</td>\n",
       "      <td>[99]</td>\n",
       "      <td>488357</td>\n",
       "      <td>en</td>\n",
       "      <td>MOTO 9: The Movie</td>\n",
       "      <td>0.900</td>\n",
       "      <td>2017-11-21</td>\n",
       "      <td>MOTO 9: The Movie</td>\n",
       "      <td>10.0</td>\n",
       "      <td>1</td>\n",
       "    </tr>\n",
       "    <tr>\n",
       "      <th>22607</th>\n",
       "      <td>22607</td>\n",
       "      <td>[]</td>\n",
       "      <td>437448</td>\n",
       "      <td>en</td>\n",
       "      <td>The Letter Carrier</td>\n",
       "      <td>0.895</td>\n",
       "      <td>2017-01-27</td>\n",
       "      <td>The Letter Carrier</td>\n",
       "      <td>10.0</td>\n",
       "      <td>1</td>\n",
       "    </tr>\n",
       "    <tr>\n",
       "      <th>22610</th>\n",
       "      <td>22610</td>\n",
       "      <td>[9648, 37, 18, 10402]</td>\n",
       "      <td>463601</td>\n",
       "      <td>en</td>\n",
       "      <td>Hope This Goes Over Well/Living in an Empty World</td>\n",
       "      <td>0.894</td>\n",
       "      <td>2017-06-26</td>\n",
       "      <td>Hope This Goes Over Well/Living in an Empty World</td>\n",
       "      <td>10.0</td>\n",
       "      <td>1</td>\n",
       "    </tr>\n",
       "    <tr>\n",
       "      <th>...</th>\n",
       "      <td>...</td>\n",
       "      <td>...</td>\n",
       "      <td>...</td>\n",
       "      <td>...</td>\n",
       "      <td>...</td>\n",
       "      <td>...</td>\n",
       "      <td>...</td>\n",
       "      <td>...</td>\n",
       "      <td>...</td>\n",
       "      <td>...</td>\n",
       "    </tr>\n",
       "    <tr>\n",
       "      <th>11018</th>\n",
       "      <td>11018</td>\n",
       "      <td>[]</td>\n",
       "      <td>124727</td>\n",
       "      <td>en</td>\n",
       "      <td>Darkchylde</td>\n",
       "      <td>0.600</td>\n",
       "      <td>2013-08-09</td>\n",
       "      <td>Darkchylde</td>\n",
       "      <td>0.0</td>\n",
       "      <td>1</td>\n",
       "    </tr>\n",
       "    <tr>\n",
       "      <th>14168</th>\n",
       "      <td>14168</td>\n",
       "      <td>[]</td>\n",
       "      <td>167531</td>\n",
       "      <td>en</td>\n",
       "      <td>Summer Snow</td>\n",
       "      <td>0.600</td>\n",
       "      <td>2014-07-25</td>\n",
       "      <td>Summer Snow</td>\n",
       "      <td>0.0</td>\n",
       "      <td>1</td>\n",
       "    </tr>\n",
       "    <tr>\n",
       "      <th>14167</th>\n",
       "      <td>14167</td>\n",
       "      <td>[99, 10402]</td>\n",
       "      <td>221918</td>\n",
       "      <td>en</td>\n",
       "      <td>Butch Walker:  Out of Focus</td>\n",
       "      <td>0.600</td>\n",
       "      <td>2014-08-05</td>\n",
       "      <td>Butch Walker:  Out of Focus</td>\n",
       "      <td>0.0</td>\n",
       "      <td>1</td>\n",
       "    </tr>\n",
       "    <tr>\n",
       "      <th>20601</th>\n",
       "      <td>20601</td>\n",
       "      <td>[18, 35]</td>\n",
       "      <td>448105</td>\n",
       "      <td>en</td>\n",
       "      <td>The Angry Man</td>\n",
       "      <td>0.600</td>\n",
       "      <td>2017-04-08</td>\n",
       "      <td>The Angry Man</td>\n",
       "      <td>0.0</td>\n",
       "      <td>1</td>\n",
       "    </tr>\n",
       "    <tr>\n",
       "      <th>26516</th>\n",
       "      <td>26516</td>\n",
       "      <td>[53, 27]</td>\n",
       "      <td>309885</td>\n",
       "      <td>en</td>\n",
       "      <td>The Church</td>\n",
       "      <td>0.600</td>\n",
       "      <td>2018-10-05</td>\n",
       "      <td>The Church</td>\n",
       "      <td>0.0</td>\n",
       "      <td>1</td>\n",
       "    </tr>\n",
       "  </tbody>\n",
       "</table>\n",
       "<p>26517 rows × 10 columns</p>\n",
       "</div>"
      ],
      "text/plain": [
       "       Unnamed: 0              genre_ids      id original_language  \\\n",
       "13258       13258                   [99]  403294                en   \n",
       "22787       22787               [27, 35]  444170                en   \n",
       "22592       22592                   [99]  488357                en   \n",
       "22607       22607                     []  437448                en   \n",
       "22610       22610  [9648, 37, 18, 10402]  463601                en   \n",
       "...           ...                    ...     ...               ...   \n",
       "11018       11018                     []  124727                en   \n",
       "14168       14168                     []  167531                en   \n",
       "14167       14167            [99, 10402]  221918                en   \n",
       "20601       20601               [18, 35]  448105                en   \n",
       "26516       26516               [53, 27]  309885                en   \n",
       "\n",
       "                                          original_title  popularity  \\\n",
       "13258                                  9/11: Simulations       0.600   \n",
       "22787         Lasagna Cat - Telephone Sex Survey Results       0.722   \n",
       "22592                                  MOTO 9: The Movie       0.900   \n",
       "22607                                 The Letter Carrier       0.895   \n",
       "22610  Hope This Goes Over Well/Living in an Empty World       0.894   \n",
       "...                                                  ...         ...   \n",
       "11018                                         Darkchylde       0.600   \n",
       "14168                                        Summer Snow       0.600   \n",
       "14167                        Butch Walker:  Out of Focus       0.600   \n",
       "20601                                      The Angry Man       0.600   \n",
       "26516                                         The Church       0.600   \n",
       "\n",
       "      release_date                                              title  \\\n",
       "13258   2014-07-04                                  9/11: Simulations   \n",
       "22787   2017-02-23         Lasagna Cat - Telephone Sex Survey Results   \n",
       "22592   2017-11-21                                  MOTO 9: The Movie   \n",
       "22607   2017-01-27                                 The Letter Carrier   \n",
       "22610   2017-06-26  Hope This Goes Over Well/Living in an Empty World   \n",
       "...            ...                                                ...   \n",
       "11018   2013-08-09                                         Darkchylde   \n",
       "14168   2014-07-25                                        Summer Snow   \n",
       "14167   2014-08-05                        Butch Walker:  Out of Focus   \n",
       "20601   2017-04-08                                      The Angry Man   \n",
       "26516   2018-10-05                                         The Church   \n",
       "\n",
       "       vote_average  vote_count  \n",
       "13258          10.0           1  \n",
       "22787          10.0           1  \n",
       "22592          10.0           1  \n",
       "22607          10.0           1  \n",
       "22610          10.0           1  \n",
       "...             ...         ...  \n",
       "11018           0.0           1  \n",
       "14168           0.0           1  \n",
       "14167           0.0           1  \n",
       "20601           0.0           1  \n",
       "26516           0.0           1  \n",
       "\n",
       "[26517 rows x 10 columns]"
      ]
     },
     "execution_count": 8,
     "metadata": {},
     "output_type": "execute_result"
    }
   ],
   "source": [
    "top_vote_avg = df_tmdb.sort_values('vote_average', ascending=False)\n",
    "top_vote_avg"
   ]
  },
  {
   "cell_type": "markdown",
   "metadata": {},
   "source": [
    "Sorting by a vote count greater than 10,000 and a vote average greater than 7. Reason for doing that is to find the most widely-seen movies with the highest ratings."
   ]
  },
  {
   "cell_type": "code",
   "execution_count": 9,
   "metadata": {},
   "outputs": [],
   "source": [
    "top_votes = top_vote_avg.loc[(top_vote_avg['vote_count'] > 10000) & (top_vote_avg['vote_average'] > 7)]\n",
    "top_votes = top_votes.sort_values('vote_average', ascending=False)"
   ]
  },
  {
   "cell_type": "code",
   "execution_count": 10,
   "metadata": {},
   "outputs": [],
   "source": [
    "top_votes = top_votes.drop_duplicates(subset='title')"
   ]
  },
  {
   "cell_type": "code",
   "execution_count": 11,
   "metadata": {},
   "outputs": [],
   "source": [
    "top_10_votes = top_votes[:10] #Selecting out the top 10 of that list\n"
   ]
  },
  {
   "cell_type": "markdown",
   "metadata": {},
   "source": [
    "Determining movie popularity based on TMDB 'popularity' metric for movies with popularity greater than 40 and vote count greater than a 1000"
   ]
  },
  {
   "cell_type": "code",
   "execution_count": 12,
   "metadata": {},
   "outputs": [],
   "source": [
    "most_popular = top_vote_avg.loc[(top_vote_avg['popularity'] > 40) & (top_vote_avg['vote_count'] > 1000)]\n",
    "most_popular = most_popular.sort_values('popularity', ascending=False)"
   ]
  },
  {
   "cell_type": "code",
   "execution_count": 13,
   "metadata": {},
   "outputs": [],
   "source": [
    "most_popular = most_popular.drop_duplicates(subset='title')"
   ]
  },
  {
   "cell_type": "code",
   "execution_count": 14,
   "metadata": {},
   "outputs": [],
   "source": [
    "most_popular_ten = most_popular[:10] #top 10 from most popular table\n"
   ]
  },
  {
   "cell_type": "markdown",
   "metadata": {},
   "source": [
    "### The-Numbers Movie Budgets Dataset\n",
    "\n",
    "- TN Dataset contains box-office performance data for all movies based on its respective genre.\n",
    "- After cleaning the dataset, merged TN and TMDB, and Genre ID for each movie could be associated with its own box-office data."
   ]
  },
  {
   "cell_type": "code",
   "execution_count": 15,
   "metadata": {},
   "outputs": [],
   "source": [
    "df_tn = pd.read_csv('./zippedData/tn.movie_budgets.csv.gz')"
   ]
  },
  {
   "cell_type": "markdown",
   "metadata": {},
   "source": [
    "Transform all numeric columns from object to int"
   ]
  },
  {
   "cell_type": "code",
   "execution_count": 16,
   "metadata": {},
   "outputs": [],
   "source": [
    "#Removing all commas and $ signs from production_budget column\n",
    "df_tn['production_budget'] = df_tn['production_budget'].str.replace(',','')\n",
    "df_tn['production_budget'] = df_tn['production_budget'].str.replace('$','')\n",
    "\n",
    "#Removing all commas and $ signs from domestic_gross column\n",
    "df_tn['domestic_gross'] = df_tn['domestic_gross'].str.replace(',','')\n",
    "df_tn['domestic_gross'] = df_tn['domestic_gross'].str.replace('$','')\n",
    "\n",
    "#Removing all commas and $ signs from worldwide_gross column\n",
    "df_tn['worldwide_gross'] = df_tn['worldwide_gross'].str.replace(',','')\n",
    "df_tn['worldwide_gross'] = df_tn['worldwide_gross'].str.replace('$','')\n"
   ]
  },
  {
   "cell_type": "code",
   "execution_count": 17,
   "metadata": {},
   "outputs": [],
   "source": [
    "#Converting values from str to int\n",
    "df_tn['production_budget'] = df_tn['production_budget'].astype(int)\n",
    "df_tn['domestic_gross'] = df_tn['domestic_gross'].astype(int)\n",
    "df_tn['worldwide_gross'] = df_tn['worldwide_gross'].astype(int)"
   ]
  },
  {
   "cell_type": "markdown",
   "metadata": {},
   "source": [
    "Creating a new column for gross profit, substracting production budget from total worldwide_gross"
   ]
  },
  {
   "cell_type": "code",
   "execution_count": 18,
   "metadata": {},
   "outputs": [],
   "source": [
    "df_tn['gross_profit']= df_tn['worldwide_gross'] - df_tn['production_budget']"
   ]
  },
  {
   "cell_type": "code",
   "execution_count": 19,
   "metadata": {},
   "outputs": [],
   "source": [
    "df_tn['gross_profit_by_millions'] = df_tn['gross_profit']/10000"
   ]
  },
  {
   "cell_type": "markdown",
   "metadata": {},
   "source": [
    "#### Merging two data frames to get genre column into frame with movies earnings\n",
    "\n",
    "Merging TMDB and TN data frames, TMDB contains movie's genres column and TN has gross profit information, by merging the two frames we can find which generes had better results in the box office."
   ]
  },
  {
   "cell_type": "code",
   "execution_count": 20,
   "metadata": {
    "scrolled": true
   },
   "outputs": [],
   "source": [
    "#set movie column as index, therefore both dataframes can merge based on matching values from its respective index\n",
    "df_tmdb_2 = df_tmdb.set_index(['title'])\n",
    "df_tn.set_index(['movie'], inplace= True)"
   ]
  },
  {
   "cell_type": "code",
   "execution_count": 21,
   "metadata": {},
   "outputs": [],
   "source": [
    "merged_df = df_tn.merge(df_tmdb_2, how = 'inner', left_index=True, right_index=True)\n"
   ]
  },
  {
   "cell_type": "code",
   "execution_count": 22,
   "metadata": {},
   "outputs": [],
   "source": [
    "# Dropping columns with missing info\n",
    "merged_df.loc[merged_df['genre_ids'] == '[]', 'genre_ids'] = None\n",
    "\n",
    "merged_df = merged_df.dropna(subset=['genre_ids'])"
   ]
  },
  {
   "cell_type": "markdown",
   "metadata": {},
   "source": [
    "Changing values for each genre id number to its respective name\n",
    "\n",
    "[Genre ID values and Asociated name URL](https://www.themoviedb.org/talk/5daf6eb0ae36680011d7e6ee)\n"
   ]
  },
  {
   "cell_type": "code",
   "execution_count": 23,
   "metadata": {},
   "outputs": [],
   "source": [
    "merged_df['genre_ids'] = merged_df['genre_ids'].str.replace('12', 'Adventure')\n",
    "merged_df['genre_ids'] = merged_df['genre_ids'].str.replace('28', 'Action')\n",
    "merged_df['genre_ids'] = merged_df['genre_ids'].str.replace('16', 'Animation')\n",
    "merged_df['genre_ids'] = merged_df['genre_ids'].str.replace('35', 'Comedy')\n",
    "merged_df['genre_ids'] = merged_df['genre_ids'].str.replace('80', 'Crime')\n",
    "merged_df['genre_ids'] = merged_df['genre_ids'].str.replace('99', 'Documentary')\n",
    "merged_df['genre_ids'] = merged_df['genre_ids'].str.replace('18', 'Drama')\n",
    "merged_df['genre_ids'] = merged_df['genre_ids'].str.replace('10751', 'Family')\n",
    "merged_df['genre_ids'] = merged_df['genre_ids'].str.replace('14', 'Fantasy')\n",
    "merged_df['genre_ids'] = merged_df['genre_ids'].str.replace('36', 'History')\n",
    "merged_df['genre_ids'] = merged_df['genre_ids'].str.replace('27', 'Horror')\n",
    "merged_df['genre_ids'] = merged_df['genre_ids'].str.replace('10402', 'Music')\n",
    "merged_df['genre_ids'] = merged_df['genre_ids'].str.replace('9648', 'Mystery')\n",
    "merged_df['genre_ids'] = merged_df['genre_ids'].str.replace('10749', 'Romance')\n",
    "merged_df['genre_ids'] = merged_df['genre_ids'].str.replace('878', 'Science Fiction')\n",
    "merged_df['genre_ids'] = merged_df['genre_ids'].str.replace('10770', 'TV Movie')\n",
    "merged_df['genre_ids'] = merged_df['genre_ids'].str.replace('53', 'Thriller')\n",
    "merged_df['genre_ids'] = merged_df['genre_ids'].str.replace('10752', 'War')\n",
    "merged_df['genre_ids'] = merged_df['genre_ids'].str.replace('37', 'Western')"
   ]
  },
  {
   "cell_type": "markdown",
   "metadata": {},
   "source": [
    "#### Save as new file"
   ]
  },
  {
   "cell_type": "code",
   "execution_count": 24,
   "metadata": {},
   "outputs": [],
   "source": [
    "# merged_df.to_csv('Merged_df_TMDB_TN.csv')"
   ]
  },
  {
   "cell_type": "code",
   "execution_count": 25,
   "metadata": {},
   "outputs": [],
   "source": [
    "df_TMDB_TN = pd.read_csv('./zippedData/Merged_df_TMDB_TN.csv')"
   ]
  },
  {
   "cell_type": "markdown",
   "metadata": {},
   "source": [
    "Determining top 10 movies based on highest profit at the Box-office"
   ]
  },
  {
   "cell_type": "code",
   "execution_count": 26,
   "metadata": {},
   "outputs": [],
   "source": [
    "df_top_movies = df_TMDB_TN.sort_values(by=['gross_profit_by_millions'], ascending=False).head(10)"
   ]
  },
  {
   "cell_type": "markdown",
   "metadata": {},
   "source": [
    "&nbsp;\n",
    "\n",
    "## What About Streaming?\n",
    "\n",
    "According to recent reports by the Motion Picture Association [1](https://www.mpa-apac.org/wp-content/uploads/2019/03/MPAA-THEME-Report-2018.pdf),[2](https://www.motionpictures.org/wp-content/uploads/2022/03/MPA-2021-THEME-Report-FINAL.pdf), revenue from films released digitally through streaming services such as Netflix, Hulu, Disney+, and Amazon Prime Video increased by **459% globally** from 2014 to 2021. The total revenue generated in 2021 from digital releases globally was **$72** **Billion**"
   ]
  },
  {
   "cell_type": "markdown",
   "metadata": {},
   "source": [
    "&nbsp;\n",
    "\n",
    "#### Streaming Revenue is Higher Than Box Office Revenue\n",
    "\n",
    "Even in 2017 & 2018, before people were spending more time at home from the pandemic, streaming revenue was **$22.25 billion more** than box office revenue (according to the Motion Picture Association report above)"
   ]
  },
  {
   "cell_type": "code",
   "execution_count": 27,
   "metadata": {},
   "outputs": [
    {
     "data": {
      "text/plain": [
       "22251047806.0"
      ]
     },
     "execution_count": 27,
     "metadata": {},
     "output_type": "execute_result"
    }
   ],
   "source": [
    "box_rev = pd.read_csv('./zippedData/bom.movie_gross.csv.gz')\n",
    "box_rev['total_gross'] = box_rev['domestic_gross'] + box_rev['domestic_gross']\n",
    "box_rev.head()\n",
    "\n",
    "box_rev_17_18 = box_rev[(box_rev.year == 2017) | (box_rev.year == 2018)] # unfortunately our data for box office revenue only goes up to the end of 2018\n",
    "total_box_rev_17_18 = box_rev_17_18['total_gross'].sum()\n",
    "\n",
    "total_digi_rev_17_18 = 66300000000 # from report numbers, digital 2017 + 2018, international + US\n",
    "\n",
    "total_digi_rev_17_18 - total_box_rev_17_18"
   ]
  },
  {
   "cell_type": "code",
   "execution_count": 28,
   "metadata": {},
   "outputs": [
    {
     "data": {
      "text/html": [
       "<div>\n",
       "<style scoped>\n",
       "    .dataframe tbody tr th:only-of-type {\n",
       "        vertical-align: middle;\n",
       "    }\n",
       "\n",
       "    .dataframe tbody tr th {\n",
       "        vertical-align: top;\n",
       "    }\n",
       "\n",
       "    .dataframe thead th {\n",
       "        text-align: right;\n",
       "    }\n",
       "</style>\n",
       "<table border=\"1\" class=\"dataframe\">\n",
       "  <thead>\n",
       "    <tr style=\"text-align: right;\">\n",
       "      <th></th>\n",
       "      <th>week</th>\n",
       "      <th>category</th>\n",
       "      <th>weekly_rank</th>\n",
       "      <th>show_title</th>\n",
       "      <th>season_title</th>\n",
       "      <th>weekly_hours_viewed</th>\n",
       "      <th>cumulative_weeks_in_top_10</th>\n",
       "    </tr>\n",
       "  </thead>\n",
       "  <tbody>\n",
       "    <tr>\n",
       "      <th>0</th>\n",
       "      <td>2022-09-25</td>\n",
       "      <td>Films (English)</td>\n",
       "      <td>1</td>\n",
       "      <td>Do Revenge</td>\n",
       "      <td>NaN</td>\n",
       "      <td>42550000</td>\n",
       "      <td>2</td>\n",
       "    </tr>\n",
       "    <tr>\n",
       "      <th>1</th>\n",
       "      <td>2022-09-25</td>\n",
       "      <td>Films (English)</td>\n",
       "      <td>2</td>\n",
       "      <td>Lou</td>\n",
       "      <td>NaN</td>\n",
       "      <td>40570000</td>\n",
       "      <td>1</td>\n",
       "    </tr>\n",
       "    <tr>\n",
       "      <th>2</th>\n",
       "      <td>2022-09-25</td>\n",
       "      <td>Films (English)</td>\n",
       "      <td>3</td>\n",
       "      <td>Father Stu</td>\n",
       "      <td>NaN</td>\n",
       "      <td>13770000</td>\n",
       "      <td>1</td>\n",
       "    </tr>\n",
       "    <tr>\n",
       "      <th>3</th>\n",
       "      <td>2022-09-25</td>\n",
       "      <td>Films (English)</td>\n",
       "      <td>4</td>\n",
       "      <td>I Used to Be Famous</td>\n",
       "      <td>NaN</td>\n",
       "      <td>11630000</td>\n",
       "      <td>1</td>\n",
       "    </tr>\n",
       "    <tr>\n",
       "      <th>4</th>\n",
       "      <td>2022-09-25</td>\n",
       "      <td>Films (English)</td>\n",
       "      <td>5</td>\n",
       "      <td>A Jazzman's Blues</td>\n",
       "      <td>NaN</td>\n",
       "      <td>7820000</td>\n",
       "      <td>1</td>\n",
       "    </tr>\n",
       "    <tr>\n",
       "      <th>...</th>\n",
       "      <td>...</td>\n",
       "      <td>...</td>\n",
       "      <td>...</td>\n",
       "      <td>...</td>\n",
       "      <td>...</td>\n",
       "      <td>...</td>\n",
       "      <td>...</td>\n",
       "    </tr>\n",
       "    <tr>\n",
       "      <th>2575</th>\n",
       "      <td>2021-07-04</td>\n",
       "      <td>Films (Non-English)</td>\n",
       "      <td>6</td>\n",
       "      <td>Security</td>\n",
       "      <td>NaN</td>\n",
       "      <td>2950000</td>\n",
       "      <td>1</td>\n",
       "    </tr>\n",
       "    <tr>\n",
       "      <th>2576</th>\n",
       "      <td>2021-07-04</td>\n",
       "      <td>Films (Non-English)</td>\n",
       "      <td>7</td>\n",
       "      <td>Murder by the Coast</td>\n",
       "      <td>NaN</td>\n",
       "      <td>2690000</td>\n",
       "      <td>1</td>\n",
       "    </tr>\n",
       "    <tr>\n",
       "      <th>2577</th>\n",
       "      <td>2021-07-04</td>\n",
       "      <td>Films (Non-English)</td>\n",
       "      <td>8</td>\n",
       "      <td>Xtreme</td>\n",
       "      <td>NaN</td>\n",
       "      <td>2650000</td>\n",
       "      <td>1</td>\n",
       "    </tr>\n",
       "    <tr>\n",
       "      <th>2578</th>\n",
       "      <td>2021-07-04</td>\n",
       "      <td>Films (Non-English)</td>\n",
       "      <td>9</td>\n",
       "      <td>Rurouni Kenshin: Origins</td>\n",
       "      <td>NaN</td>\n",
       "      <td>2150000</td>\n",
       "      <td>1</td>\n",
       "    </tr>\n",
       "    <tr>\n",
       "      <th>2579</th>\n",
       "      <td>2021-07-04</td>\n",
       "      <td>Films (Non-English)</td>\n",
       "      <td>10</td>\n",
       "      <td>Prime Time</td>\n",
       "      <td>NaN</td>\n",
       "      <td>2080000</td>\n",
       "      <td>1</td>\n",
       "    </tr>\n",
       "  </tbody>\n",
       "</table>\n",
       "<p>1300 rows × 7 columns</p>\n",
       "</div>"
      ],
      "text/plain": [
       "            week             category  weekly_rank                show_title  \\\n",
       "0     2022-09-25      Films (English)            1                Do Revenge   \n",
       "1     2022-09-25      Films (English)            2                       Lou   \n",
       "2     2022-09-25      Films (English)            3                Father Stu   \n",
       "3     2022-09-25      Films (English)            4       I Used to Be Famous   \n",
       "4     2022-09-25      Films (English)            5         A Jazzman's Blues   \n",
       "...          ...                  ...          ...                       ...   \n",
       "2575  2021-07-04  Films (Non-English)            6                  Security   \n",
       "2576  2021-07-04  Films (Non-English)            7       Murder by the Coast   \n",
       "2577  2021-07-04  Films (Non-English)            8                    Xtreme   \n",
       "2578  2021-07-04  Films (Non-English)            9  Rurouni Kenshin: Origins   \n",
       "2579  2021-07-04  Films (Non-English)           10                Prime Time   \n",
       "\n",
       "     season_title  weekly_hours_viewed  cumulative_weeks_in_top_10  \n",
       "0             NaN             42550000                           2  \n",
       "1             NaN             40570000                           1  \n",
       "2             NaN             13770000                           1  \n",
       "3             NaN             11630000                           1  \n",
       "4             NaN              7820000                           1  \n",
       "...           ...                  ...                         ...  \n",
       "2575          NaN              2950000                           1  \n",
       "2576          NaN              2690000                           1  \n",
       "2577          NaN              2650000                           1  \n",
       "2578          NaN              2150000                           1  \n",
       "2579          NaN              2080000                           1  \n",
       "\n",
       "[1300 rows x 7 columns]"
      ]
     },
     "execution_count": 28,
     "metadata": {},
     "output_type": "execute_result"
    }
   ],
   "source": [
    "netflix = pd.read_csv('./zippedData/all-weeks-global.tsv', delimiter='\\t') # time frame for this dataset is 6/28/21 to 9/25/22\n",
    "nf_movies = netflix[netflix['category'].str.contains('Film')]\n",
    "nf_movies"
   ]
  },
  {
   "cell_type": "markdown",
   "metadata": {},
   "source": [
    "Narrowing down the table to only the top movies"
   ]
  },
  {
   "cell_type": "code",
   "execution_count": 29,
   "metadata": {},
   "outputs": [],
   "source": [
    "top_movies = nf_movies[['show_title','weekly_hours_viewed']].sort_values(by='weekly_hours_viewed', ascending=False)\n",
    "top_movies.drop_duplicates(subset='show_title', inplace=True)\n",
    "top100 = top_movies[0:100]\n",
    "top20 = top_movies[0:20]\n",
    "top30 = top_movies[0:30]\n",
    "top50 = top_movies[0:50]\n",
    "top10 = top_movies[0:10]"
   ]
  },
  {
   "cell_type": "markdown",
   "metadata": {},
   "source": [
    "Preparation for a second plot showing top 10 most viewed generes"
   ]
  },
  {
   "cell_type": "code",
   "execution_count": 30,
   "metadata": {
    "scrolled": true
   },
   "outputs": [
    {
     "name": "stderr",
     "output_type": "stream",
     "text": [
      "<ipython-input-30-aa516f76990e>:3: SettingWithCopyWarning: \n",
      "A value is trying to be set on a copy of a slice from a DataFrame.\n",
      "Try using .loc[row_indexer,col_indexer] = value instead\n",
      "\n",
      "See the caveats in the documentation: https://pandas.pydata.org/pandas-docs/stable/user_guide/indexing.html#returning-a-view-versus-a-copy\n",
      "  top10['genre'] = top10_genres\n"
     ]
    }
   ],
   "source": [
    "top10_genres = ['Comedy', 'Action', 'Music', 'Action', 'Action', 'Comedy', 'Drama', 'Comedy', 'Drama', 'Comedy']\n",
    "len(top10_genres)\n",
    "top10['genre'] = top10_genres"
   ]
  },
  {
   "cell_type": "markdown",
   "metadata": {},
   "source": [
    "# Video Game Movies\n"
   ]
  },
  {
   "cell_type": "markdown",
   "metadata": {},
   "source": [
    "We found a dataset of movies based on video games, and sorted them by worldwide box-office"
   ]
  },
  {
   "cell_type": "code",
   "execution_count": 31,
   "metadata": {
    "scrolled": true
   },
   "outputs": [],
   "source": [
    "df_vid_game = pd.read_csv('./zippedData/video_game_films.csv')"
   ]
  },
  {
   "cell_type": "code",
   "execution_count": 32,
   "metadata": {},
   "outputs": [],
   "source": [
    "vid_games_box_off = df_vid_game.sort_values('Worldwide box office', ascending=False)\n",
    "vid_games_plt_data = vid_games_box_off[:10]\n"
   ]
  },
  {
   "cell_type": "markdown",
   "metadata": {},
   "source": [
    "## Data Modeling\n"
   ]
  },
  {
   "cell_type": "markdown",
   "metadata": {},
   "source": [
    "Plot below shows top 10 movies based on average rating\n",
    "- Blue: Action/Adventure\n",
    "- Black: Other"
   ]
  },
  {
   "cell_type": "code",
   "execution_count": 33,
   "metadata": {},
   "outputs": [
    {
     "data": {
      "image/png": "[encoded data removed]",
      "text/plain": [
       "<Figure size 432x288 with 1 Axes>"
      ]
     },
     "metadata": {
      "needs_background": "light"
     },
     "output_type": "display_data"
    }
   ],
   "source": [
    "# code for plot used on Action/Adventure slide\n",
    "\n",
    "ax = sns.barplot(data=top_10_votes, x='original_title', y='vote_average', \n",
    "                 palette = ['#25a6e0', '#25a6e0', '#25a6e0', 'black', 'black', '#25a6e0', 'black', 'black', 'black', 'black',\n",
    "                           'black', 'black', 'black', '#25a6e0', '#25a6e0', '#25a6e0', '#25a6e0', '#25a6e0', '#25a6e0', '#25a6e0'])\n",
    "\n",
    "sns.set(rc={'axes.facecolor':(0,0,0,0), 'figure.facecolor':(0,0,0,0)})\n",
    "ax.set_xticklabels(ax.get_xticklabels(), rotation=40, ha=\"right\", rotation_mode='anchor')\n",
    "ax.set_xlabel('Movie Titles')\n",
    "ax.set_ylabel('Avg Rating (>10K Counts)')\n",
    "ax.set_title('Highest Rated Movies from TMDB');\n",
    "\n",
    "#plt.savefig('./zippedData/highest rated movies from TMDB action adv', bbox_inches='tight', dpi=300);"
   ]
  },
  {
   "cell_type": "markdown",
   "metadata": {},
   "source": [
    "Plot below shows top 10 movies based on box-office profit\n",
    "\n",
    "Blue: Action\n",
    "Magenta: Comedy\n",
    "Black: Other"
   ]
  },
  {
   "cell_type": "code",
   "execution_count": 34,
   "metadata": {},
   "outputs": [
    {
     "data": {
      "image/png": "[encoded data removed]",
      "text/plain": [
       "<Figure size 432x288 with 1 Axes>"
      ]
     },
     "metadata": {
      "needs_background": "light"
     },
     "output_type": "display_data"
    }
   ],
   "source": [
    "ax = sns.barplot( x=df_top_movies['original_title'],\n",
    "                 y=df_top_movies['gross_profit_by_millions'],\n",
    "                 palette = (['#25a6e0', '#25a6e0', '#25a6e0', '#25a6e0', '#25a6e0', '#25a6e0', '#25a6e0',\n",
    "                             'black', 'black', 'magenta', '#25a6e0', '#25a6e0', '#25a6e0', '#25a6e0',\n",
    "                             '#25a6e0', 'magenta', '#25a6e0', '#25a6e0', 'black', 'magenta']), ci=None )\n",
    "\n",
    "\n",
    "\n",
    "ax.set_xticklabels(ax.get_xticklabels(), rotation=40, ha=\"right\", rotation_mode='anchor')\n",
    "ax.set_ylabel('Box office Profit \\n (millions $)')\n",
    "ax.set_xlabel('')\n",
    "ax.set_title('Top 10 Movies by Gross Profit');\n",
    "sns.set(rc={'axes.facecolor':(0,0,0,0), 'figure.facecolor':(0,0,0,0)})\n",
    "\n",
    "\n",
    "ax.yaxis.set_major_formatter(StrMethodFormatter('{x:,.0f}'))\n",
    "\n",
    "#plt.savefig('./zippedData/Top_10_Movies_by_Gross_Profit_5', bbox_inches='tight', dpi=300);\n",
    "# plt.gcf().axes[0].yaxis.get_major_formatter().set_scientific(False) "
   ]
  },
  {
   "cell_type": "markdown",
   "metadata": {},
   "source": [
    "Plot below shows top 10 movies based on average rating\n",
    "- Green: Drama\n",
    "- Black: Other"
   ]
  },
  {
   "cell_type": "code",
   "execution_count": 35,
   "metadata": {},
   "outputs": [
    {
     "data": {
      "image/png": "[encoded data removed]",
      "text/plain": [
       "<Figure size 432x288 with 1 Axes>"
      ]
     },
     "metadata": {
      "needs_background": "light"
     },
     "output_type": "display_data"
    }
   ],
   "source": [
    "# code for plot used on drama slide\n",
    "\n",
    "ax = sns.barplot(data=top_10_votes, x='original_title', y='vote_average', palette = ['black', 'black', '#4fb974', '#4fb974', '#4fb974', 'black', '#4fb974', '#4fb974', '#4fb974', '#4fb974',\n",
    "                                                                                    '#4fb974', 'black', '#4fb974', 'black', 'black', '#4fb974', '#4fb974', 'black', 'black', '#4fb974'])\n",
    "\n",
    "sns.set(rc={'axes.facecolor':(0,0,0,0), 'figure.facecolor':(0,0,0,0)})\n",
    "ax.set_xticklabels(ax.get_xticklabels(), rotation=40, ha=\"right\", rotation_mode='anchor')\n",
    "ax.set_xlabel('Movie Titles')\n",
    "ax.set_ylabel('Avg Rating (>10K Counts)')\n",
    "ax.set_title('Highest Rated Movies from TMDB');\n",
    "\n",
    "# plt.savefig('./zippedData/highest rated movies from TMDB drama', bbox_inches='tight', dpi=300);"
   ]
  },
  {
   "cell_type": "markdown",
   "metadata": {},
   "source": [
    "Plot below shows top 10 movies based on average rating\n",
    "\n",
    "- Magenta: Comedy\n",
    "- Black: Other"
   ]
  },
  {
   "cell_type": "code",
   "execution_count": 36,
   "metadata": {},
   "outputs": [
    {
     "data": {
      "image/png": "[encoded data removed]",
      "text/plain": [
       "<Figure size 432x288 with 1 Axes>"
      ]
     },
     "metadata": {
      "needs_background": "light"
     },
     "output_type": "display_data"
    }
   ],
   "source": [
    "# code for comedy plot\n",
    "\n",
    "ax = sns.barplot(data=top_10_votes, x='original_title', y='vote_average', palette = ['black', 'black', 'black', 'black', 'black', 'black', 'black', 'black', 'magenta', 'black',\n",
    "                                                                                    'magenta', 'magenta', 'magenta', 'black', 'magenta', 'black', 'black', 'black', 'black', 'black'])\n",
    "\n",
    "sns.set(rc={'axes.facecolor':(0,0,0,0), 'figure.facecolor':(0,0,0,0)})\n",
    "ax.set_xticklabels(ax.get_xticklabels(), rotation=40, ha=\"right\", rotation_mode='anchor')\n",
    "ax.set_xlabel('Movie Titles')\n",
    "ax.set_ylabel('Avg Rating (>10K Counts)')\n",
    "ax.set_title('Highest Rated Movies from TMDB');\n",
    "\n",
    "#plt.savefig('./zippedData/highest rated movies from TMDB comedy', bbox_inches='tight', dpi=300);"
   ]
  },
  {
   "cell_type": "markdown",
   "metadata": {},
   "source": [
    "&nbsp;\n",
    "\n",
    "&nbsp; \n",
    "\n",
    "Plot below demonstrates that all of the top 10 movies in the TMDB popularity category are Action movies"
   ]
  },
  {
   "cell_type": "code",
   "execution_count": 37,
   "metadata": {},
   "outputs": [
    {
     "data": {
      "image/png": "[encoded data removed]",
      "text/plain": [
       "<Figure size 432x288 with 1 Axes>"
      ]
     },
     "metadata": {
      "needs_background": "light"
     },
     "output_type": "display_data"
    }
   ],
   "source": [
    "# code for TMDB 'popularity' stats - ALL in action/adventure genre\n",
    "ax = sns.barplot(data=most_popular_ten, x='original_title', y='popularity', color='#25a6e0')\n",
    "\n",
    "sns.set(rc={'axes.facecolor':(0,0,0,0), 'figure.facecolor':(0,0,0,0)})\n",
    "ax.set_xticklabels(ax.get_xticklabels(), rotation=40, ha=\"right\", rotation_mode='anchor')\n",
    "ax.set_xlabel('Movie Titles')\n",
    "ax.set_ylabel('Popularity Rating on TMDB')\n",
    "ax.set_title('Most Popular Movie Titles from TMDB');\n",
    "# plt.savefig('./zippedData/most popular movie titles from TMDB', bbox_inches='tight', dpi=300);"
   ]
  },
  {
   "cell_type": "markdown",
   "metadata": {},
   "source": [
    "#### Streaming vs. Box Office Revenue Trends\n",
    "We examined the annual MPA reports (PDF format) for total global streaming revenue (separating out physical DVD sales) and compared it to total global box office revenue for the same time span, 2014-2021. We hard-coded in values for revenue and year"
   ]
  },
  {
   "cell_type": "code",
   "execution_count": 38,
   "metadata": {},
   "outputs": [
    {
     "data": {
      "image/png": "[encoded data removed]",
      "text/plain": [
       "<Figure size 432x288 with 1 Axes>"
      ]
     },
     "metadata": {
      "needs_background": "light"
     },
     "output_type": "display_data"
    }
   ],
   "source": [
    "mpa_rev = {'Year':[2014, 2015, 2016, 2017, 2018, 2019, 2020, 2021, 2014, 2015, 2016, 2017, 2018, 2019, 2020, 2021], 'Revenue':[15.7, 18.6, 25.1, 28.6, 37.7, 45.5, 60.7, 72.0, 36.4, 38.4, 38.8, 40.9, 41.8, 42.3, 11.8, 21.3], 'Type': ['Digital', 'Digital', 'Digital', 'Digital', 'Digital', 'Digital', 'Digital', 'Digital', 'Box Office', 'Box Office', 'Box Office', 'Box Office', 'Box Office', 'Box Office', 'Box Office', 'Box Office']}\n",
    "\n",
    "incr_rev = pd.DataFrame(data=mpa_rev)#.groupby('Type')\n",
    "\n",
    "\n",
    "ax= sns.lineplot(data=incr_rev, x='Year', y='Revenue', hue='Type', palette='icefire' )\n",
    "ax.legend(frameon=False)\n",
    "ax.set_ylabel('Revenue \\n ($ billions)')\n",
    "ax.set_xlabel('Year')\n",
    "ax.set_title('Digital vs Box Office Revenue')\n",
    "plt.ylim(bottom=0)\n",
    "\n",
    "sns.set(rc={'axes.facecolor':(0,0,0,0), 'figure.facecolor':(0,0,0,0)})\n",
    "#plt.show();\n",
    "#plt.savefig('./digi_vs_box_revenue3.png', bbox_inches='tight');"
   ]
  },
  {
   "cell_type": "code",
   "execution_count": 39,
   "metadata": {},
   "outputs": [],
   "source": [
    "top20_palette = ['magenta', '#25a6e0', 'black', '#25a6e0', '#25a6e0', 'magenta', '#4fb974', 'magenta', '#4fb974', 'magenta', 'magenta', '#25a6e0', 'black', '#25a6e0', '#25a6e0', 'magenta', 'magenta', 'magenta', '#25a6e0', '#25a6e0' ] \n",
    "# '#25a6e0' is action, magenta comedy, '#4fb974' drama, black for others (so, music, documentary)"
   ]
  },
  {
   "cell_type": "code",
   "execution_count": 40,
   "metadata": {},
   "outputs": [
    {
     "data": {
      "image/png": "[encoded data removed]",
      "text/plain": [
       "<Figure size 432x288 with 1 Axes>"
      ]
     },
     "metadata": {
      "needs_background": "light"
     },
     "output_type": "display_data"
    }
   ],
   "source": [
    "ax = sns.barplot(data=top10, x='show_title', y=top10['weekly_hours_viewed'] / 1000000, palette=top20_palette, dodge=False)\n",
    "ax.set_xticklabels(ax.get_xticklabels(), rotation=40, ha=\"right\", rotation_mode='anchor')\n",
    "ax.set_ylabel('Hours Viewed 2021-22 \\n (millions)')\n",
    "ax.set_xlabel('')\n",
    "ax.set_title('What People Are Watching on NetFlix Globally')\n",
    "plt.gcf().axes[0].yaxis.get_major_formatter().set_scientific(False) # this turns of scientific notation for numerical vals\n",
    "\n",
    "sns.set(rc={'axes.facecolor':(0,0,0,0), 'figure.facecolor':(0,0,0,0)})\n",
    "plt.show();\n",
    "# plt.savefig('./../Data/netflix_top20_titles_hours.png', bbox_inches='tight');"
   ]
  },
  {
   "cell_type": "markdown",
   "metadata": {},
   "source": [
    "### The top two movies have significantly more views than the rest\n",
    "*why is that?*\n",
    "\n",
    "&nbsp;\n",
    "\n",
    "The blurb about Netflix's \\#1 film, \"Don't Look Up\" https://www.dontlookup-movie.com/synopsis/\n",
    ">Two astronomers go on a media tour to warn humankind of a planet-killing comet hurtling toward Earth. The response from a distracted world: Meh.\n",
    "\n",
    "Compared with Netflix's description of \"Red Notice\" https://www.netflix.com/title/81161626\n",
    ">An FBI profiler pursuing the world's most wanted art thief becomes his reluctant partner in crime to catch an elusive crook who's always one step ahead.\n",
    "\n",
    "The two don't seem to have much in common, story-wise.\n",
    "\n",
    "&nbsp;\n",
    "\n",
    "&nbsp;\n",
    "\n",
    "\n",
    "### Genre as a Driver of Interest\n",
    "\n",
    "Let's look at the genres of the top 10 streamed movies in the 2021-2022 span\n",
    "&nbsp;\n",
    "\n",
    "&nbsp;"
   ]
  },
  {
   "cell_type": "code",
   "execution_count": 41,
   "metadata": {},
   "outputs": [
    {
     "data": {
      "image/png": "[encoded data removed]",
      "text/plain": [
       "<Figure size 432x288 with 1 Axes>"
      ]
     },
     "metadata": {
      "needs_background": "light"
     },
     "output_type": "display_data"
    }
   ],
   "source": [
    "ax = sns.scatterplot(x=top10['genre'], y=top10['weekly_hours_viewed'] / 1000000, hue=top10['genre'], palette=['magenta', '#25a6e0', 'black', '#4fb974'], legend=False, s=150, alpha=0.90)\n",
    "# ax.bar(top20['genre'], top20['weekly_hours_viewed'], width=width, bottom=0.0, color='red', alpha=0.5)\n",
    "ax.set_ylabel('Hours Viewed 2021-22 \\n (millions)')\n",
    "ax.set_xlabel('Genre')\n",
    "\n",
    "plt.gcf().axes[0].yaxis.get_major_formatter().set_scientific(False)\n",
    "sns.set(rc={'axes.facecolor':(0,0,0,0), 'figure.facecolor':(0,0,0,0)})\n",
    "\n",
    "# plt.savefig('./../Data/top20_genres.png', bbox_inches='tight');\n",
    "plt.show();"
   ]
  },
  {
   "cell_type": "markdown",
   "metadata": {},
   "source": [
    "The number of dots represent the different movies. We can see that both in total hours watched and number movies in each genre, **comedy** and **action** are the most represented genres\n",
    "\n",
    "Our other datasets included data on films up til 2019. In those, comedy was farther from the top spot. Did the need to laugh increase after 2020?\n",
    "\n",
    "Netflix also represents at-home viewing. Streaming is a different market than box-office. If Microsoft Movie Studio is planning a streaming service or delivering content to viewers at home, comedy should be something to consider"
   ]
  },
  {
   "cell_type": "markdown",
   "metadata": {},
   "source": [
    "&nbsp;\n",
    "### Film adaptations of video games, sorted by worldwide box-office\n",
    "&nbsp;"
   ]
  },
  {
   "cell_type": "code",
   "execution_count": 42,
   "metadata": {},
   "outputs": [
    {
     "data": {
      "image/png": "[encoded data removed]",
      "text/plain": [
       "<Figure size 432x288 with 1 Axes>"
      ]
     },
     "metadata": {
      "needs_background": "light"
     },
     "output_type": "display_data"
    }
   ],
   "source": [
    "ax = sns.barplot(data=vid_games_plt_data, x='Title', y=vid_games_plt_data['Worldwide box office'] / 1000000, palette= \"viridis\")\n",
    "\n",
    "sns.set(rc={'axes.facecolor':(0,0,0,0), 'figure.facecolor':(0,0,0,0)})\n",
    "ax.set_xticklabels(ax.get_xticklabels(), rotation=40, ha=\"right\", rotation_mode='anchor')\n",
    "ax.set_xlabel('Movie Titles')\n",
    "ax.set_ylabel('Worldwide Box Office \\n ($ millions)')\n",
    "ax.set_title('Video Game Movies Worldwide Box Office');\n",
    "#plt.savefig('./zippedData/video_game_movies_worldwide_box_office', bbox_inches='tight', dpi=300);"
   ]
  },
  {
   "cell_type": "markdown",
   "metadata": {},
   "source": [
    "## Evaluation\n",
    "\n",
    "Our analysis suggests the most impactful genres over all datasets spanning a wide time range were Action-Adventure and Drama. Using very recent data from streaming film statistics, we note that the current trends indicate a shift towards an increase in demand for Comedy films. As people's preference for movie viewing has shifted more towards streaming at home and on mobile devices, the trend for Comedy preference could be interpreted as translating better to small-screen viewing, as opposed to Action-Adventure films being more suited to big screen theatrical releases due to their highly sensory nature. One striking and relevant indication we discovered is the strong box office return for movies based on video game franchises. This seems like a natural outlet for Microsoft, given the large quantity of popular video game titles in Microsoft's product library."
   ]
  },
  {
   "cell_type": "markdown",
   "metadata": {},
   "source": [
    "## Conclusions\n",
    "\n",
    "Based on the consistent high performance of Action-Adventure and Drama films over time, and knowing the high returns on previous video game films, Microsoft should consider basing their initial movie studio production in their well regarded video game titles corresponding to these genres. The possible shift towards an interest in comedy is something to be further explored, and incorporated in order to be ahead of the curve on changes in viewership trends. Future predictive analysis beyond the scope of our project would be advised in this area, as our streaming data only spanned one year's time. There is also an untapped potential of utilizing Microsoft's knowledge and technology base in VR/AR to further enhance movie viewer immersion, as well as blending patronage across product market bases."
   ]
  }
 ],
 "metadata": {
  "kernelspec": {
   "display_name": "Python (learn-env)",
   "language": "python",
   "name": "learn-env"
  },
  "language_info": {
   "codemirror_mode": {
    "name": "ipython",
    "version": 3
   },
   "file_extension": ".py",
   "mimetype": "text/x-python",
   "name": "python",
   "nbconvert_exporter": "python",
   "pygments_lexer": "ipython3",
   "version": "3.8.5"
  }
 },
 "nbformat": 4,
 "nbformat_minor": 4
}
