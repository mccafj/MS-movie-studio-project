{
 "cells": [
  {
   "cell_type": "markdown",
   "metadata": {},
   "source": [
    "# Microsoft Movie Studio Project\n",
    "### Scratch notebook"
   ]
  },
  {
   "cell_type": "code",
   "execution_count": 96,
   "metadata": {},
   "outputs": [],
   "source": [
    "# Import standard packages\n",
    "import pandas as pd\n",
    "import numpy as np\n",
    "import matplotlib.pyplot as plt\n",
    "import seaborn as sns\n",
    "import sqlite3\n",
    "\n",
    "%matplotlib inline"
   ]
  },
  {
   "cell_type": "markdown",
   "metadata": {},
   "source": [
    "Folder with saved files "
   ]
  },
  {
   "cell_type": "code",
   "execution_count": 97,
   "metadata": {
    "scrolled": false
   },
   "outputs": [
    {
     "name": "stdout",
     "output_type": "stream",
     "text": [
      "GrossMargin_and_genre_df.csv\r\n",
      "Netflix_movies_and_tv_shows_clustering.csv.zip\r\n",
      "all-weeks-global.tsv\r\n",
      "bom.movie_gross.csv.gz\r\n",
      "highest rated movies from TMDB action adv.png\r\n",
      "highest rated movies from TMDB drama.png\r\n",
      "im.db.zip\r\n",
      "most popular movie titles from TMDB.png\r\n",
      "netflix_top20_titles_hours.png\r\n",
      "rt.movie_info.tsv.gz\r\n",
      "rt.reviews.tsv.gz\r\n",
      "tmdb.movies.csv.gz\r\n",
      "tn.movie_budgets.csv.gz\r\n",
      "top-netflix-scraper.ipynb\r\n",
      "video game movies worldwide box office.png\r\n",
      "video_game_films.csv\r\n"
     ]
    }
   ],
   "source": [
    "! ls ../zippedData/"
   ]
  },
  {
   "cell_type": "markdown",
   "metadata": {},
   "source": [
    "# Exploring bom.movie_gross.csv.gz"
   ]
  },
  {
   "cell_type": "code",
   "execution_count": 98,
   "metadata": {},
   "outputs": [
    {
     "name": "stdout",
     "output_type": "stream",
     "text": [
      "<class 'pandas.core.frame.DataFrame'>\n",
      "RangeIndex: 3387 entries, 0 to 3386\n",
      "Data columns (total 5 columns):\n",
      " #   Column          Non-Null Count  Dtype  \n",
      "---  ------          --------------  -----  \n",
      " 0   title           3387 non-null   object \n",
      " 1   studio          3382 non-null   object \n",
      " 2   domestic_gross  3359 non-null   float64\n",
      " 3   foreign_gross   2037 non-null   object \n",
      " 4   year            3387 non-null   int64  \n",
      "dtypes: float64(1), int64(1), object(3)\n",
      "memory usage: 132.4+ KB\n"
     ]
    }
   ],
   "source": [
    "df_bom = pd.read_csv('../zippedData/bom.movie_gross.csv.gz')\n",
    "df_bom.info()"
   ]
  },
  {
   "cell_type": "markdown",
   "metadata": {},
   "source": [
    "# Exploring rt.movie_info.tsv.gz"
   ]
  },
  {
   "cell_type": "code",
   "execution_count": 99,
   "metadata": {
    "scrolled": true
   },
   "outputs": [
    {
     "name": "stdout",
     "output_type": "stream",
     "text": [
      "<class 'pandas.core.frame.DataFrame'>\n",
      "RangeIndex: 1560 entries, 0 to 1559\n",
      "Data columns (total 12 columns):\n",
      " #   Column        Non-Null Count  Dtype \n",
      "---  ------        --------------  ----- \n",
      " 0   id            1560 non-null   int64 \n",
      " 1   synopsis      1498 non-null   object\n",
      " 2   rating        1557 non-null   object\n",
      " 3   genre         1552 non-null   object\n",
      " 4   director      1361 non-null   object\n",
      " 5   writer        1111 non-null   object\n",
      " 6   theater_date  1201 non-null   object\n",
      " 7   dvd_date      1201 non-null   object\n",
      " 8   currency      340 non-null    object\n",
      " 9   box_office    340 non-null    object\n",
      " 10  runtime       1530 non-null   object\n",
      " 11  studio        494 non-null    object\n",
      "dtypes: int64(1), object(11)\n",
      "memory usage: 146.4+ KB\n"
     ]
    }
   ],
   "source": [
    "df_rt = pd.read_csv('../zippedData/rt.movie_info.tsv.gz', delimiter='\\t')\n",
    "df_rt.info()"
   ]
  },
  {
   "cell_type": "markdown",
   "metadata": {},
   "source": [
    "# Exploring tmdb.movies.csv.gz"
   ]
  },
  {
   "cell_type": "code",
   "execution_count": 100,
   "metadata": {},
   "outputs": [
    {
     "name": "stdout",
     "output_type": "stream",
     "text": [
      "<class 'pandas.core.frame.DataFrame'>\n",
      "Int64Index: 26517 entries, 0 to 26516\n",
      "Data columns (total 9 columns):\n",
      " #   Column             Non-Null Count  Dtype  \n",
      "---  ------             --------------  -----  \n",
      " 0   genre_ids          26517 non-null  object \n",
      " 1   id                 26517 non-null  int64  \n",
      " 2   original_language  26517 non-null  object \n",
      " 3   original_title     26517 non-null  object \n",
      " 4   popularity         26517 non-null  float64\n",
      " 5   release_date       26517 non-null  object \n",
      " 6   title              26517 non-null  object \n",
      " 7   vote_average       26517 non-null  float64\n",
      " 8   vote_count         26517 non-null  int64  \n",
      "dtypes: float64(2), int64(2), object(5)\n",
      "memory usage: 2.0+ MB\n"
     ]
    }
   ],
   "source": [
    "df_tmdb = pd.read_csv('../zippedData/tmdb.movies.csv.gz', index_col=[0])\n",
    "df_tmdb.info()"
   ]
  },
  {
   "cell_type": "markdown",
   "metadata": {},
   "source": [
    "[Genre ID values and Asociated name](https://www.themoviedb.org/talk/5daf6eb0ae36680011d7e6ee)\n",
    "- The page has all meaning for each of the genre_ids codes, will change all id values, so genres can be desplayed from data frame"
   ]
  },
  {
   "cell_type": "markdown",
   "metadata": {},
   "source": [
    "# Exploring tn.movie_budgets.csv.gz"
   ]
  },
  {
   "cell_type": "code",
   "execution_count": 101,
   "metadata": {},
   "outputs": [
    {
     "name": "stdout",
     "output_type": "stream",
     "text": [
      "<class 'pandas.core.frame.DataFrame'>\n",
      "RangeIndex: 5782 entries, 0 to 5781\n",
      "Data columns (total 6 columns):\n",
      " #   Column             Non-Null Count  Dtype \n",
      "---  ------             --------------  ----- \n",
      " 0   id                 5782 non-null   int64 \n",
      " 1   release_date       5782 non-null   object\n",
      " 2   movie              5782 non-null   object\n",
      " 3   production_budget  5782 non-null   object\n",
      " 4   domestic_gross     5782 non-null   object\n",
      " 5   worldwide_gross    5782 non-null   object\n",
      "dtypes: int64(1), object(5)\n",
      "memory usage: 271.2+ KB\n"
     ]
    }
   ],
   "source": [
    "df_tn = pd.read_csv('../zippedData/tn.movie_budgets.csv.gz')\n",
    "df_tn.info()"
   ]
  },
  {
   "cell_type": "markdown",
   "metadata": {},
   "source": [
    "### Transform all numeric columns from object to int"
   ]
  },
  {
   "cell_type": "markdown",
   "metadata": {},
   "source": [
    "Removing all commas from production_budget column"
   ]
  },
  {
   "cell_type": "code",
   "execution_count": 102,
   "metadata": {},
   "outputs": [],
   "source": [
    "df_tn['production_budget'] = df_tn['production_budget'].str.replace(',','')"
   ]
  },
  {
   "cell_type": "markdown",
   "metadata": {},
   "source": [
    "Removing all $ sign from production_budget column"
   ]
  },
  {
   "cell_type": "code",
   "execution_count": 103,
   "metadata": {},
   "outputs": [],
   "source": [
    "df_tn['production_budget'] = df_tn['production_budget'].str.replace('$','')"
   ]
  },
  {
   "cell_type": "code",
   "execution_count": 105,
   "metadata": {},
   "outputs": [
    {
     "data": {
      "text/html": [
       "<div>\n",
       "<style scoped>\n",
       "    .dataframe tbody tr th:only-of-type {\n",
       "        vertical-align: middle;\n",
       "    }\n",
       "\n",
       "    .dataframe tbody tr th {\n",
       "        vertical-align: top;\n",
       "    }\n",
       "\n",
       "    .dataframe thead th {\n",
       "        text-align: right;\n",
       "    }\n",
       "</style>\n",
       "<table border=\"1\" class=\"dataframe\">\n",
       "  <thead>\n",
       "    <tr style=\"text-align: right;\">\n",
       "      <th></th>\n",
       "      <th>id</th>\n",
       "      <th>release_date</th>\n",
       "      <th>movie</th>\n",
       "      <th>production_budget</th>\n",
       "      <th>domestic_gross</th>\n",
       "      <th>worldwide_gross</th>\n",
       "    </tr>\n",
       "  </thead>\n",
       "  <tbody>\n",
       "    <tr>\n",
       "      <th>0</th>\n",
       "      <td>1</td>\n",
       "      <td>Dec 18, 2009</td>\n",
       "      <td>Avatar</td>\n",
       "      <td>425000000</td>\n",
       "      <td>$760,507,625</td>\n",
       "      <td>$2,776,345,279</td>\n",
       "    </tr>\n",
       "    <tr>\n",
       "      <th>1</th>\n",
       "      <td>2</td>\n",
       "      <td>May 20, 2011</td>\n",
       "      <td>Pirates of the Caribbean: On Stranger Tides</td>\n",
       "      <td>410600000</td>\n",
       "      <td>$241,063,875</td>\n",
       "      <td>$1,045,663,875</td>\n",
       "    </tr>\n",
       "    <tr>\n",
       "      <th>2</th>\n",
       "      <td>3</td>\n",
       "      <td>Jun 7, 2019</td>\n",
       "      <td>Dark Phoenix</td>\n",
       "      <td>350000000</td>\n",
       "      <td>$42,762,350</td>\n",
       "      <td>$149,762,350</td>\n",
       "    </tr>\n",
       "  </tbody>\n",
       "</table>\n",
       "</div>"
      ],
      "text/plain": [
       "   id  release_date                                        movie  \\\n",
       "0   1  Dec 18, 2009                                       Avatar   \n",
       "1   2  May 20, 2011  Pirates of the Caribbean: On Stranger Tides   \n",
       "2   3   Jun 7, 2019                                 Dark Phoenix   \n",
       "\n",
       "  production_budget domestic_gross worldwide_gross  \n",
       "0         425000000   $760,507,625  $2,776,345,279  \n",
       "1         410600000   $241,063,875  $1,045,663,875  \n",
       "2         350000000    $42,762,350    $149,762,350  "
      ]
     },
     "execution_count": 105,
     "metadata": {},
     "output_type": "execute_result"
    }
   ],
   "source": [
    "df_tn.head(3)"
   ]
  },
  {
   "cell_type": "markdown",
   "metadata": {},
   "source": [
    "Following the same steps for domestic_gross and worldwide_gross columns"
   ]
  },
  {
   "cell_type": "code",
   "execution_count": 106,
   "metadata": {},
   "outputs": [],
   "source": [
    "df_tn['domestic_gross'] = df_tn['domestic_gross'].str.replace(',','')\n",
    "df_tn['domestic_gross'] = df_tn['domestic_gross'].str.replace('$','')"
   ]
  },
  {
   "cell_type": "code",
   "execution_count": 107,
   "metadata": {},
   "outputs": [],
   "source": [
    "df_tn['worldwide_gross'] = df_tn['worldwide_gross'].str.replace(',','')\n",
    "df_tn['worldwide_gross'] = df_tn['worldwide_gross'].str.replace('$','')"
   ]
  },
  {
   "cell_type": "markdown",
   "metadata": {},
   "source": [
    "Converting values from str to int"
   ]
  },
  {
   "cell_type": "code",
   "execution_count": 127,
   "metadata": {},
   "outputs": [],
   "source": [
    "df_tn['production_budget'] = df_tn['production_budget'].astype(int)\n",
    "df_tn['domestic_gross'] = df_tn['domestic_gross'].astype(int)\n",
    "df_tn['worldwide_gross'] = df_tn['worldwide_gross'].astype(int)"
   ]
  },
  {
   "cell_type": "code",
   "execution_count": 128,
   "metadata": {
    "scrolled": true
   },
   "outputs": [
    {
     "name": "stdout",
     "output_type": "stream",
     "text": [
      "<class 'pandas.core.frame.DataFrame'>\n",
      "Index: 5782 entries, Avatar to My Date With Drew\n",
      "Data columns (total 6 columns):\n",
      " #   Column             Non-Null Count  Dtype \n",
      "---  ------             --------------  ----- \n",
      " 0   id                 5782 non-null   int64 \n",
      " 1   release_date       5782 non-null   object\n",
      " 2   production_budget  5782 non-null   int64 \n",
      " 3   domestic_gross     5782 non-null   int64 \n",
      " 4   worldwide_gross    5782 non-null   int64 \n",
      " 5   gross_profit       5782 non-null   int64 \n",
      "dtypes: int64(5), object(1)\n",
      "memory usage: 476.2+ KB\n"
     ]
    }
   ],
   "source": [
    "df_tn.info()"
   ]
  },
  {
   "cell_type": "markdown",
   "metadata": {},
   "source": [
    "Creating a new column with gross profit for each movie(row), substracting production budget from total worldwide_gross"
   ]
  },
  {
   "cell_type": "code",
   "execution_count": 113,
   "metadata": {
    "scrolled": true
   },
   "outputs": [],
   "source": [
    "df_tn['gross_profit']= df_tn['worldwide_gross'] - df_tn['production_budget']\n"
   ]
  },
  {
   "cell_type": "markdown",
   "metadata": {},
   "source": [
    "Movies with largest gross profit"
   ]
  },
  {
   "cell_type": "code",
   "execution_count": 114,
   "metadata": {},
   "outputs": [
    {
     "data": {
      "text/html": [
       "<div>\n",
       "<style scoped>\n",
       "    .dataframe tbody tr th:only-of-type {\n",
       "        vertical-align: middle;\n",
       "    }\n",
       "\n",
       "    .dataframe tbody tr th {\n",
       "        vertical-align: top;\n",
       "    }\n",
       "\n",
       "    .dataframe thead th {\n",
       "        text-align: right;\n",
       "    }\n",
       "</style>\n",
       "<table border=\"1\" class=\"dataframe\">\n",
       "  <thead>\n",
       "    <tr style=\"text-align: right;\">\n",
       "      <th></th>\n",
       "      <th>id</th>\n",
       "      <th>release_date</th>\n",
       "      <th>movie</th>\n",
       "      <th>production_budget</th>\n",
       "      <th>domestic_gross</th>\n",
       "      <th>worldwide_gross</th>\n",
       "      <th>gross_profit</th>\n",
       "    </tr>\n",
       "  </thead>\n",
       "  <tbody>\n",
       "    <tr>\n",
       "      <th>0</th>\n",
       "      <td>1</td>\n",
       "      <td>Dec 18, 2009</td>\n",
       "      <td>Avatar</td>\n",
       "      <td>425000000</td>\n",
       "      <td>760507625</td>\n",
       "      <td>2776345279</td>\n",
       "      <td>2351345279</td>\n",
       "    </tr>\n",
       "    <tr>\n",
       "      <th>42</th>\n",
       "      <td>43</td>\n",
       "      <td>Dec 19, 1997</td>\n",
       "      <td>Titanic</td>\n",
       "      <td>200000000</td>\n",
       "      <td>659363944</td>\n",
       "      <td>2208208395</td>\n",
       "      <td>2008208395</td>\n",
       "    </tr>\n",
       "    <tr>\n",
       "      <th>6</th>\n",
       "      <td>7</td>\n",
       "      <td>Apr 27, 2018</td>\n",
       "      <td>Avengers: Infinity War</td>\n",
       "      <td>300000000</td>\n",
       "      <td>678815482</td>\n",
       "      <td>2048134200</td>\n",
       "      <td>1748134200</td>\n",
       "    </tr>\n",
       "  </tbody>\n",
       "</table>\n",
       "</div>"
      ],
      "text/plain": [
       "    id  release_date                   movie  production_budget  \\\n",
       "0    1  Dec 18, 2009                  Avatar          425000000   \n",
       "42  43  Dec 19, 1997                 Titanic          200000000   \n",
       "6    7  Apr 27, 2018  Avengers: Infinity War          300000000   \n",
       "\n",
       "    domestic_gross  worldwide_gross  gross_profit  \n",
       "0        760507625       2776345279    2351345279  \n",
       "42       659363944       2208208395    2008208395  \n",
       "6        678815482       2048134200    1748134200  "
      ]
     },
     "execution_count": 114,
     "metadata": {},
     "output_type": "execute_result"
    }
   ],
   "source": [
    "df_tn.sort_values(by=['gross_profit'], ascending=False).head(3)\n"
   ]
  },
  {
   "cell_type": "markdown",
   "metadata": {},
   "source": [
    "\n",
    "\n",
    "\n",
    "## Merging 2 data frames to get genre column into frame with movies earnings\n",
    "\n",
    "\n",
    "Merging TMDB and TN data frames, TMDB contains movie's genres column and TN has gross profit information, by merging the two frames we can find which generes had better results in the box office.\n",
    "\n"
   ]
  },
  {
   "cell_type": "code",
   "execution_count": 115,
   "metadata": {},
   "outputs": [],
   "source": [
    "#set movie column as index, therefore both dataframes can merge based on matching values from its respective index\n",
    "df_tmdb.set_index(['title'], inplace= True)\n",
    "df_tn.set_index(['movie'], inplace= True)\n"
   ]
  },
  {
   "cell_type": "code",
   "execution_count": 124,
   "metadata": {},
   "outputs": [
    {
     "data": {
      "text/plain": [
       "(2385, 14)"
      ]
     },
     "execution_count": 124,
     "metadata": {},
     "output_type": "execute_result"
    }
   ],
   "source": [
    "merged_df = df_tn.merge(df_tmdb, how = 'inner', left_index=True, right_index=True)\n",
    "merged_df.shape"
   ]
  },
  {
   "cell_type": "markdown",
   "metadata": {},
   "source": [
    "### Replace values from genre_ID column with specific genre name\n",
    "\n",
    "Genre ID values and Asociated name\n",
    "\n",
    "- The page has all meaning for each of the genre_ids codes, below i remplaced all IDs so genres can be desplayed from data frame\n"
   ]
  },
  {
   "cell_type": "code",
   "execution_count": 129,
   "metadata": {},
   "outputs": [],
   "source": [
    "merged_df['genre_ids'] = merged_df['genre_ids'].str.replace('12', 'Adventure')"
   ]
  },
  {
   "cell_type": "code",
   "execution_count": 130,
   "metadata": {},
   "outputs": [],
   "source": [
    "merged_df['genre_ids'] = merged_df['genre_ids'].str.replace('28', 'Action')"
   ]
  },
  {
   "cell_type": "code",
   "execution_count": 131,
   "metadata": {},
   "outputs": [],
   "source": [
    "merged_df['genre_ids'] = merged_df['genre_ids'].str.replace('16', 'Animation')"
   ]
  },
  {
   "cell_type": "code",
   "execution_count": 132,
   "metadata": {},
   "outputs": [],
   "source": [
    "merged_df['genre_ids'] = merged_df['genre_ids'].str.replace('35', 'Comedy')"
   ]
  },
  {
   "cell_type": "code",
   "execution_count": 133,
   "metadata": {},
   "outputs": [],
   "source": [
    "merged_df['genre_ids'] = merged_df['genre_ids'].str.replace('80', 'Crime')"
   ]
  },
  {
   "cell_type": "code",
   "execution_count": 134,
   "metadata": {},
   "outputs": [],
   "source": [
    "merged_df['genre_ids'] = merged_df['genre_ids'].str.replace('99', 'Documentary')"
   ]
  },
  {
   "cell_type": "code",
   "execution_count": 135,
   "metadata": {},
   "outputs": [],
   "source": [
    "merged_df['genre_ids'] = merged_df['genre_ids'].str.replace('18', 'Drama')"
   ]
  },
  {
   "cell_type": "code",
   "execution_count": 136,
   "metadata": {},
   "outputs": [],
   "source": [
    "merged_df['genre_ids'] = merged_df['genre_ids'].str.replace('10751', 'Family')"
   ]
  },
  {
   "cell_type": "code",
   "execution_count": 137,
   "metadata": {},
   "outputs": [],
   "source": [
    "merged_df['genre_ids'] = merged_df['genre_ids'].str.replace('14', 'Fantasy')"
   ]
  },
  {
   "cell_type": "code",
   "execution_count": 138,
   "metadata": {},
   "outputs": [],
   "source": [
    "merged_df['genre_ids'] = merged_df['genre_ids'].str.replace('36', 'History')"
   ]
  },
  {
   "cell_type": "code",
   "execution_count": 139,
   "metadata": {},
   "outputs": [],
   "source": [
    "merged_df['genre_ids'] = merged_df['genre_ids'].str.replace('27', 'Horror')"
   ]
  },
  {
   "cell_type": "code",
   "execution_count": 140,
   "metadata": {},
   "outputs": [],
   "source": [
    "merged_df['genre_ids'] = merged_df['genre_ids'].str.replace('10402', 'Music')"
   ]
  },
  {
   "cell_type": "code",
   "execution_count": 141,
   "metadata": {},
   "outputs": [],
   "source": [
    "merged_df['genre_ids'] = merged_df['genre_ids'].str.replace('9648', 'Mystery')"
   ]
  },
  {
   "cell_type": "code",
   "execution_count": 142,
   "metadata": {},
   "outputs": [],
   "source": [
    "merged_df['genre_ids'] = merged_df['genre_ids'].str.replace('10749', 'Romance')"
   ]
  },
  {
   "cell_type": "code",
   "execution_count": 143,
   "metadata": {},
   "outputs": [],
   "source": [
    "merged_df['genre_ids'] = merged_df['genre_ids'].str.replace('878', 'Science Fiction')"
   ]
  },
  {
   "cell_type": "code",
   "execution_count": 144,
   "metadata": {},
   "outputs": [],
   "source": [
    "merged_df['genre_ids'] = merged_df['genre_ids'].str.replace('10770', 'TV Movie')"
   ]
  },
  {
   "cell_type": "code",
   "execution_count": 145,
   "metadata": {},
   "outputs": [],
   "source": [
    "merged_df['genre_ids'] = merged_df['genre_ids'].str.replace('53', 'Thriller')"
   ]
  },
  {
   "cell_type": "code",
   "execution_count": 146,
   "metadata": {},
   "outputs": [],
   "source": [
    "merged_df['genre_ids'] = merged_df['genre_ids'].str.replace('10752', 'War')"
   ]
  },
  {
   "cell_type": "code",
   "execution_count": 147,
   "metadata": {},
   "outputs": [],
   "source": [
    "merged_df['genre_ids'] = merged_df['genre_ids'].str.replace('37', 'Western')"
   ]
  },
  {
   "cell_type": "markdown",
   "metadata": {},
   "source": [
    "Some of the movies have missing data under the genre id column"
   ]
  },
  {
   "cell_type": "code",
   "execution_count": 37,
   "metadata": {},
   "outputs": [
    {
     "data": {
      "text/html": [
       "<div>\n",
       "<style scoped>\n",
       "    .dataframe tbody tr th:only-of-type {\n",
       "        vertical-align: middle;\n",
       "    }\n",
       "\n",
       "    .dataframe tbody tr th {\n",
       "        vertical-align: top;\n",
       "    }\n",
       "\n",
       "    .dataframe thead th {\n",
       "        text-align: right;\n",
       "    }\n",
       "</style>\n",
       "<table border=\"1\" class=\"dataframe\">\n",
       "  <thead>\n",
       "    <tr style=\"text-align: right;\">\n",
       "      <th></th>\n",
       "      <th>id_x</th>\n",
       "      <th>release_date_x</th>\n",
       "      <th>production_budget</th>\n",
       "      <th>domestic_gross</th>\n",
       "      <th>worldwide_gross</th>\n",
       "      <th>gross_margin</th>\n",
       "      <th>genre_ids</th>\n",
       "      <th>id_y</th>\n",
       "      <th>original_language</th>\n",
       "      <th>original_title</th>\n",
       "      <th>popularity</th>\n",
       "      <th>release_date_y</th>\n",
       "      <th>vote_average</th>\n",
       "      <th>vote_count</th>\n",
       "    </tr>\n",
       "  </thead>\n",
       "  <tbody>\n",
       "    <tr>\n",
       "      <th>Alice in Wonderland</th>\n",
       "      <td>51</td>\n",
       "      <td>Mar 5, 2010</td>\n",
       "      <td>200000000</td>\n",
       "      <td>334191110</td>\n",
       "      <td>1025491110</td>\n",
       "      <td>825491110</td>\n",
       "      <td>[]</td>\n",
       "      <td>423971</td>\n",
       "      <td>en</td>\n",
       "      <td>Alice in Wonderland</td>\n",
       "      <td>0.600</td>\n",
       "      <td>2010-01-01</td>\n",
       "      <td>6.0</td>\n",
       "      <td>1</td>\n",
       "    </tr>\n",
       "    <tr>\n",
       "      <th>Alice in Wonderland</th>\n",
       "      <td>60</td>\n",
       "      <td>Jul 28, 1951</td>\n",
       "      <td>3000000</td>\n",
       "      <td>0</td>\n",
       "      <td>0</td>\n",
       "      <td>-3000000</td>\n",
       "      <td>[]</td>\n",
       "      <td>423971</td>\n",
       "      <td>en</td>\n",
       "      <td>Alice in Wonderland</td>\n",
       "      <td>0.600</td>\n",
       "      <td>2010-01-01</td>\n",
       "      <td>6.0</td>\n",
       "      <td>1</td>\n",
       "    </tr>\n",
       "    <tr>\n",
       "      <th>Alpha</th>\n",
       "      <td>79</td>\n",
       "      <td>Aug 17, 2018</td>\n",
       "      <td>51000000</td>\n",
       "      <td>35851379</td>\n",
       "      <td>99624873</td>\n",
       "      <td>48624873</td>\n",
       "      <td>[]</td>\n",
       "      <td>333465</td>\n",
       "      <td>el</td>\n",
       "      <td>A</td>\n",
       "      <td>0.840</td>\n",
       "      <td>2015-01-25</td>\n",
       "      <td>7.0</td>\n",
       "      <td>1</td>\n",
       "    </tr>\n",
       "    <tr>\n",
       "      <th>Animals</th>\n",
       "      <td>34</td>\n",
       "      <td>Dec 31, 2008</td>\n",
       "      <td>5500000</td>\n",
       "      <td>0</td>\n",
       "      <td>0</td>\n",
       "      <td>-5500000</td>\n",
       "      <td>[]</td>\n",
       "      <td>439312</td>\n",
       "      <td>en</td>\n",
       "      <td>Animals</td>\n",
       "      <td>0.600</td>\n",
       "      <td>2016-10-19</td>\n",
       "      <td>6.5</td>\n",
       "      <td>2</td>\n",
       "    </tr>\n",
       "    <tr>\n",
       "      <th>Breaking In</th>\n",
       "      <td>19</td>\n",
       "      <td>May 11, 2018</td>\n",
       "      <td>6000000</td>\n",
       "      <td>46840590</td>\n",
       "      <td>51411620</td>\n",
       "      <td>45411620</td>\n",
       "      <td>[]</td>\n",
       "      <td>403153</td>\n",
       "      <td>en</td>\n",
       "      <td>Breaking In</td>\n",
       "      <td>0.600</td>\n",
       "      <td>2014-01-01</td>\n",
       "      <td>2.5</td>\n",
       "      <td>2</td>\n",
       "    </tr>\n",
       "    <tr>\n",
       "      <th>...</th>\n",
       "      <td>...</td>\n",
       "      <td>...</td>\n",
       "      <td>...</td>\n",
       "      <td>...</td>\n",
       "      <td>...</td>\n",
       "      <td>...</td>\n",
       "      <td>...</td>\n",
       "      <td>...</td>\n",
       "      <td>...</td>\n",
       "      <td>...</td>\n",
       "      <td>...</td>\n",
       "      <td>...</td>\n",
       "      <td>...</td>\n",
       "      <td>...</td>\n",
       "    </tr>\n",
       "    <tr>\n",
       "      <th>Transcendence</th>\n",
       "      <td>2</td>\n",
       "      <td>Apr 18, 2014</td>\n",
       "      <td>100000000</td>\n",
       "      <td>23022309</td>\n",
       "      <td>103039258</td>\n",
       "      <td>3039258</td>\n",
       "      <td>[]</td>\n",
       "      <td>274278</td>\n",
       "      <td>en</td>\n",
       "      <td>Transcendence</td>\n",
       "      <td>0.600</td>\n",
       "      <td>2012-06-09</td>\n",
       "      <td>5.5</td>\n",
       "      <td>2</td>\n",
       "    </tr>\n",
       "    <tr>\n",
       "      <th>Trapped</th>\n",
       "      <td>87</td>\n",
       "      <td>Sep 20, 2002</td>\n",
       "      <td>30000000</td>\n",
       "      <td>6916869</td>\n",
       "      <td>6916869</td>\n",
       "      <td>-23083131</td>\n",
       "      <td>[]</td>\n",
       "      <td>159783</td>\n",
       "      <td>en</td>\n",
       "      <td>Trapped</td>\n",
       "      <td>0.655</td>\n",
       "      <td>2012-04-01</td>\n",
       "      <td>5.8</td>\n",
       "      <td>2</td>\n",
       "    </tr>\n",
       "    <tr>\n",
       "      <th>Trash</th>\n",
       "      <td>46</td>\n",
       "      <td>Oct 9, 2015</td>\n",
       "      <td>12000000</td>\n",
       "      <td>17484</td>\n",
       "      <td>6553186</td>\n",
       "      <td>-5446814</td>\n",
       "      <td>[]</td>\n",
       "      <td>128184</td>\n",
       "      <td>es</td>\n",
       "      <td>Trash</td>\n",
       "      <td>0.600</td>\n",
       "      <td>2010-11-03</td>\n",
       "      <td>3.0</td>\n",
       "      <td>3</td>\n",
       "    </tr>\n",
       "    <tr>\n",
       "      <th>Undiscovered</th>\n",
       "      <td>7</td>\n",
       "      <td>Aug 26, 2005</td>\n",
       "      <td>9000000</td>\n",
       "      <td>1069318</td>\n",
       "      <td>1069318</td>\n",
       "      <td>-7930682</td>\n",
       "      <td>[]</td>\n",
       "      <td>513161</td>\n",
       "      <td>en</td>\n",
       "      <td>Undiscovered</td>\n",
       "      <td>0.600</td>\n",
       "      <td>2018-04-07</td>\n",
       "      <td>8.0</td>\n",
       "      <td>1</td>\n",
       "    </tr>\n",
       "    <tr>\n",
       "      <th>Wonderland</th>\n",
       "      <td>26</td>\n",
       "      <td>Oct 3, 2003</td>\n",
       "      <td>5500000</td>\n",
       "      <td>1060512</td>\n",
       "      <td>1060512</td>\n",
       "      <td>-4439488</td>\n",
       "      <td>[]</td>\n",
       "      <td>290732</td>\n",
       "      <td>en</td>\n",
       "      <td>Wonderland</td>\n",
       "      <td>0.600</td>\n",
       "      <td>2014-10-14</td>\n",
       "      <td>3.3</td>\n",
       "      <td>3</td>\n",
       "    </tr>\n",
       "  </tbody>\n",
       "</table>\n",
       "<p>65 rows × 14 columns</p>\n",
       "</div>"
      ],
      "text/plain": [
       "                     id_x release_date_x  production_budget  domestic_gross  \\\n",
       "Alice in Wonderland    51    Mar 5, 2010          200000000       334191110   \n",
       "Alice in Wonderland    60   Jul 28, 1951            3000000               0   \n",
       "Alpha                  79   Aug 17, 2018           51000000        35851379   \n",
       "Animals                34   Dec 31, 2008            5500000               0   \n",
       "Breaking In            19   May 11, 2018            6000000        46840590   \n",
       "...                   ...            ...                ...             ...   \n",
       "Transcendence           2   Apr 18, 2014          100000000        23022309   \n",
       "Trapped                87   Sep 20, 2002           30000000         6916869   \n",
       "Trash                  46    Oct 9, 2015           12000000           17484   \n",
       "Undiscovered            7   Aug 26, 2005            9000000         1069318   \n",
       "Wonderland             26    Oct 3, 2003            5500000         1060512   \n",
       "\n",
       "                     worldwide_gross  gross_margin genre_ids    id_y  \\\n",
       "Alice in Wonderland       1025491110     825491110        []  423971   \n",
       "Alice in Wonderland                0      -3000000        []  423971   \n",
       "Alpha                       99624873      48624873        []  333465   \n",
       "Animals                            0      -5500000        []  439312   \n",
       "Breaking In                 51411620      45411620        []  403153   \n",
       "...                              ...           ...       ...     ...   \n",
       "Transcendence              103039258       3039258        []  274278   \n",
       "Trapped                      6916869     -23083131        []  159783   \n",
       "Trash                        6553186      -5446814        []  128184   \n",
       "Undiscovered                 1069318      -7930682        []  513161   \n",
       "Wonderland                   1060512      -4439488        []  290732   \n",
       "\n",
       "                    original_language       original_title  popularity  \\\n",
       "Alice in Wonderland                en  Alice in Wonderland       0.600   \n",
       "Alice in Wonderland                en  Alice in Wonderland       0.600   \n",
       "Alpha                              el                    A       0.840   \n",
       "Animals                            en              Animals       0.600   \n",
       "Breaking In                        en          Breaking In       0.600   \n",
       "...                               ...                  ...         ...   \n",
       "Transcendence                      en        Transcendence       0.600   \n",
       "Trapped                            en              Trapped       0.655   \n",
       "Trash                              es                Trash       0.600   \n",
       "Undiscovered                       en         Undiscovered       0.600   \n",
       "Wonderland                         en           Wonderland       0.600   \n",
       "\n",
       "                    release_date_y  vote_average  vote_count  \n",
       "Alice in Wonderland     2010-01-01           6.0           1  \n",
       "Alice in Wonderland     2010-01-01           6.0           1  \n",
       "Alpha                   2015-01-25           7.0           1  \n",
       "Animals                 2016-10-19           6.5           2  \n",
       "Breaking In             2014-01-01           2.5           2  \n",
       "...                            ...           ...         ...  \n",
       "Transcendence           2012-06-09           5.5           2  \n",
       "Trapped                 2012-04-01           5.8           2  \n",
       "Trash                   2010-11-03           3.0           3  \n",
       "Undiscovered            2018-04-07           8.0           1  \n",
       "Wonderland              2014-10-14           3.3           3  \n",
       "\n",
       "[65 rows x 14 columns]"
      ]
     },
     "execution_count": 37,
     "metadata": {},
     "output_type": "execute_result"
    }
   ],
   "source": [
    "merged_df.loc[merged_df['genre_ids'] == '[]']\n"
   ]
  },
  {
   "cell_type": "markdown",
   "metadata": {},
   "source": [
    "### Drop movies without genre"
   ]
  },
  {
   "cell_type": "markdown",
   "metadata": {},
   "source": [
    "Below im setting all movies which show  '[]' on the genre_ID column, to show NaN instead "
   ]
  },
  {
   "cell_type": "code",
   "execution_count": 148,
   "metadata": {
    "scrolled": true
   },
   "outputs": [],
   "source": [
    "merged_df.loc[merged_df['genre_ids'] == '[]', 'genre_ids'] = None"
   ]
  },
  {
   "cell_type": "markdown",
   "metadata": {},
   "source": [
    "Droping all NaN from that column"
   ]
  },
  {
   "cell_type": "code",
   "execution_count": 39,
   "metadata": {},
   "outputs": [],
   "source": [
    "merged_df = merged_df.dropna(subset=['genre_ids'])"
   ]
  },
  {
   "cell_type": "markdown",
   "metadata": {},
   "source": [
    "### Change general genre categories to specific category\n",
    "\n",
    "\n",
    "some of the movies were tagged with multiple genres, when looking for a value_count for all generes it will show each unique combination of generes like a singular value, below I used a for loop to change some of the most frequent combinations of generes to the more prominent value between the options"
   ]
  },
  {
   "cell_type": "code",
   "execution_count": 168,
   "metadata": {
    "scrolled": true
   },
   "outputs": [],
   "source": [
    "merged_df_copy = merged_df.copy() #made a copy of data frame just in case outcome isn't the one desired\n"
   ]
  },
  {
   "cell_type": "code",
   "execution_count": 169,
   "metadata": {},
   "outputs": [],
   "source": [
    "merged_df_copy_list = merged_df_copy['genre_ids'].tolist()\n"
   ]
  },
  {
   "cell_type": "code",
   "execution_count": 170,
   "metadata": {},
   "outputs": [],
   "source": [
    "def contains_Drama(lst):\n",
    "    new_list=[]\n",
    "    for x in lst:\n",
    "        if x == '[Drama, History]':\n",
    "            x = '[Drama]'\n",
    "        new_list.append(x)\n",
    "            \n",
    "            \n",
    "    return new_list"
   ]
  },
  {
   "cell_type": "code",
   "execution_count": 171,
   "metadata": {},
   "outputs": [],
   "source": [
    "lis1 = contains_Drama(merged_df_copy_list)"
   ]
  },
  {
   "cell_type": "code",
   "execution_count": 172,
   "metadata": {},
   "outputs": [],
   "source": [
    "def contains_Horror(lst):\n",
    "    new_list=[]\n",
    "    for x in lst:\n",
    "        if x == '[Horror, Thriller]' or x == '[Thriller, Horror]':\n",
    "            x = '[Horror]'\n",
    "        new_list.append(x)\n",
    "            \n",
    "            \n",
    "    return new_list"
   ]
  },
  {
   "cell_type": "code",
   "execution_count": 173,
   "metadata": {},
   "outputs": [],
   "source": [
    "lis2 = contains_Horror(lis1)"
   ]
  },
  {
   "cell_type": "code",
   "execution_count": 218,
   "metadata": {},
   "outputs": [],
   "source": [
    "def contains_Romance(lst):\n",
    "    new_list=[]\n",
    "    for x in lst:\n",
    "        if x == '[Drama, Romance]' or x == '[Comedy, Drama, Romance]':\n",
    "            x = '[Drama]'\n",
    "        new_list.append(x)\n",
    "            \n",
    "            \n",
    "    return new_list"
   ]
  },
  {
   "cell_type": "code",
   "execution_count": 219,
   "metadata": {},
   "outputs": [],
   "source": [
    "lis3 = contains_Romance(lis2)"
   ]
  },
  {
   "cell_type": "code",
   "execution_count": 220,
   "metadata": {},
   "outputs": [],
   "source": [
    "def contains_Thriller(lst):\n",
    "    new_list=[]\n",
    "    for x in lst:\n",
    "        if x == '[Drama, Thriller]' or x == '[Thriller, Drama]':\n",
    "            x = '[Thriller]'\n",
    "        new_list.append(x)\n",
    "            \n",
    "            \n",
    "    return new_list"
   ]
  },
  {
   "cell_type": "code",
   "execution_count": 221,
   "metadata": {},
   "outputs": [],
   "source": [
    "lis4 = contains_Thriller(lis3)"
   ]
  },
  {
   "cell_type": "code",
   "execution_count": 222,
   "metadata": {},
   "outputs": [],
   "source": [
    "def contains_romcoms(lst):\n",
    "    new_list=[]\n",
    "    for x in lst:\n",
    "        if x == '[Comedy, Romance]' or x == '[Comedy, Drama]' or x == '[Comedy, Drama, Romance]':\n",
    "            x = '[Comedy]'\n",
    "        new_list.append(x)\n",
    "            \n",
    "            \n",
    "    return new_list"
   ]
  },
  {
   "cell_type": "code",
   "execution_count": 223,
   "metadata": {},
   "outputs": [],
   "source": [
    "lis5 = contains_romcoms(lis4)"
   ]
  },
  {
   "cell_type": "code",
   "execution_count": 224,
   "metadata": {},
   "outputs": [],
   "source": [
    "def contains_history(lst):\n",
    "    new_list=[]\n",
    "    for x in lst:\n",
    "        if x == '[Drama, History]':\n",
    "            x = '[History]'\n",
    "        new_list.append(x)\n",
    "            \n",
    "            \n",
    "    return new_list"
   ]
  },
  {
   "cell_type": "code",
   "execution_count": 225,
   "metadata": {},
   "outputs": [],
   "source": [
    "lis6 = contains_history(lis5)"
   ]
  },
  {
   "cell_type": "code",
   "execution_count": 226,
   "metadata": {},
   "outputs": [],
   "source": [
    "def contains_action(lst):\n",
    "    new_list=[]\n",
    "    for x in lst:\n",
    "        if x == '[Action, Adventure, Science Fiction]'or x == '[Action, Thriller]' or x == '[Action, Crime, Thriller]':\n",
    "            x = '[Action]'\n",
    "        new_list.append(x)\n",
    "            \n",
    "            \n",
    "    return new_list"
   ]
  },
  {
   "cell_type": "code",
   "execution_count": 227,
   "metadata": {},
   "outputs": [],
   "source": [
    "lis7 = contains_action(lis6)"
   ]
  },
  {
   "cell_type": "code",
   "execution_count": 228,
   "metadata": {},
   "outputs": [],
   "source": [
    "# def contains_action1(lst):\n",
    "#     new_list=[]\n",
    "#     for x in lst:\n",
    "#         if '[Action, Adventure,' in x:\n",
    "#             x = '[Action]'\n",
    "#         new_list.append(x)\n",
    "            \n",
    "            \n",
    "#     return new_list"
   ]
  },
  {
   "cell_type": "code",
   "execution_count": 229,
   "metadata": {},
   "outputs": [],
   "source": [
    "# lis8 = contains_action(lis7)"
   ]
  },
  {
   "cell_type": "code",
   "execution_count": 230,
   "metadata": {},
   "outputs": [],
   "source": [
    "merged_df_copy['genre_ids'] = lis7\n"
   ]
  },
  {
   "cell_type": "code",
   "execution_count": 231,
   "metadata": {
    "scrolled": true
   },
   "outputs": [
    {
     "data": {
      "text/plain": [
       "[Drama]                        335\n",
       "[Comedy]                       219\n",
       "[Horror]                       128\n",
       "[Thriller]                      85\n",
       "[Action]                        75\n",
       "[Documentary]                   69\n",
       "[Drama, Comedy]                 26\n",
       "[Crime, Drama, Thriller]        20\n",
       "[Romance, Drama]                18\n",
       "[Drama, Music]                  16\n",
       "[Drama, Comedy, Romance]        14\n",
       "[Action, Comedy]                14\n",
       "[Crime, Thriller]               14\n",
       "[Romance, Comedy]               12\n",
       "[Action, Comedy, Crime]         11\n",
       "[Thriller, Crime, Drama]        11\n",
       "[Drama, Crime]                  11\n",
       "[Action, Drama, Thriller]       11\n",
       "[Animation, Comedy, Family]     10\n",
       "[Drama, Family]                 10\n",
       "Name: genre_ids, dtype: int64"
      ]
     },
     "execution_count": 231,
     "metadata": {},
     "output_type": "execute_result"
    }
   ],
   "source": [
    "merged_df_copy['genre_ids'].value_counts().head(20)"
   ]
  },
  {
   "cell_type": "markdown",
   "metadata": {},
   "source": [
    "## Update main frame with new categories"
   ]
  },
  {
   "cell_type": "code",
   "execution_count": 232,
   "metadata": {
    "scrolled": false
   },
   "outputs": [],
   "source": [
    "merged_df['genre_ids'] = merged_df_copy['genre_ids']"
   ]
  },
  {
   "cell_type": "code",
   "execution_count": 233,
   "metadata": {},
   "outputs": [
    {
     "data": {
      "text/plain": [
       "[Drama]                        335\n",
       "[Comedy]                       219\n",
       "[Horror]                       128\n",
       "[Thriller]                      85\n",
       "[Action]                        75\n",
       "[Documentary]                   69\n",
       "[Drama, Comedy]                 26\n",
       "[Crime, Drama, Thriller]        20\n",
       "[Romance, Drama]                18\n",
       "[Drama, Music]                  16\n",
       "[Drama, Comedy, Romance]        14\n",
       "[Action, Comedy]                14\n",
       "[Crime, Thriller]               14\n",
       "[Romance, Comedy]               12\n",
       "[Action, Comedy, Crime]         11\n",
       "[Thriller, Crime, Drama]        11\n",
       "[Drama, Crime]                  11\n",
       "[Action, Drama, Thriller]       11\n",
       "[Animation, Comedy, Family]     10\n",
       "[Drama, Family]                 10\n",
       "Name: genre_ids, dtype: int64"
      ]
     },
     "execution_count": 233,
     "metadata": {},
     "output_type": "execute_result"
    }
   ],
   "source": [
    "merged_df['genre_ids'].value_counts().head(20)"
   ]
  },
  {
   "cell_type": "markdown",
   "metadata": {},
   "source": [
    "###  Save as new file"
   ]
  },
  {
   "cell_type": "code",
   "execution_count": 188,
   "metadata": {},
   "outputs": [],
   "source": [
    "df = merged_df.copy()"
   ]
  },
  {
   "cell_type": "code",
   "execution_count": 63,
   "metadata": {},
   "outputs": [],
   "source": [
    "#df.to_csv('GrossMargin_and_genre_df.csv')"
   ]
  },
  {
   "cell_type": "markdown",
   "metadata": {},
   "source": [
    "## Opening new file"
   ]
  },
  {
   "cell_type": "code",
   "execution_count": 189,
   "metadata": {},
   "outputs": [
    {
     "name": "stdout",
     "output_type": "stream",
     "text": [
      "GrossMargin_and_genre_df.csv\r\n",
      "Netflix_movies_and_tv_shows_clustering.csv.zip\r\n",
      "all-weeks-global.tsv\r\n",
      "bom.movie_gross.csv.gz\r\n",
      "highest rated movies from TMDB action adv.png\r\n",
      "highest rated movies from TMDB drama.png\r\n",
      "im.db.zip\r\n",
      "most popular movie titles from TMDB.png\r\n",
      "netflix_top20_titles_hours.png\r\n",
      "rt.movie_info.tsv.gz\r\n",
      "rt.reviews.tsv.gz\r\n",
      "tmdb.movies.csv.gz\r\n",
      "tn.movie_budgets.csv.gz\r\n",
      "top-netflix-scraper.ipynb\r\n",
      "video game movies worldwide box office.png\r\n",
      "video_game_films.csv\r\n"
     ]
    }
   ],
   "source": [
    "! ls ../zippedData/"
   ]
  },
  {
   "cell_type": "code",
   "execution_count": 190,
   "metadata": {},
   "outputs": [],
   "source": [
    "df = pd.read_csv('../zippedData/GrossMargin_and_genre_df.csv')"
   ]
  },
  {
   "cell_type": "markdown",
   "metadata": {},
   "source": [
    "## Ploting Using  most frequent genres on df"
   ]
  },
  {
   "cell_type": "markdown",
   "metadata": {},
   "source": [
    "### creating new column"
   ]
  },
  {
   "cell_type": "code",
   "execution_count": 191,
   "metadata": {
    "scrolled": true
   },
   "outputs": [],
   "source": [
    "df['gross_profit_by_millions'] = df['gross_margin'] / 1000000"
   ]
  },
  {
   "cell_type": "code",
   "execution_count": 68,
   "metadata": {},
   "outputs": [],
   "source": [
    "#updateGenere = df['genre_ids']"
   ]
  },
  {
   "cell_type": "code",
   "execution_count": 69,
   "metadata": {},
   "outputs": [],
   "source": [
    "#little more cleaning changin all genere with '[Action, Adventure,' in it to just Action"
   ]
  },
  {
   "cell_type": "code",
   "execution_count": 70,
   "metadata": {},
   "outputs": [],
   "source": [
    "#def contains_action1(lst):\n",
    "    #new_list=[]\n",
    "    #for x in lst:\n",
    "       # if '[Action, Adventure,' in x:\n",
    "           # x = '[Action]'\n",
    "       # new_list.append(x)\n",
    "            \n",
    "            \n",
    "   # return new_list"
   ]
  },
  {
   "cell_type": "code",
   "execution_count": 144,
   "metadata": {},
   "outputs": [],
   "source": [
    "#new = contains_action1(updateGenere)"
   ]
  },
  {
   "cell_type": "code",
   "execution_count": 145,
   "metadata": {
    "scrolled": false
   },
   "outputs": [],
   "source": [
    "#df['genre_ids'] = new"
   ]
  },
  {
   "cell_type": "code",
   "execution_count": 192,
   "metadata": {},
   "outputs": [],
   "source": [
    "df.drop_duplicates(inplace=True)"
   ]
  },
  {
   "cell_type": "code",
   "execution_count": 193,
   "metadata": {},
   "outputs": [],
   "source": [
    "df_new = df.loc[(df['genre_ids'] == '[Drama]') | (df['genre_ids'] == '[Documentary]') | (df['genre_ids'] == '[Comedy]')|\n",
    "      (df['genre_ids'] == '[Horror]') | (df['genre_ids'] == '[Romance]') | (df['genre_ids'] == '[Rom-Coms]')|\n",
    "      (df['genre_ids'] == '[History]') | (df['genre_ids'] == '[Action]') | (df['genre_ids'] == '[Thriller]')]\n"
   ]
  },
  {
   "cell_type": "code",
   "execution_count": 195,
   "metadata": {},
   "outputs": [],
   "source": [
    "df_mean = df_new.groupby(['genre_ids'])['gross_profit_by_millions'].mean()\n",
    "top_gross2 = df_mean.sort_values( ascending=False).head(10)"
   ]
  },
  {
   "cell_type": "code",
   "execution_count": 196,
   "metadata": {},
   "outputs": [],
   "source": [
    "x2 = top_gross2.keys().tolist()\n",
    "y2 = top_gross2.tolist()"
   ]
  },
  {
   "cell_type": "code",
   "execution_count": 197,
   "metadata": {},
   "outputs": [
    {
     "data": {
      "image/png": "[encoded data removed]",
      "text/plain": [
       "<Figure size 432x288 with 1 Axes>"
      ]
     },
     "metadata": {
      "needs_background": "light"
     },
     "output_type": "display_data"
    }
   ],
   "source": [
    "\n",
    "ax = sns.barplot( x=x2, y=y2, color='crimson', ci=None )\n",
    "\n",
    "\n",
    "\n",
    "ax.set_xticklabels(ax.get_xticklabels(), rotation=40, ha=\"right\")\n",
    "ax.set_ylabel('Box office by millions')\n",
    "ax.set_xlabel(' ')\n",
    "ax.set_title('Gross Margin by Genre');\n",
    "\n",
    "plt.gcf().axes[0].yaxis.get_major_formatter().set_scientific(False) "
   ]
  },
  {
   "cell_type": "markdown",
   "metadata": {},
   "source": [
    "## Plot, using genre of top grossing movies"
   ]
  },
  {
   "cell_type": "code",
   "execution_count": 198,
   "metadata": {},
   "outputs": [],
   "source": [
    "df_gross_mean = df.groupby(['genre_ids'])['gross_profit_by_millions'].mean()\n",
    "top_gross = df_gross_mean.sort_values( ascending=False).head(10)"
   ]
  },
  {
   "cell_type": "code",
   "execution_count": 199,
   "metadata": {
    "scrolled": true
   },
   "outputs": [
    {
     "data": {
      "text/plain": [
       "genre_ids\n",
       "[Action, Adventure, Science Fiction, Thriller]    1433.854864\n",
       "[Adventure, Action, Fantasy]                      1191.599038\n",
       "[Action, Animation]                               1148.258224\n",
       "[Action, Adventure, Animation, Family]            1042.520711\n",
       "[Action, Animation, Comedy, Family, Adventure]     959.727750\n",
       "[Family, Animation, Drama]                         906.914868\n",
       "[Animation, Adventure, Family, Comedy]             869.429616\n",
       "[Family, Fantasy, Romance]                         843.815419\n",
       "[Romance, Family, Animation, Fantasy]              843.815419\n",
       "[Fantasy, Romance]                                 843.815419\n",
       "Name: gross_profit_by_millions, dtype: float64"
      ]
     },
     "execution_count": 199,
     "metadata": {},
     "output_type": "execute_result"
    }
   ],
   "source": [
    "top_gross"
   ]
  },
  {
   "cell_type": "code",
   "execution_count": 200,
   "metadata": {},
   "outputs": [],
   "source": [
    "x1 = top_gross.keys().tolist()\n",
    "y1 = top_gross.tolist()"
   ]
  },
  {
   "cell_type": "code",
   "execution_count": 206,
   "metadata": {},
   "outputs": [
    {
     "data": {
      "image/png": "[encoded data removed]",
      "text/plain": [
       "<Figure size 432x288 with 1 Axes>"
      ]
     },
     "metadata": {
      "needs_background": "light"
     },
     "output_type": "display_data"
    }
   ],
   "source": [
    "list_of_sub_genere=['Action/Adeventure', 'Action/Animation',\n",
    "                    'Animation, Comedy, Adventure', 'Family, Animation, Drama', ]\n",
    "ax = sns.barplot( x=x1, y=y1, color='crimson', ci=None )\n",
    "\n",
    "\n",
    "\n",
    "ax.set_xticklabels(ax.get_xticklabels(), rotation=40, ha=\"right\")\n",
    "ax.set_ylabel('Box office \\n millions')\n",
    "ax.set_xlabel(' ')\n",
    "ax.set_title('Gross Profit from top10 movie\\'s genre');\n",
    "\n",
    "plt.gcf().axes[0].yaxis.get_major_formatter().set_scientific(False) "
   ]
  },
  {
   "cell_type": "markdown",
   "metadata": {},
   "source": [
    "## exploring im.db.zip\n",
    "\n"
   ]
  },
  {
   "cell_type": "code",
   "execution_count": 80,
   "metadata": {},
   "outputs": [
    {
     "name": "stdout",
     "output_type": "stream",
     "text": [
      "../../../../../../project-exp/data/im.db\r\n"
     ]
    }
   ],
   "source": [
    "! ls ../../../../../../project-exp/data/im.db   \n"
   ]
  },
  {
   "cell_type": "code",
   "execution_count": 81,
   "metadata": {},
   "outputs": [],
   "source": [
    "conn = sqlite3.connect('../../../../../../project-exp/data/im.db')"
   ]
  },
  {
   "cell_type": "markdown",
   "metadata": {},
   "source": [
    "all tables "
   ]
  },
  {
   "cell_type": "code",
   "execution_count": 82,
   "metadata": {
    "scrolled": true
   },
   "outputs": [
    {
     "data": {
      "text/html": [
       "<div>\n",
       "<style scoped>\n",
       "    .dataframe tbody tr th:only-of-type {\n",
       "        vertical-align: middle;\n",
       "    }\n",
       "\n",
       "    .dataframe tbody tr th {\n",
       "        vertical-align: top;\n",
       "    }\n",
       "\n",
       "    .dataframe thead th {\n",
       "        text-align: right;\n",
       "    }\n",
       "</style>\n",
       "<table border=\"1\" class=\"dataframe\">\n",
       "  <thead>\n",
       "    <tr style=\"text-align: right;\">\n",
       "      <th></th>\n",
       "      <th>type</th>\n",
       "      <th>name</th>\n",
       "      <th>tbl_name</th>\n",
       "      <th>rootpage</th>\n",
       "      <th>sql</th>\n",
       "    </tr>\n",
       "  </thead>\n",
       "  <tbody>\n",
       "    <tr>\n",
       "      <th>0</th>\n",
       "      <td>table</td>\n",
       "      <td>movie_basics</td>\n",
       "      <td>movie_basics</td>\n",
       "      <td>2</td>\n",
       "      <td>CREATE TABLE \"movie_basics\" (\\n\"movie_id\" TEXT...</td>\n",
       "    </tr>\n",
       "    <tr>\n",
       "      <th>1</th>\n",
       "      <td>table</td>\n",
       "      <td>directors</td>\n",
       "      <td>directors</td>\n",
       "      <td>3</td>\n",
       "      <td>CREATE TABLE \"directors\" (\\n\"movie_id\" TEXT,\\n...</td>\n",
       "    </tr>\n",
       "    <tr>\n",
       "      <th>2</th>\n",
       "      <td>table</td>\n",
       "      <td>known_for</td>\n",
       "      <td>known_for</td>\n",
       "      <td>4</td>\n",
       "      <td>CREATE TABLE \"known_for\" (\\n\"person_id\" TEXT,\\...</td>\n",
       "    </tr>\n",
       "    <tr>\n",
       "      <th>3</th>\n",
       "      <td>table</td>\n",
       "      <td>movie_akas</td>\n",
       "      <td>movie_akas</td>\n",
       "      <td>5</td>\n",
       "      <td>CREATE TABLE \"movie_akas\" (\\n\"movie_id\" TEXT,\\...</td>\n",
       "    </tr>\n",
       "    <tr>\n",
       "      <th>4</th>\n",
       "      <td>table</td>\n",
       "      <td>movie_ratings</td>\n",
       "      <td>movie_ratings</td>\n",
       "      <td>6</td>\n",
       "      <td>CREATE TABLE \"movie_ratings\" (\\n\"movie_id\" TEX...</td>\n",
       "    </tr>\n",
       "    <tr>\n",
       "      <th>5</th>\n",
       "      <td>table</td>\n",
       "      <td>persons</td>\n",
       "      <td>persons</td>\n",
       "      <td>7</td>\n",
       "      <td>CREATE TABLE \"persons\" (\\n\"person_id\" TEXT,\\n ...</td>\n",
       "    </tr>\n",
       "    <tr>\n",
       "      <th>6</th>\n",
       "      <td>table</td>\n",
       "      <td>principals</td>\n",
       "      <td>principals</td>\n",
       "      <td>8</td>\n",
       "      <td>CREATE TABLE \"principals\" (\\n\"movie_id\" TEXT,\\...</td>\n",
       "    </tr>\n",
       "    <tr>\n",
       "      <th>7</th>\n",
       "      <td>table</td>\n",
       "      <td>writers</td>\n",
       "      <td>writers</td>\n",
       "      <td>9</td>\n",
       "      <td>CREATE TABLE \"writers\" (\\n\"movie_id\" TEXT,\\n  ...</td>\n",
       "    </tr>\n",
       "  </tbody>\n",
       "</table>\n",
       "</div>"
      ],
      "text/plain": [
       "    type           name       tbl_name  rootpage  \\\n",
       "0  table   movie_basics   movie_basics         2   \n",
       "1  table      directors      directors         3   \n",
       "2  table      known_for      known_for         4   \n",
       "3  table     movie_akas     movie_akas         5   \n",
       "4  table  movie_ratings  movie_ratings         6   \n",
       "5  table        persons        persons         7   \n",
       "6  table     principals     principals         8   \n",
       "7  table        writers        writers         9   \n",
       "\n",
       "                                                 sql  \n",
       "0  CREATE TABLE \"movie_basics\" (\\n\"movie_id\" TEXT...  \n",
       "1  CREATE TABLE \"directors\" (\\n\"movie_id\" TEXT,\\n...  \n",
       "2  CREATE TABLE \"known_for\" (\\n\"person_id\" TEXT,\\...  \n",
       "3  CREATE TABLE \"movie_akas\" (\\n\"movie_id\" TEXT,\\...  \n",
       "4  CREATE TABLE \"movie_ratings\" (\\n\"movie_id\" TEX...  \n",
       "5  CREATE TABLE \"persons\" (\\n\"person_id\" TEXT,\\n ...  \n",
       "6  CREATE TABLE \"principals\" (\\n\"movie_id\" TEXT,\\...  \n",
       "7  CREATE TABLE \"writers\" (\\n\"movie_id\" TEXT,\\n  ...  "
      ]
     },
     "execution_count": 82,
     "metadata": {},
     "output_type": "execute_result"
    }
   ],
   "source": [
    "pd.read_sql(\"\"\"\n",
    "\n",
    "SELECT * \n",
    "FROM sqlite_master\n",
    "\n",
    "\"\"\", conn)"
   ]
  },
  {
   "cell_type": "code",
   "execution_count": 83,
   "metadata": {},
   "outputs": [
    {
     "data": {
      "text/html": [
       "<div>\n",
       "<style scoped>\n",
       "    .dataframe tbody tr th:only-of-type {\n",
       "        vertical-align: middle;\n",
       "    }\n",
       "\n",
       "    .dataframe tbody tr th {\n",
       "        vertical-align: top;\n",
       "    }\n",
       "\n",
       "    .dataframe thead th {\n",
       "        text-align: right;\n",
       "    }\n",
       "</style>\n",
       "<table border=\"1\" class=\"dataframe\">\n",
       "  <thead>\n",
       "    <tr style=\"text-align: right;\">\n",
       "      <th></th>\n",
       "      <th>movie_id</th>\n",
       "      <th>person_id</th>\n",
       "    </tr>\n",
       "  </thead>\n",
       "  <tbody>\n",
       "    <tr>\n",
       "      <th>0</th>\n",
       "      <td>tt0285252</td>\n",
       "      <td>nm0899854</td>\n",
       "    </tr>\n",
       "    <tr>\n",
       "      <th>1</th>\n",
       "      <td>tt0462036</td>\n",
       "      <td>nm1940585</td>\n",
       "    </tr>\n",
       "    <tr>\n",
       "      <th>2</th>\n",
       "      <td>tt0835418</td>\n",
       "      <td>nm0151540</td>\n",
       "    </tr>\n",
       "    <tr>\n",
       "      <th>3</th>\n",
       "      <td>tt0835418</td>\n",
       "      <td>nm0151540</td>\n",
       "    </tr>\n",
       "    <tr>\n",
       "      <th>4</th>\n",
       "      <td>tt0878654</td>\n",
       "      <td>nm0089502</td>\n",
       "    </tr>\n",
       "    <tr>\n",
       "      <th>...</th>\n",
       "      <td>...</td>\n",
       "      <td>...</td>\n",
       "    </tr>\n",
       "    <tr>\n",
       "      <th>291169</th>\n",
       "      <td>tt8999974</td>\n",
       "      <td>nm10122357</td>\n",
       "    </tr>\n",
       "    <tr>\n",
       "      <th>291170</th>\n",
       "      <td>tt9001390</td>\n",
       "      <td>nm6711477</td>\n",
       "    </tr>\n",
       "    <tr>\n",
       "      <th>291171</th>\n",
       "      <td>tt9001494</td>\n",
       "      <td>nm10123242</td>\n",
       "    </tr>\n",
       "    <tr>\n",
       "      <th>291172</th>\n",
       "      <td>tt9001494</td>\n",
       "      <td>nm10123248</td>\n",
       "    </tr>\n",
       "    <tr>\n",
       "      <th>291173</th>\n",
       "      <td>tt9004986</td>\n",
       "      <td>nm4993825</td>\n",
       "    </tr>\n",
       "  </tbody>\n",
       "</table>\n",
       "<p>291174 rows × 2 columns</p>\n",
       "</div>"
      ],
      "text/plain": [
       "         movie_id   person_id\n",
       "0       tt0285252   nm0899854\n",
       "1       tt0462036   nm1940585\n",
       "2       tt0835418   nm0151540\n",
       "3       tt0835418   nm0151540\n",
       "4       tt0878654   nm0089502\n",
       "...           ...         ...\n",
       "291169  tt8999974  nm10122357\n",
       "291170  tt9001390   nm6711477\n",
       "291171  tt9001494  nm10123242\n",
       "291172  tt9001494  nm10123248\n",
       "291173  tt9004986   nm4993825\n",
       "\n",
       "[291174 rows x 2 columns]"
      ]
     },
     "execution_count": 83,
     "metadata": {},
     "output_type": "execute_result"
    }
   ],
   "source": [
    "pd.read_sql(\"\"\"\n",
    "\n",
    "SELECT * \n",
    "FROM directors\n",
    "\n",
    "\"\"\", conn)"
   ]
  },
  {
   "cell_type": "code",
   "execution_count": 84,
   "metadata": {},
   "outputs": [
    {
     "data": {
      "text/html": [
       "<div>\n",
       "<style scoped>\n",
       "    .dataframe tbody tr th:only-of-type {\n",
       "        vertical-align: middle;\n",
       "    }\n",
       "\n",
       "    .dataframe tbody tr th {\n",
       "        vertical-align: top;\n",
       "    }\n",
       "\n",
       "    .dataframe thead th {\n",
       "        text-align: right;\n",
       "    }\n",
       "</style>\n",
       "<table border=\"1\" class=\"dataframe\">\n",
       "  <thead>\n",
       "    <tr style=\"text-align: right;\">\n",
       "      <th></th>\n",
       "      <th>genres</th>\n",
       "      <th>COUNT()</th>\n",
       "    </tr>\n",
       "  </thead>\n",
       "  <tbody>\n",
       "    <tr>\n",
       "      <th>0</th>\n",
       "      <td>Comedy,Drama,Fantasy</td>\n",
       "      <td>17504</td>\n",
       "    </tr>\n",
       "    <tr>\n",
       "      <th>1</th>\n",
       "      <td>Action,Crime,Drama</td>\n",
       "      <td>17272</td>\n",
       "    </tr>\n",
       "    <tr>\n",
       "      <th>2</th>\n",
       "      <td>Drama</td>\n",
       "      <td>16849</td>\n",
       "    </tr>\n",
       "    <tr>\n",
       "      <th>3</th>\n",
       "      <td>Sci-Fi</td>\n",
       "      <td>16243</td>\n",
       "    </tr>\n",
       "    <tr>\n",
       "      <th>4</th>\n",
       "      <td>Adventure,Comedy,Romance</td>\n",
       "      <td>15589</td>\n",
       "    </tr>\n",
       "    <tr>\n",
       "      <th>5</th>\n",
       "      <td>Action,Crime,Drama</td>\n",
       "      <td>14709</td>\n",
       "    </tr>\n",
       "    <tr>\n",
       "      <th>6</th>\n",
       "      <td>Documentary,History</td>\n",
       "      <td>13787</td>\n",
       "    </tr>\n",
       "    <tr>\n",
       "      <th>7</th>\n",
       "      <td>Animation,Drama,History</td>\n",
       "      <td>12900</td>\n",
       "    </tr>\n",
       "    <tr>\n",
       "      <th>8</th>\n",
       "      <td>Drama</td>\n",
       "      <td>11849</td>\n",
       "    </tr>\n",
       "    <tr>\n",
       "      <th>9</th>\n",
       "      <td>Biography,Drama</td>\n",
       "      <td>8379</td>\n",
       "    </tr>\n",
       "    <tr>\n",
       "      <th>10</th>\n",
       "      <td>Action,Crime,Drama</td>\n",
       "      <td>937</td>\n",
       "    </tr>\n",
       "    <tr>\n",
       "      <th>11</th>\n",
       "      <td>Action,Adventure,Fantasy</td>\n",
       "      <td>83</td>\n",
       "    </tr>\n",
       "    <tr>\n",
       "      <th>12</th>\n",
       "      <td>Action</td>\n",
       "      <td>32</td>\n",
       "    </tr>\n",
       "    <tr>\n",
       "      <th>13</th>\n",
       "      <td>Action</td>\n",
       "      <td>5</td>\n",
       "    </tr>\n",
       "    <tr>\n",
       "      <th>14</th>\n",
       "      <td>None</td>\n",
       "      <td>2</td>\n",
       "    </tr>\n",
       "    <tr>\n",
       "      <th>15</th>\n",
       "      <td>Drama</td>\n",
       "      <td>1</td>\n",
       "    </tr>\n",
       "    <tr>\n",
       "      <th>16</th>\n",
       "      <td>Action,Adventure,Fantasy</td>\n",
       "      <td>1</td>\n",
       "    </tr>\n",
       "    <tr>\n",
       "      <th>17</th>\n",
       "      <td>Fantasy</td>\n",
       "      <td>1</td>\n",
       "    </tr>\n",
       "    <tr>\n",
       "      <th>18</th>\n",
       "      <td>Action,Adventure,Fantasy</td>\n",
       "      <td>1</td>\n",
       "    </tr>\n",
       "  </tbody>\n",
       "</table>\n",
       "</div>"
      ],
      "text/plain": [
       "                      genres  COUNT()\n",
       "0       Comedy,Drama,Fantasy    17504\n",
       "1         Action,Crime,Drama    17272\n",
       "2                      Drama    16849\n",
       "3                     Sci-Fi    16243\n",
       "4   Adventure,Comedy,Romance    15589\n",
       "5         Action,Crime,Drama    14709\n",
       "6        Documentary,History    13787\n",
       "7    Animation,Drama,History    12900\n",
       "8                      Drama    11849\n",
       "9            Biography,Drama     8379\n",
       "10        Action,Crime,Drama      937\n",
       "11  Action,Adventure,Fantasy       83\n",
       "12                    Action       32\n",
       "13                    Action        5\n",
       "14                      None        2\n",
       "15                     Drama        1\n",
       "16  Action,Adventure,Fantasy        1\n",
       "17                   Fantasy        1\n",
       "18  Action,Adventure,Fantasy        1"
      ]
     },
     "execution_count": 84,
     "metadata": {},
     "output_type": "execute_result"
    }
   ],
   "source": [
    "pd.read_sql(\"\"\"\n",
    "\n",
    "SELECT  \n",
    "        basi.genres,\n",
    "        COUNT()\n",
    "        \n",
    "        \n",
    "\n",
    "FROM movie_basics AS basi\n",
    "\n",
    "\n",
    "\n",
    "LEFT JOIN movie_ratings AS rati\n",
    "ON basi.movie_id = rati.movie_id\n",
    "\n",
    "group by basi.start_year\n",
    "\n",
    "ORDER BY COUNT() DESC\n",
    "\n",
    "\"\"\", conn)"
   ]
  },
  {
   "cell_type": "markdown",
   "metadata": {},
   "source": [
    "*Exploring movies that contain 'Drama' among their genres, only considering movies with numvotes above a 1000, went from 30788 values to 5044. got average rating*"
   ]
  },
  {
   "cell_type": "code",
   "execution_count": 85,
   "metadata": {
    "scrolled": true
   },
   "outputs": [],
   "source": [
    "Drama_raitings = pd.read_sql(\"\"\"\n",
    "\n",
    "SELECT  basi.genres,\n",
    "        rati.averagerating\n",
    "        \n",
    "FROM movie_basics AS basi\n",
    "\n",
    "LEFT JOIN movie_ratings AS rati\n",
    "ON basi.movie_id = rati.movie_id\n",
    "\n",
    "WHERE basi.genres LIKE '%Drama%' \n",
    "        AND rati.averagerating IS NOT NULL \n",
    "        AND rati.numvotes  > 1000\n",
    "\n",
    "\n",
    "\"\"\", conn).mean()[0]"
   ]
  },
  {
   "cell_type": "markdown",
   "metadata": {},
   "source": [
    "same, but using Action Genre"
   ]
  },
  {
   "cell_type": "code",
   "execution_count": 86,
   "metadata": {},
   "outputs": [],
   "source": [
    "Action_raitings = pd.read_sql(\"\"\"\n",
    "\n",
    "SELECT  basi.genres,\n",
    "        rati.averagerating\n",
    "        \n",
    "FROM movie_basics AS basi\n",
    "\n",
    "LEFT JOIN movie_ratings AS rati\n",
    "ON basi.movie_id = rati.movie_id\n",
    "\n",
    "WHERE basi.genres LIKE '%Action%' \n",
    "        AND rati.averagerating IS NOT NULL \n",
    "        AND rati.numvotes  > 1000\n",
    "\n",
    "\n",
    "\"\"\", conn).mean()[0]"
   ]
  },
  {
   "cell_type": "markdown",
   "metadata": {},
   "source": [
    "same, but using Thriller/horror  Genre"
   ]
  },
  {
   "cell_type": "code",
   "execution_count": 87,
   "metadata": {},
   "outputs": [],
   "source": [
    "Thriller_raitings = pd.read_sql(\"\"\"\n",
    "\n",
    "SELECT  basi.genres,\n",
    "        rati.averagerating\n",
    "        \n",
    "FROM movie_basics AS basi\n",
    "\n",
    "LEFT JOIN movie_ratings AS rati\n",
    "ON basi.movie_id = rati.movie_id\n",
    "\n",
    "WHERE basi.genres LIKE '%Thriller%' \n",
    "        AND basi.genres LIKE '%Horror%' \n",
    "        AND rati.averagerating IS NOT NULL \n",
    "        AND rati.numvotes  > 1000\n",
    "\n",
    "\n",
    "\"\"\", conn).mean()[0]"
   ]
  },
  {
   "cell_type": "code",
   "execution_count": 88,
   "metadata": {},
   "outputs": [
    {
     "data": {
      "text/plain": [
       "5.998060344827586"
      ]
     },
     "execution_count": 88,
     "metadata": {},
     "output_type": "execute_result"
    }
   ],
   "source": [
    "Fantasy_raitings = pd.read_sql(\"\"\"\n",
    "\n",
    "SELECT  basi.genres,\n",
    "        rati.averagerating\n",
    "        \n",
    "FROM movie_basics AS basi\n",
    "\n",
    "LEFT JOIN movie_ratings AS rati\n",
    "ON basi.movie_id = rati.movie_id\n",
    "\n",
    "WHERE basi.genres LIKE '%Fantasy%' \n",
    "        AND rati.averagerating IS NOT NULL \n",
    "        AND rati.numvotes  > 1000\n",
    "\n",
    "\n",
    "\"\"\", conn).mean()[0]\n",
    "Fantasy_raitings"
   ]
  },
  {
   "cell_type": "code",
   "execution_count": 89,
   "metadata": {},
   "outputs": [
    {
     "data": {
      "text/plain": [
       "5.714473684210526"
      ]
     },
     "execution_count": 89,
     "metadata": {},
     "output_type": "execute_result"
    }
   ],
   "source": [
    "Sci_Fi_raitings = pd.read_sql(\"\"\"\n",
    "\n",
    "SELECT  basi.genres,\n",
    "        rati.averagerating\n",
    "        \n",
    "FROM movie_basics AS basi\n",
    "\n",
    "LEFT JOIN movie_ratings AS rati\n",
    "ON basi.movie_id = rati.movie_id\n",
    "\n",
    "WHERE basi.genres LIKE '%Sci-Fi%' \n",
    "        AND rati.averagerating IS NOT NULL \n",
    "        AND rati.numvotes  > 1000\n",
    "\n",
    "\n",
    "\"\"\", conn).mean()[0]\n",
    "Sci_Fi_raitings"
   ]
  },
  {
   "cell_type": "code",
   "execution_count": 90,
   "metadata": {},
   "outputs": [
    {
     "data": {
      "text/plain": [
       "6.112916111850865"
      ]
     },
     "execution_count": 90,
     "metadata": {},
     "output_type": "execute_result"
    }
   ],
   "source": [
    "\n",
    "Comedy_raitings = pd.read_sql(\"\"\"\n",
    "\n",
    "SELECT  basi.genres,\n",
    "        rati.averagerating\n",
    "        \n",
    "FROM movie_basics AS basi\n",
    "\n",
    "LEFT JOIN movie_ratings AS rati\n",
    "ON basi.movie_id = rati.movie_id\n",
    "\n",
    "WHERE basi.genres LIKE '%Comedy%' \n",
    "        AND rati.averagerating IS NOT NULL \n",
    "        AND rati.numvotes  > 1000\n",
    "\n",
    "\n",
    "\"\"\", conn).mean()[0]\n",
    "Comedy_raitings"
   ]
  },
  {
   "cell_type": "code",
   "execution_count": 91,
   "metadata": {},
   "outputs": [
    {
     "data": {
      "text/plain": [
       "6.156686626746507"
      ]
     },
     "execution_count": 91,
     "metadata": {},
     "output_type": "execute_result"
    }
   ],
   "source": [
    "\n",
    "Adventure_raitings = pd.read_sql(\"\"\"\n",
    "\n",
    "SELECT  basi.genres,\n",
    "        rati.averagerating\n",
    "        \n",
    "FROM movie_basics AS basi\n",
    "\n",
    "LEFT JOIN movie_ratings AS rati\n",
    "ON basi.movie_id = rati.movie_id\n",
    "\n",
    "WHERE basi.genres LIKE '%Adventure%' \n",
    "        AND rati.averagerating IS NOT NULL \n",
    "        AND rati.numvotes  > 1000\n",
    "\n",
    "\n",
    "\"\"\", conn).mean()[0]\n",
    "Adventure_raitings"
   ]
  },
  {
   "cell_type": "code",
   "execution_count": 92,
   "metadata": {},
   "outputs": [],
   "source": [
    "\n",
    "Documentary_raitings = pd.read_sql(\"\"\"\n",
    "\n",
    "SELECT  basi.genres,\n",
    "        rati.averagerating\n",
    "        \n",
    "FROM movie_basics AS basi\n",
    "\n",
    "LEFT JOIN movie_ratings AS rati\n",
    "ON basi.movie_id = rati.movie_id\n",
    "\n",
    "WHERE basi.genres LIKE '%Documentary%' \n",
    "        AND rati.averagerating IS NOT NULL \n",
    "        AND rati.numvotes  > 1000\n",
    "\n",
    "\n",
    "\"\"\", conn).mean()[0]"
   ]
  },
  {
   "cell_type": "code",
   "execution_count": 93,
   "metadata": {},
   "outputs": [],
   "source": [
    "avg_raiting=[Drama_raitings, Action_raitings, Thriller_raitings, Fantasy_raitings, Sci_Fi_raitings, Comedy_raitings, Adventure_raitings, Documentary_raitings]\n",
    "avg_raiting_name=['Drama', 'Action', 'Thriller', 'Fantasy', 'Sci_Fi', 'Comedy', 'Adventure', 'Documentary']\n"
   ]
  },
  {
   "cell_type": "code",
   "execution_count": 94,
   "metadata": {},
   "outputs": [
    {
     "data": {
      "image/png": "[encoded data removed]",
      "text/plain": [
       "<Figure size 720x576 with 1 Axes>"
      ]
     },
     "metadata": {
      "needs_background": "light"
     },
     "output_type": "display_data"
    }
   ],
   "source": [
    "f, ax = plt.subplots(figsize=(10,8))\n",
    "\n",
    "ax.bar(avg_raiting_name, avg_raiting)\n",
    "\n",
    "plt.xticks(rotation = 45);"
   ]
  },
  {
   "cell_type": "code",
   "execution_count": null,
   "metadata": {},
   "outputs": [],
   "source": []
  }
 ],
 "metadata": {
  "kernelspec": {
   "display_name": "Python (learn-env)",
   "language": "python",
   "name": "learn-env"
  },
  "language_info": {
   "codemirror_mode": {
    "name": "ipython",
    "version": 3
   },
   "file_extension": ".py",
   "mimetype": "text/x-python",
   "name": "python",
   "nbconvert_exporter": "python",
   "pygments_lexer": "ipython3",
   "version": "3.8.5"
  }
 },
 "nbformat": 4,
 "nbformat_minor": 4
}
