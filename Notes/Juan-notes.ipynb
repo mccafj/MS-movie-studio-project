{
 "cells": [
  {
   "cell_type": "markdown",
   "metadata": {},
   "source": [
    "# Microsoft Movie Studio Project\n",
    "### unused code notebook"
   ]
  },
  {
   "cell_type": "code",
   "execution_count": 215,
   "metadata": {},
   "outputs": [],
   "source": [
    "# Import standard packages\n",
    "import pandas as pd\n",
    "import numpy as np\n",
    "import matplotlib.pyplot as plt\n",
    "import seaborn as sns\n",
    "import sqlite3\n",
    "\n",
    "%matplotlib inline"
   ]
  },
  {
   "cell_type": "markdown",
   "metadata": {},
   "source": [
    "Folder with saved files "
   ]
  },
  {
   "cell_type": "code",
   "execution_count": 216,
   "metadata": {
    "scrolled": false
   },
   "outputs": [
    {
     "name": "stdout",
     "output_type": "stream",
     "text": [
      "GrossMargin_and_genre_df.csv\r\n",
      "Netflix_movies_and_tv_shows_clustering.csv.zip\r\n",
      "Top_20_Movies_by_Gross_Profit.png\r\n",
      "Top_20_Movies_by_Gross_Profit_2.png\r\n",
      "all-weeks-global.tsv\r\n",
      "bom.movie_gross.csv.gz\r\n",
      "highest rated movies from TMDB action adv.png\r\n",
      "highest rated movies from TMDB drama.png\r\n",
      "im.db.zip\r\n",
      "most popular movie titles from TMDB.png\r\n",
      "netflix_top20_titles_hours.png\r\n",
      "rt.movie_info.tsv.gz\r\n",
      "rt.reviews.tsv.gz\r\n",
      "tmdb.movies.csv.gz\r\n",
      "tn.movie_budgets.csv.gz\r\n",
      "top-netflix-scraper.ipynb\r\n",
      "video game movies worldwide box office.png\r\n",
      "video_game_films.csv\r\n"
     ]
    }
   ],
   "source": [
    "! ls ../zippedData/"
   ]
  },
  {
   "cell_type": "markdown",
   "metadata": {},
   "source": [
    "# Exploring bom.movie_gross.csv.gz"
   ]
  },
  {
   "cell_type": "code",
   "execution_count": 217,
   "metadata": {},
   "outputs": [
    {
     "name": "stdout",
     "output_type": "stream",
     "text": [
      "<class 'pandas.core.frame.DataFrame'>\n",
      "RangeIndex: 3387 entries, 0 to 3386\n",
      "Data columns (total 5 columns):\n",
      " #   Column          Non-Null Count  Dtype  \n",
      "---  ------          --------------  -----  \n",
      " 0   title           3387 non-null   object \n",
      " 1   studio          3382 non-null   object \n",
      " 2   domestic_gross  3359 non-null   float64\n",
      " 3   foreign_gross   2037 non-null   object \n",
      " 4   year            3387 non-null   int64  \n",
      "dtypes: float64(1), int64(1), object(3)\n",
      "memory usage: 132.4+ KB\n"
     ]
    }
   ],
   "source": [
    "df_bom = pd.read_csv('../zippedData/bom.movie_gross.csv.gz')\n",
    "df_bom.info()"
   ]
  },
  {
   "cell_type": "markdown",
   "metadata": {},
   "source": [
    "# Exploring rt.movie_info.tsv.gz"
   ]
  },
  {
   "cell_type": "code",
   "execution_count": 218,
   "metadata": {
    "scrolled": true
   },
   "outputs": [
    {
     "name": "stdout",
     "output_type": "stream",
     "text": [
      "<class 'pandas.core.frame.DataFrame'>\n",
      "RangeIndex: 1560 entries, 0 to 1559\n",
      "Data columns (total 12 columns):\n",
      " #   Column        Non-Null Count  Dtype \n",
      "---  ------        --------------  ----- \n",
      " 0   id            1560 non-null   int64 \n",
      " 1   synopsis      1498 non-null   object\n",
      " 2   rating        1557 non-null   object\n",
      " 3   genre         1552 non-null   object\n",
      " 4   director      1361 non-null   object\n",
      " 5   writer        1111 non-null   object\n",
      " 6   theater_date  1201 non-null   object\n",
      " 7   dvd_date      1201 non-null   object\n",
      " 8   currency      340 non-null    object\n",
      " 9   box_office    340 non-null    object\n",
      " 10  runtime       1530 non-null   object\n",
      " 11  studio        494 non-null    object\n",
      "dtypes: int64(1), object(11)\n",
      "memory usage: 146.4+ KB\n"
     ]
    }
   ],
   "source": [
    "df_rt = pd.read_csv('../zippedData/rt.movie_info.tsv.gz', delimiter='\\t')\n",
    "df_rt.info()"
   ]
  },
  {
   "cell_type": "markdown",
   "metadata": {},
   "source": [
    "# Exploring tmdb.movies.csv.gz"
   ]
  },
  {
   "cell_type": "code",
   "execution_count": 219,
   "metadata": {},
   "outputs": [
    {
     "name": "stdout",
     "output_type": "stream",
     "text": [
      "<class 'pandas.core.frame.DataFrame'>\n",
      "Int64Index: 26517 entries, 0 to 26516\n",
      "Data columns (total 9 columns):\n",
      " #   Column             Non-Null Count  Dtype  \n",
      "---  ------             --------------  -----  \n",
      " 0   genre_ids          26517 non-null  object \n",
      " 1   id                 26517 non-null  int64  \n",
      " 2   original_language  26517 non-null  object \n",
      " 3   original_title     26517 non-null  object \n",
      " 4   popularity         26517 non-null  float64\n",
      " 5   release_date       26517 non-null  object \n",
      " 6   title              26517 non-null  object \n",
      " 7   vote_average       26517 non-null  float64\n",
      " 8   vote_count         26517 non-null  int64  \n",
      "dtypes: float64(2), int64(2), object(5)\n",
      "memory usage: 2.0+ MB\n"
     ]
    }
   ],
   "source": [
    "df_tmdb = pd.read_csv('../zippedData/tmdb.movies.csv.gz', index_col=[0])\n",
    "df_tmdb.info()"
   ]
  },
  {
   "cell_type": "markdown",
   "metadata": {},
   "source": [
    "[Genre ID values and Asociated name](https://www.themoviedb.org/talk/5daf6eb0ae36680011d7e6ee)\n",
    "- The page has all meaning for each of the genre_ids codes, will change all id values, so genres can be desplayed from data frame"
   ]
  },
  {
   "cell_type": "markdown",
   "metadata": {},
   "source": [
    "# Exploring tn.movie_budgets.csv.gz"
   ]
  },
  {
   "cell_type": "code",
   "execution_count": 220,
   "metadata": {},
   "outputs": [
    {
     "name": "stdout",
     "output_type": "stream",
     "text": [
      "<class 'pandas.core.frame.DataFrame'>\n",
      "RangeIndex: 5782 entries, 0 to 5781\n",
      "Data columns (total 6 columns):\n",
      " #   Column             Non-Null Count  Dtype \n",
      "---  ------             --------------  ----- \n",
      " 0   id                 5782 non-null   int64 \n",
      " 1   release_date       5782 non-null   object\n",
      " 2   movie              5782 non-null   object\n",
      " 3   production_budget  5782 non-null   object\n",
      " 4   domestic_gross     5782 non-null   object\n",
      " 5   worldwide_gross    5782 non-null   object\n",
      "dtypes: int64(1), object(5)\n",
      "memory usage: 271.2+ KB\n"
     ]
    }
   ],
   "source": [
    "df_tn = pd.read_csv('../zippedData/tn.movie_budgets.csv.gz')\n",
    "df_tn.info()"
   ]
  },
  {
   "cell_type": "markdown",
   "metadata": {},
   "source": [
    "### Transform all numeric columns from object to int"
   ]
  },
  {
   "cell_type": "markdown",
   "metadata": {},
   "source": [
    "Removing all commas from production_budget column"
   ]
  },
  {
   "cell_type": "code",
   "execution_count": 221,
   "metadata": {},
   "outputs": [],
   "source": [
    "df_tn['production_budget'] = df_tn['production_budget'].str.replace(',','')"
   ]
  },
  {
   "cell_type": "markdown",
   "metadata": {},
   "source": [
    "Removing all $ sign from production_budget column"
   ]
  },
  {
   "cell_type": "code",
   "execution_count": 222,
   "metadata": {},
   "outputs": [],
   "source": [
    "df_tn['production_budget'] = df_tn['production_budget'].str.replace('$','')"
   ]
  },
  {
   "cell_type": "code",
   "execution_count": 223,
   "metadata": {},
   "outputs": [
    {
     "data": {
      "text/html": [
       "<div>\n",
       "<style scoped>\n",
       "    .dataframe tbody tr th:only-of-type {\n",
       "        vertical-align: middle;\n",
       "    }\n",
       "\n",
       "    .dataframe tbody tr th {\n",
       "        vertical-align: top;\n",
       "    }\n",
       "\n",
       "    .dataframe thead th {\n",
       "        text-align: right;\n",
       "    }\n",
       "</style>\n",
       "<table border=\"1\" class=\"dataframe\">\n",
       "  <thead>\n",
       "    <tr style=\"text-align: right;\">\n",
       "      <th></th>\n",
       "      <th>id</th>\n",
       "      <th>release_date</th>\n",
       "      <th>movie</th>\n",
       "      <th>production_budget</th>\n",
       "      <th>domestic_gross</th>\n",
       "      <th>worldwide_gross</th>\n",
       "    </tr>\n",
       "  </thead>\n",
       "  <tbody>\n",
       "    <tr>\n",
       "      <th>0</th>\n",
       "      <td>1</td>\n",
       "      <td>Dec 18, 2009</td>\n",
       "      <td>Avatar</td>\n",
       "      <td>425000000</td>\n",
       "      <td>$760,507,625</td>\n",
       "      <td>$2,776,345,279</td>\n",
       "    </tr>\n",
       "    <tr>\n",
       "      <th>1</th>\n",
       "      <td>2</td>\n",
       "      <td>May 20, 2011</td>\n",
       "      <td>Pirates of the Caribbean: On Stranger Tides</td>\n",
       "      <td>410600000</td>\n",
       "      <td>$241,063,875</td>\n",
       "      <td>$1,045,663,875</td>\n",
       "    </tr>\n",
       "    <tr>\n",
       "      <th>2</th>\n",
       "      <td>3</td>\n",
       "      <td>Jun 7, 2019</td>\n",
       "      <td>Dark Phoenix</td>\n",
       "      <td>350000000</td>\n",
       "      <td>$42,762,350</td>\n",
       "      <td>$149,762,350</td>\n",
       "    </tr>\n",
       "  </tbody>\n",
       "</table>\n",
       "</div>"
      ],
      "text/plain": [
       "   id  release_date                                        movie  \\\n",
       "0   1  Dec 18, 2009                                       Avatar   \n",
       "1   2  May 20, 2011  Pirates of the Caribbean: On Stranger Tides   \n",
       "2   3   Jun 7, 2019                                 Dark Phoenix   \n",
       "\n",
       "  production_budget domestic_gross worldwide_gross  \n",
       "0         425000000   $760,507,625  $2,776,345,279  \n",
       "1         410600000   $241,063,875  $1,045,663,875  \n",
       "2         350000000    $42,762,350    $149,762,350  "
      ]
     },
     "execution_count": 223,
     "metadata": {},
     "output_type": "execute_result"
    }
   ],
   "source": [
    "df_tn.head(3)"
   ]
  },
  {
   "cell_type": "markdown",
   "metadata": {},
   "source": [
    "Following the same steps for domestic_gross and worldwide_gross columns"
   ]
  },
  {
   "cell_type": "code",
   "execution_count": 224,
   "metadata": {},
   "outputs": [],
   "source": [
    "df_tn['domestic_gross'] = df_tn['domestic_gross'].str.replace(',','')\n",
    "df_tn['domestic_gross'] = df_tn['domestic_gross'].str.replace('$','')"
   ]
  },
  {
   "cell_type": "code",
   "execution_count": 225,
   "metadata": {},
   "outputs": [],
   "source": [
    "df_tn['worldwide_gross'] = df_tn['worldwide_gross'].str.replace(',','')\n",
    "df_tn['worldwide_gross'] = df_tn['worldwide_gross'].str.replace('$','')"
   ]
  },
  {
   "cell_type": "markdown",
   "metadata": {},
   "source": [
    "Converting values from str to int"
   ]
  },
  {
   "cell_type": "code",
   "execution_count": 226,
   "metadata": {},
   "outputs": [],
   "source": [
    "df_tn['production_budget'] = df_tn['production_budget'].astype(int)\n",
    "df_tn['domestic_gross'] = df_tn['domestic_gross'].astype(int)\n",
    "df_tn['worldwide_gross'] = df_tn['worldwide_gross'].astype(int)"
   ]
  },
  {
   "cell_type": "code",
   "execution_count": 227,
   "metadata": {
    "scrolled": true
   },
   "outputs": [
    {
     "name": "stdout",
     "output_type": "stream",
     "text": [
      "<class 'pandas.core.frame.DataFrame'>\n",
      "RangeIndex: 5782 entries, 0 to 5781\n",
      "Data columns (total 6 columns):\n",
      " #   Column             Non-Null Count  Dtype \n",
      "---  ------             --------------  ----- \n",
      " 0   id                 5782 non-null   int64 \n",
      " 1   release_date       5782 non-null   object\n",
      " 2   movie              5782 non-null   object\n",
      " 3   production_budget  5782 non-null   int64 \n",
      " 4   domestic_gross     5782 non-null   int64 \n",
      " 5   worldwide_gross    5782 non-null   int64 \n",
      "dtypes: int64(4), object(2)\n",
      "memory usage: 271.2+ KB\n"
     ]
    }
   ],
   "source": [
    "df_tn.info()"
   ]
  },
  {
   "cell_type": "markdown",
   "metadata": {},
   "source": [
    "Creating a new column with gross profit for each movie(row), substracting production budget from total worldwide_gross"
   ]
  },
  {
   "cell_type": "code",
   "execution_count": 228,
   "metadata": {
    "scrolled": true
   },
   "outputs": [],
   "source": [
    "df_tn['gross_profit']= df_tn['worldwide_gross'] - df_tn['production_budget']\n"
   ]
  },
  {
   "cell_type": "markdown",
   "metadata": {},
   "source": [
    "Movies with largest gross profit"
   ]
  },
  {
   "cell_type": "code",
   "execution_count": 229,
   "metadata": {},
   "outputs": [
    {
     "data": {
      "text/html": [
       "<div>\n",
       "<style scoped>\n",
       "    .dataframe tbody tr th:only-of-type {\n",
       "        vertical-align: middle;\n",
       "    }\n",
       "\n",
       "    .dataframe tbody tr th {\n",
       "        vertical-align: top;\n",
       "    }\n",
       "\n",
       "    .dataframe thead th {\n",
       "        text-align: right;\n",
       "    }\n",
       "</style>\n",
       "<table border=\"1\" class=\"dataframe\">\n",
       "  <thead>\n",
       "    <tr style=\"text-align: right;\">\n",
       "      <th></th>\n",
       "      <th>id</th>\n",
       "      <th>release_date</th>\n",
       "      <th>movie</th>\n",
       "      <th>production_budget</th>\n",
       "      <th>domestic_gross</th>\n",
       "      <th>worldwide_gross</th>\n",
       "      <th>gross_profit</th>\n",
       "    </tr>\n",
       "  </thead>\n",
       "  <tbody>\n",
       "    <tr>\n",
       "      <th>0</th>\n",
       "      <td>1</td>\n",
       "      <td>Dec 18, 2009</td>\n",
       "      <td>Avatar</td>\n",
       "      <td>425000000</td>\n",
       "      <td>760507625</td>\n",
       "      <td>2776345279</td>\n",
       "      <td>2351345279</td>\n",
       "    </tr>\n",
       "    <tr>\n",
       "      <th>42</th>\n",
       "      <td>43</td>\n",
       "      <td>Dec 19, 1997</td>\n",
       "      <td>Titanic</td>\n",
       "      <td>200000000</td>\n",
       "      <td>659363944</td>\n",
       "      <td>2208208395</td>\n",
       "      <td>2008208395</td>\n",
       "    </tr>\n",
       "    <tr>\n",
       "      <th>6</th>\n",
       "      <td>7</td>\n",
       "      <td>Apr 27, 2018</td>\n",
       "      <td>Avengers: Infinity War</td>\n",
       "      <td>300000000</td>\n",
       "      <td>678815482</td>\n",
       "      <td>2048134200</td>\n",
       "      <td>1748134200</td>\n",
       "    </tr>\n",
       "  </tbody>\n",
       "</table>\n",
       "</div>"
      ],
      "text/plain": [
       "    id  release_date                   movie  production_budget  \\\n",
       "0    1  Dec 18, 2009                  Avatar          425000000   \n",
       "42  43  Dec 19, 1997                 Titanic          200000000   \n",
       "6    7  Apr 27, 2018  Avengers: Infinity War          300000000   \n",
       "\n",
       "    domestic_gross  worldwide_gross  gross_profit  \n",
       "0        760507625       2776345279    2351345279  \n",
       "42       659363944       2208208395    2008208395  \n",
       "6        678815482       2048134200    1748134200  "
      ]
     },
     "execution_count": 229,
     "metadata": {},
     "output_type": "execute_result"
    }
   ],
   "source": [
    "df_tn.sort_values(by=['gross_profit'], ascending=False).head(3)\n"
   ]
  },
  {
   "cell_type": "markdown",
   "metadata": {},
   "source": [
    "\n",
    "\n",
    "\n",
    "## Merging 2 data frames to get genre column into frame with movies earnings\n",
    "\n",
    "\n",
    "Merging TMDB and TN data frames, TMDB contains movie's genres column and TN has gross profit information, by merging the two frames we can find which generes had better results in the box office.\n",
    "\n"
   ]
  },
  {
   "cell_type": "code",
   "execution_count": 230,
   "metadata": {},
   "outputs": [],
   "source": [
    "#set movie column as index, therefore both dataframes can merge based on matching values from its respective index\n",
    "df_tmdb.set_index(['title'], inplace= True)\n",
    "df_tn.set_index(['movie'], inplace= True)\n"
   ]
  },
  {
   "cell_type": "code",
   "execution_count": 231,
   "metadata": {},
   "outputs": [
    {
     "data": {
      "text/plain": [
       "(2385, 14)"
      ]
     },
     "execution_count": 231,
     "metadata": {},
     "output_type": "execute_result"
    }
   ],
   "source": [
    "merged_df = df_tn.merge(df_tmdb, how = 'inner', left_index=True, right_index=True)\n",
    "merged_df.shape"
   ]
  },
  {
   "cell_type": "markdown",
   "metadata": {},
   "source": [
    "### Replace values from genre_ID column with specific genre name\n",
    "\n",
    "Genre ID values and Asociated name\n",
    "\n",
    "- The page has all meaning for each of the genre_ids codes, below i remplaced all IDs so genres can be desplayed from data frame\n"
   ]
  },
  {
   "cell_type": "code",
   "execution_count": 158,
   "metadata": {},
   "outputs": [],
   "source": [
    "merged_df['genre_ids'] = merged_df['genre_ids'].str.replace('12', 'Adventure')\n",
    "merged_df['genre_ids'] = merged_df['genre_ids'].str.replace('28', 'Action')\n",
    "merged_df['genre_ids'] = merged_df['genre_ids'].str.replace('16', 'Animation')\n",
    "merged_df['genre_ids'] = merged_df['genre_ids'].str.replace('35', 'Comedy')\n",
    "merged_df['genre_ids'] = merged_df['genre_ids'].str.replace('80', 'Crime')\n",
    "merged_df['genre_ids'] = merged_df['genre_ids'].str.replace('99', 'Documentary')\n",
    "merged_df['genre_ids'] = merged_df['genre_ids'].str.replace('18', 'Drama')\n",
    "merged_df['genre_ids'] = merged_df['genre_ids'].str.replace('10751', 'Family')\n",
    "merged_df['genre_ids'] = merged_df['genre_ids'].str.replace('14', 'Fantasy')\n",
    "merged_df['genre_ids'] = merged_df['genre_ids'].str.replace('36', 'History')\n",
    "merged_df['genre_ids'] = merged_df['genre_ids'].str.replace('27', 'Horror')\n",
    "merged_df['genre_ids'] = merged_df['genre_ids'].str.replace('10402', 'Music')\n",
    "merged_df['genre_ids'] = merged_df['genre_ids'].str.replace('9648', 'Mystery')\n",
    "merged_df['genre_ids'] = merged_df['genre_ids'].str.replace('10749', 'Romance')\n",
    "merged_df['genre_ids'] = merged_df['genre_ids'].str.replace('878', 'Science Fiction')\n",
    "merged_df['genre_ids'] = merged_df['genre_ids'].str.replace('10770', 'TV Movie')\n",
    "merged_df['genre_ids'] = merged_df['genre_ids'].str.replace('53', 'Thriller')\n",
    "merged_df['genre_ids'] = merged_df['genre_ids'].str.replace('10752', 'War')\n",
    "merged_df['genre_ids'] = merged_df['genre_ids'].str.replace('37', 'Western')"
   ]
  },
  {
   "cell_type": "code",
   "execution_count": null,
   "metadata": {},
   "outputs": [],
   "source": []
  },
  {
   "cell_type": "markdown",
   "metadata": {},
   "source": [
    "Some of the movies have missing data under the genre id column"
   ]
  },
  {
   "cell_type": "code",
   "execution_count": 21,
   "metadata": {},
   "outputs": [
    {
     "data": {
      "text/html": [
       "<div>\n",
       "<style scoped>\n",
       "    .dataframe tbody tr th:only-of-type {\n",
       "        vertical-align: middle;\n",
       "    }\n",
       "\n",
       "    .dataframe tbody tr th {\n",
       "        vertical-align: top;\n",
       "    }\n",
       "\n",
       "    .dataframe thead th {\n",
       "        text-align: right;\n",
       "    }\n",
       "</style>\n",
       "<table border=\"1\" class=\"dataframe\">\n",
       "  <thead>\n",
       "    <tr style=\"text-align: right;\">\n",
       "      <th></th>\n",
       "      <th>id_x</th>\n",
       "      <th>release_date_x</th>\n",
       "      <th>production_budget</th>\n",
       "      <th>domestic_gross</th>\n",
       "      <th>worldwide_gross</th>\n",
       "      <th>gross_profit</th>\n",
       "      <th>genre_ids</th>\n",
       "      <th>id_y</th>\n",
       "      <th>original_language</th>\n",
       "      <th>original_title</th>\n",
       "      <th>popularity</th>\n",
       "      <th>release_date_y</th>\n",
       "      <th>vote_average</th>\n",
       "      <th>vote_count</th>\n",
       "    </tr>\n",
       "  </thead>\n",
       "  <tbody>\n",
       "    <tr>\n",
       "      <th>Alice in Wonderland</th>\n",
       "      <td>51</td>\n",
       "      <td>Mar 5, 2010</td>\n",
       "      <td>200000000</td>\n",
       "      <td>334191110</td>\n",
       "      <td>1025491110</td>\n",
       "      <td>825491110</td>\n",
       "      <td>[]</td>\n",
       "      <td>423971</td>\n",
       "      <td>en</td>\n",
       "      <td>Alice in Wonderland</td>\n",
       "      <td>0.600</td>\n",
       "      <td>2010-01-01</td>\n",
       "      <td>6.0</td>\n",
       "      <td>1</td>\n",
       "    </tr>\n",
       "    <tr>\n",
       "      <th>Alice in Wonderland</th>\n",
       "      <td>60</td>\n",
       "      <td>Jul 28, 1951</td>\n",
       "      <td>3000000</td>\n",
       "      <td>0</td>\n",
       "      <td>0</td>\n",
       "      <td>-3000000</td>\n",
       "      <td>[]</td>\n",
       "      <td>423971</td>\n",
       "      <td>en</td>\n",
       "      <td>Alice in Wonderland</td>\n",
       "      <td>0.600</td>\n",
       "      <td>2010-01-01</td>\n",
       "      <td>6.0</td>\n",
       "      <td>1</td>\n",
       "    </tr>\n",
       "    <tr>\n",
       "      <th>Alpha</th>\n",
       "      <td>79</td>\n",
       "      <td>Aug 17, 2018</td>\n",
       "      <td>51000000</td>\n",
       "      <td>35851379</td>\n",
       "      <td>99624873</td>\n",
       "      <td>48624873</td>\n",
       "      <td>[]</td>\n",
       "      <td>333465</td>\n",
       "      <td>el</td>\n",
       "      <td>A</td>\n",
       "      <td>0.840</td>\n",
       "      <td>2015-01-25</td>\n",
       "      <td>7.0</td>\n",
       "      <td>1</td>\n",
       "    </tr>\n",
       "    <tr>\n",
       "      <th>Animals</th>\n",
       "      <td>34</td>\n",
       "      <td>Dec 31, 2008</td>\n",
       "      <td>5500000</td>\n",
       "      <td>0</td>\n",
       "      <td>0</td>\n",
       "      <td>-5500000</td>\n",
       "      <td>[]</td>\n",
       "      <td>439312</td>\n",
       "      <td>en</td>\n",
       "      <td>Animals</td>\n",
       "      <td>0.600</td>\n",
       "      <td>2016-10-19</td>\n",
       "      <td>6.5</td>\n",
       "      <td>2</td>\n",
       "    </tr>\n",
       "    <tr>\n",
       "      <th>Breaking In</th>\n",
       "      <td>19</td>\n",
       "      <td>May 11, 2018</td>\n",
       "      <td>6000000</td>\n",
       "      <td>46840590</td>\n",
       "      <td>51411620</td>\n",
       "      <td>45411620</td>\n",
       "      <td>[]</td>\n",
       "      <td>403153</td>\n",
       "      <td>en</td>\n",
       "      <td>Breaking In</td>\n",
       "      <td>0.600</td>\n",
       "      <td>2014-01-01</td>\n",
       "      <td>2.5</td>\n",
       "      <td>2</td>\n",
       "    </tr>\n",
       "    <tr>\n",
       "      <th>...</th>\n",
       "      <td>...</td>\n",
       "      <td>...</td>\n",
       "      <td>...</td>\n",
       "      <td>...</td>\n",
       "      <td>...</td>\n",
       "      <td>...</td>\n",
       "      <td>...</td>\n",
       "      <td>...</td>\n",
       "      <td>...</td>\n",
       "      <td>...</td>\n",
       "      <td>...</td>\n",
       "      <td>...</td>\n",
       "      <td>...</td>\n",
       "      <td>...</td>\n",
       "    </tr>\n",
       "    <tr>\n",
       "      <th>Transcendence</th>\n",
       "      <td>2</td>\n",
       "      <td>Apr 18, 2014</td>\n",
       "      <td>100000000</td>\n",
       "      <td>23022309</td>\n",
       "      <td>103039258</td>\n",
       "      <td>3039258</td>\n",
       "      <td>[]</td>\n",
       "      <td>274278</td>\n",
       "      <td>en</td>\n",
       "      <td>Transcendence</td>\n",
       "      <td>0.600</td>\n",
       "      <td>2012-06-09</td>\n",
       "      <td>5.5</td>\n",
       "      <td>2</td>\n",
       "    </tr>\n",
       "    <tr>\n",
       "      <th>Trapped</th>\n",
       "      <td>87</td>\n",
       "      <td>Sep 20, 2002</td>\n",
       "      <td>30000000</td>\n",
       "      <td>6916869</td>\n",
       "      <td>6916869</td>\n",
       "      <td>-23083131</td>\n",
       "      <td>[]</td>\n",
       "      <td>159783</td>\n",
       "      <td>en</td>\n",
       "      <td>Trapped</td>\n",
       "      <td>0.655</td>\n",
       "      <td>2012-04-01</td>\n",
       "      <td>5.8</td>\n",
       "      <td>2</td>\n",
       "    </tr>\n",
       "    <tr>\n",
       "      <th>Trash</th>\n",
       "      <td>46</td>\n",
       "      <td>Oct 9, 2015</td>\n",
       "      <td>12000000</td>\n",
       "      <td>17484</td>\n",
       "      <td>6553186</td>\n",
       "      <td>-5446814</td>\n",
       "      <td>[]</td>\n",
       "      <td>128184</td>\n",
       "      <td>es</td>\n",
       "      <td>Trash</td>\n",
       "      <td>0.600</td>\n",
       "      <td>2010-11-03</td>\n",
       "      <td>3.0</td>\n",
       "      <td>3</td>\n",
       "    </tr>\n",
       "    <tr>\n",
       "      <th>Undiscovered</th>\n",
       "      <td>7</td>\n",
       "      <td>Aug 26, 2005</td>\n",
       "      <td>9000000</td>\n",
       "      <td>1069318</td>\n",
       "      <td>1069318</td>\n",
       "      <td>-7930682</td>\n",
       "      <td>[]</td>\n",
       "      <td>513161</td>\n",
       "      <td>en</td>\n",
       "      <td>Undiscovered</td>\n",
       "      <td>0.600</td>\n",
       "      <td>2018-04-07</td>\n",
       "      <td>8.0</td>\n",
       "      <td>1</td>\n",
       "    </tr>\n",
       "    <tr>\n",
       "      <th>Wonderland</th>\n",
       "      <td>26</td>\n",
       "      <td>Oct 3, 2003</td>\n",
       "      <td>5500000</td>\n",
       "      <td>1060512</td>\n",
       "      <td>1060512</td>\n",
       "      <td>-4439488</td>\n",
       "      <td>[]</td>\n",
       "      <td>290732</td>\n",
       "      <td>en</td>\n",
       "      <td>Wonderland</td>\n",
       "      <td>0.600</td>\n",
       "      <td>2014-10-14</td>\n",
       "      <td>3.3</td>\n",
       "      <td>3</td>\n",
       "    </tr>\n",
       "  </tbody>\n",
       "</table>\n",
       "<p>65 rows × 14 columns</p>\n",
       "</div>"
      ],
      "text/plain": [
       "                     id_x release_date_x  production_budget  domestic_gross  \\\n",
       "Alice in Wonderland    51    Mar 5, 2010          200000000       334191110   \n",
       "Alice in Wonderland    60   Jul 28, 1951            3000000               0   \n",
       "Alpha                  79   Aug 17, 2018           51000000        35851379   \n",
       "Animals                34   Dec 31, 2008            5500000               0   \n",
       "Breaking In            19   May 11, 2018            6000000        46840590   \n",
       "...                   ...            ...                ...             ...   \n",
       "Transcendence           2   Apr 18, 2014          100000000        23022309   \n",
       "Trapped                87   Sep 20, 2002           30000000         6916869   \n",
       "Trash                  46    Oct 9, 2015           12000000           17484   \n",
       "Undiscovered            7   Aug 26, 2005            9000000         1069318   \n",
       "Wonderland             26    Oct 3, 2003            5500000         1060512   \n",
       "\n",
       "                     worldwide_gross  gross_profit genre_ids    id_y  \\\n",
       "Alice in Wonderland       1025491110     825491110        []  423971   \n",
       "Alice in Wonderland                0      -3000000        []  423971   \n",
       "Alpha                       99624873      48624873        []  333465   \n",
       "Animals                            0      -5500000        []  439312   \n",
       "Breaking In                 51411620      45411620        []  403153   \n",
       "...                              ...           ...       ...     ...   \n",
       "Transcendence              103039258       3039258        []  274278   \n",
       "Trapped                      6916869     -23083131        []  159783   \n",
       "Trash                        6553186      -5446814        []  128184   \n",
       "Undiscovered                 1069318      -7930682        []  513161   \n",
       "Wonderland                   1060512      -4439488        []  290732   \n",
       "\n",
       "                    original_language       original_title  popularity  \\\n",
       "Alice in Wonderland                en  Alice in Wonderland       0.600   \n",
       "Alice in Wonderland                en  Alice in Wonderland       0.600   \n",
       "Alpha                              el                    A       0.840   \n",
       "Animals                            en              Animals       0.600   \n",
       "Breaking In                        en          Breaking In       0.600   \n",
       "...                               ...                  ...         ...   \n",
       "Transcendence                      en        Transcendence       0.600   \n",
       "Trapped                            en              Trapped       0.655   \n",
       "Trash                              es                Trash       0.600   \n",
       "Undiscovered                       en         Undiscovered       0.600   \n",
       "Wonderland                         en           Wonderland       0.600   \n",
       "\n",
       "                    release_date_y  vote_average  vote_count  \n",
       "Alice in Wonderland     2010-01-01           6.0           1  \n",
       "Alice in Wonderland     2010-01-01           6.0           1  \n",
       "Alpha                   2015-01-25           7.0           1  \n",
       "Animals                 2016-10-19           6.5           2  \n",
       "Breaking In             2014-01-01           2.5           2  \n",
       "...                            ...           ...         ...  \n",
       "Transcendence           2012-06-09           5.5           2  \n",
       "Trapped                 2012-04-01           5.8           2  \n",
       "Trash                   2010-11-03           3.0           3  \n",
       "Undiscovered            2018-04-07           8.0           1  \n",
       "Wonderland              2014-10-14           3.3           3  \n",
       "\n",
       "[65 rows x 14 columns]"
      ]
     },
     "execution_count": 21,
     "metadata": {},
     "output_type": "execute_result"
    }
   ],
   "source": [
    "merged_df.loc[merged_df['genre_ids'] == '[]']\n"
   ]
  },
  {
   "cell_type": "markdown",
   "metadata": {},
   "source": [
    "### Drop movies without genre"
   ]
  },
  {
   "cell_type": "markdown",
   "metadata": {},
   "source": [
    "Below im setting all movies which show  '[]' on the genre_ID column, to show NaN instead "
   ]
  },
  {
   "cell_type": "code",
   "execution_count": 22,
   "metadata": {
    "scrolled": true
   },
   "outputs": [],
   "source": [
    "merged_df.loc[merged_df['genre_ids'] == '[]', 'genre_ids'] = None"
   ]
  },
  {
   "cell_type": "markdown",
   "metadata": {},
   "source": [
    "Droping all NaN from that column"
   ]
  },
  {
   "cell_type": "code",
   "execution_count": 23,
   "metadata": {},
   "outputs": [],
   "source": [
    "merged_df = merged_df.dropna(subset=['genre_ids'])"
   ]
  },
  {
   "cell_type": "markdown",
   "metadata": {},
   "source": [
    "### Change general genre categories to specific category\n",
    "\n",
    "\n",
    "some of the movies were tagged with multiple genres, when looking for a value_count for all generes it will show each unique combination of generes like a singular value, below I used a for loop to change some of the most frequent combinations of generes to the more prominent value between the options"
   ]
  },
  {
   "cell_type": "code",
   "execution_count": 24,
   "metadata": {
    "scrolled": true
   },
   "outputs": [],
   "source": [
    "merged_df_copy = merged_df.copy() #made a copy of data frame just in case outcome isn't the one desired\n"
   ]
  },
  {
   "cell_type": "code",
   "execution_count": 25,
   "metadata": {},
   "outputs": [],
   "source": [
    "merged_df_copy_list = merged_df_copy['genre_ids'].tolist()\n"
   ]
  },
  {
   "cell_type": "code",
   "execution_count": 26,
   "metadata": {},
   "outputs": [],
   "source": [
    "def contains_Drama(lst):\n",
    "    new_list=[]\n",
    "    for x in lst:\n",
    "        if x == '[Drama, History]':\n",
    "            x = '[Drama]'\n",
    "        new_list.append(x)\n",
    "            \n",
    "            \n",
    "    return new_list"
   ]
  },
  {
   "cell_type": "code",
   "execution_count": 27,
   "metadata": {},
   "outputs": [],
   "source": [
    "lis1 = contains_Drama(merged_df_copy_list)"
   ]
  },
  {
   "cell_type": "code",
   "execution_count": 28,
   "metadata": {},
   "outputs": [],
   "source": [
    "def contains_Horror(lst):\n",
    "    new_list=[]\n",
    "    for x in lst:\n",
    "        if x == '[Horror, Thriller]' or x == '[Thriller, Horror]':\n",
    "            x = '[Horror]'\n",
    "        new_list.append(x)\n",
    "            \n",
    "            \n",
    "    return new_list"
   ]
  },
  {
   "cell_type": "code",
   "execution_count": 29,
   "metadata": {},
   "outputs": [],
   "source": [
    "lis2 = contains_Horror(lis1)"
   ]
  },
  {
   "cell_type": "code",
   "execution_count": 30,
   "metadata": {},
   "outputs": [],
   "source": [
    "def contains_Romance(lst):\n",
    "    new_list=[]\n",
    "    for x in lst:\n",
    "        if x == '[Drama, Romance]' or x == '[Comedy, Drama, Romance]':\n",
    "            x = '[Drama]'\n",
    "        new_list.append(x)\n",
    "            \n",
    "            \n",
    "    return new_list"
   ]
  },
  {
   "cell_type": "code",
   "execution_count": 31,
   "metadata": {},
   "outputs": [],
   "source": [
    "lis3 = contains_Romance(lis2)"
   ]
  },
  {
   "cell_type": "code",
   "execution_count": 32,
   "metadata": {},
   "outputs": [],
   "source": [
    "def contains_Thriller(lst):\n",
    "    new_list=[]\n",
    "    for x in lst:\n",
    "        if x == '[Drama, Thriller]' or x == '[Thriller, Drama]':\n",
    "            x = '[Thriller]'\n",
    "        new_list.append(x)\n",
    "            \n",
    "            \n",
    "    return new_list"
   ]
  },
  {
   "cell_type": "code",
   "execution_count": 33,
   "metadata": {},
   "outputs": [],
   "source": [
    "lis4 = contains_Thriller(lis3)"
   ]
  },
  {
   "cell_type": "code",
   "execution_count": 34,
   "metadata": {},
   "outputs": [],
   "source": [
    "def contains_romcoms(lst):\n",
    "    new_list=[]\n",
    "    for x in lst:\n",
    "        if x == '[Comedy, Romance]' or x == '[Comedy, Drama]' or x == '[Comedy, Drama, Romance]':\n",
    "            x = '[Comedy]'\n",
    "        new_list.append(x)\n",
    "            \n",
    "            \n",
    "    return new_list"
   ]
  },
  {
   "cell_type": "code",
   "execution_count": 35,
   "metadata": {},
   "outputs": [],
   "source": [
    "lis5 = contains_romcoms(lis4)"
   ]
  },
  {
   "cell_type": "code",
   "execution_count": 36,
   "metadata": {},
   "outputs": [],
   "source": [
    "def contains_history(lst):\n",
    "    new_list=[]\n",
    "    for x in lst:\n",
    "        if x == '[Drama, History]':\n",
    "            x = '[History]'\n",
    "        new_list.append(x)\n",
    "            \n",
    "            \n",
    "    return new_list"
   ]
  },
  {
   "cell_type": "code",
   "execution_count": 37,
   "metadata": {},
   "outputs": [],
   "source": [
    "lis6 = contains_history(lis5)"
   ]
  },
  {
   "cell_type": "code",
   "execution_count": 38,
   "metadata": {},
   "outputs": [],
   "source": [
    "def contains_action(lst):\n",
    "    new_list=[]\n",
    "    for x in lst:\n",
    "        if x == '[Action, Adventure, Science Fiction]'or x == '[Action, Thriller]' or x == '[Action, Crime, Thriller]':\n",
    "            x = '[Action]'\n",
    "        new_list.append(x)\n",
    "            \n",
    "            \n",
    "    return new_list"
   ]
  },
  {
   "cell_type": "code",
   "execution_count": 39,
   "metadata": {},
   "outputs": [],
   "source": [
    "lis7 = contains_action(lis6)"
   ]
  },
  {
   "cell_type": "code",
   "execution_count": 40,
   "metadata": {},
   "outputs": [],
   "source": [
    "# def contains_action1(lst):\n",
    "#     new_list=[]\n",
    "#     for x in lst:\n",
    "#         if '[Action, Adventure,' in x:\n",
    "#             x = '[Action]'\n",
    "#         new_list.append(x)\n",
    "            \n",
    "            \n",
    "#     return new_list"
   ]
  },
  {
   "cell_type": "code",
   "execution_count": 41,
   "metadata": {},
   "outputs": [],
   "source": [
    "# lis8 = contains_action(lis7)"
   ]
  },
  {
   "cell_type": "code",
   "execution_count": 42,
   "metadata": {},
   "outputs": [],
   "source": [
    "merged_df_copy['genre_ids'] = lis7\n"
   ]
  },
  {
   "cell_type": "markdown",
   "metadata": {},
   "source": [
    "## Update main Dataframe with new categories\n",
    "\n",
    "All steps above we made to a copy of the DataFrame\n"
   ]
  },
  {
   "cell_type": "code",
   "execution_count": 44,
   "metadata": {
    "scrolled": false
   },
   "outputs": [],
   "source": [
    "merged_df['genre_ids'] = merged_df_copy['genre_ids']"
   ]
  },
  {
   "cell_type": "code",
   "execution_count": 45,
   "metadata": {},
   "outputs": [
    {
     "data": {
      "text/plain": [
       "[Drama]                      335\n",
       "[Comedy]                     219\n",
       "[Horror]                     128\n",
       "[Thriller]                    85\n",
       "[Action]                      75\n",
       "[Documentary]                 69\n",
       "[Drama, Comedy]               26\n",
       "[Crime, Drama, Thriller]      20\n",
       "[Romance, Drama]              18\n",
       "[Drama, Music]                16\n",
       "[Crime, Thriller]             14\n",
       "[Action, Comedy]              14\n",
       "[Drama, Comedy, Romance]      14\n",
       "[Romance, Comedy]             12\n",
       "[Action, Drama, Thriller]     11\n",
       "[Action, Comedy, Crime]       11\n",
       "[Thriller, Crime, Drama]      11\n",
       "[Drama, Crime]                11\n",
       "[Drama, Science Fiction]      10\n",
       "[Crime, Drama]                10\n",
       "Name: genre_ids, dtype: int64"
      ]
     },
     "execution_count": 45,
     "metadata": {},
     "output_type": "execute_result"
    }
   ],
   "source": [
    "merged_df['genre_ids'].value_counts().head(20)"
   ]
  },
  {
   "cell_type": "code",
   "execution_count": null,
   "metadata": {},
   "outputs": [],
   "source": [
    "merged_df['gross_profit_by_millions'] = merged_df['gross_margin'] / 1000000"
   ]
  },
  {
   "cell_type": "markdown",
   "metadata": {},
   "source": [
    "###  Save as new file"
   ]
  },
  {
   "cell_type": "code",
   "execution_count": 46,
   "metadata": {},
   "outputs": [],
   "source": [
    "df = merged_df.copy()"
   ]
  },
  {
   "cell_type": "code",
   "execution_count": 47,
   "metadata": {},
   "outputs": [],
   "source": [
    "# df.to_csv('Merged_df_TMDB_TN.csv')"
   ]
  },
  {
   "cell_type": "markdown",
   "metadata": {},
   "source": [
    "## Opening new file"
   ]
  },
  {
   "cell_type": "code",
   "execution_count": 48,
   "metadata": {},
   "outputs": [
    {
     "name": "stdout",
     "output_type": "stream",
     "text": [
      "GrossMargin_and_genre_df.csv\r\n",
      "Netflix_movies_and_tv_shows_clustering.csv.zip\r\n",
      "all-weeks-global.tsv\r\n",
      "bom.movie_gross.csv.gz\r\n",
      "highest rated movies from TMDB action adv.png\r\n",
      "highest rated movies from TMDB drama.png\r\n",
      "im.db.zip\r\n",
      "most popular movie titles from TMDB.png\r\n",
      "netflix_top20_titles_hours.png\r\n",
      "rt.movie_info.tsv.gz\r\n",
      "rt.reviews.tsv.gz\r\n",
      "tmdb.movies.csv.gz\r\n",
      "tn.movie_budgets.csv.gz\r\n",
      "top-netflix-scraper.ipynb\r\n",
      "video game movies worldwide box office.png\r\n",
      "video_game_films.csv\r\n"
     ]
    }
   ],
   "source": [
    "! ls ../zippedData/"
   ]
  },
  {
   "cell_type": "code",
   "execution_count": 208,
   "metadata": {},
   "outputs": [],
   "source": [
    "df = pd.read_csv('Merged_df_TMDB_TN.csv')"
   ]
  },
  {
   "cell_type": "code",
   "execution_count": 209,
   "metadata": {},
   "outputs": [
    {
     "name": "stdout",
     "output_type": "stream",
     "text": [
      "<class 'pandas.core.frame.DataFrame'>\n",
      "RangeIndex: 1900 entries, 0 to 1899\n",
      "Data columns (total 17 columns):\n",
      " #   Column                    Non-Null Count  Dtype  \n",
      "---  ------                    --------------  -----  \n",
      " 0   Unnamed: 0                1900 non-null   int64  \n",
      " 1   Unnamed: 0.1              1900 non-null   object \n",
      " 2   id_x                      1900 non-null   int64  \n",
      " 3   release_date_x            1900 non-null   object \n",
      " 4   production_budget         1900 non-null   int64  \n",
      " 5   domestic_gross            1900 non-null   int64  \n",
      " 6   worldwide_gross           1900 non-null   int64  \n",
      " 7   gross_margin              1900 non-null   int64  \n",
      " 8   genre_ids                 1900 non-null   object \n",
      " 9   id_y                      1900 non-null   int64  \n",
      " 10  original_language         1900 non-null   object \n",
      " 11  original_title            1900 non-null   object \n",
      " 12  popularity                1900 non-null   float64\n",
      " 13  release_date_y            1900 non-null   object \n",
      " 14  vote_average              1900 non-null   float64\n",
      " 15  vote_count                1900 non-null   int64  \n",
      " 16  gross_profit_by_millions  1900 non-null   float64\n",
      "dtypes: float64(3), int64(8), object(6)\n",
      "memory usage: 252.5+ KB\n"
     ]
    }
   ],
   "source": [
    "df.info()"
   ]
  },
  {
   "cell_type": "markdown",
   "metadata": {},
   "source": [
    "## Ploting Using  most frequent genres on df"
   ]
  },
  {
   "cell_type": "markdown",
   "metadata": {},
   "source": [
    "### creating new column"
   ]
  },
  {
   "cell_type": "code",
   "execution_count": 166,
   "metadata": {
    "scrolled": true
   },
   "outputs": [],
   "source": [
    "# df['gross_profit_by_millions'] = df['gross_margin'] / 1000000"
   ]
  },
  {
   "cell_type": "code",
   "execution_count": 172,
   "metadata": {},
   "outputs": [],
   "source": [
    "#updateGenere = df['genre_ids']"
   ]
  },
  {
   "cell_type": "code",
   "execution_count": 173,
   "metadata": {},
   "outputs": [],
   "source": [
    "#little more cleaning changin all genere with '[Action, Adventure,' in it to just Action"
   ]
  },
  {
   "cell_type": "code",
   "execution_count": 174,
   "metadata": {},
   "outputs": [],
   "source": [
    "#def contains_action1(lst):\n",
    "    #new_list=[]\n",
    "    #for x in lst:\n",
    "       # if '[Action, Adventure,' in x:\n",
    "           # x = '[Action]'\n",
    "       # new_list.append(x)\n",
    "            \n",
    "            \n",
    "   # return new_list"
   ]
  },
  {
   "cell_type": "code",
   "execution_count": 175,
   "metadata": {},
   "outputs": [],
   "source": [
    "#new = contains_action1(updateGenere)"
   ]
  },
  {
   "cell_type": "code",
   "execution_count": 176,
   "metadata": {
    "scrolled": false
   },
   "outputs": [],
   "source": [
    "#df['genre_ids'] = new"
   ]
  },
  {
   "cell_type": "markdown",
   "metadata": {},
   "source": [
    "Droping duplicate movies on DataFrame"
   ]
  },
  {
   "cell_type": "code",
   "execution_count": 177,
   "metadata": {},
   "outputs": [],
   "source": [
    "# df.drop_duplicates(inplace=True)"
   ]
  },
  {
   "cell_type": "code",
   "execution_count": 178,
   "metadata": {},
   "outputs": [],
   "source": [
    "# df_new = df.loc[(df['genre_ids'] == '[Drama]') | (df['genre_ids'] == '[Documentary]') | (df['genre_ids'] == '[Comedy]')|\n",
    "#       (df['genre_ids'] == '[Horror]') | (df['genre_ids'] == '[Romance]') | (df['genre_ids'] == '[Rom-Coms]')|\n",
    "#       (df['genre_ids'] == '[History]') | (df['genre_ids'] == '[Action]') | (df['genre_ids'] == '[Thriller]')]\n"
   ]
  },
  {
   "cell_type": "code",
   "execution_count": 179,
   "metadata": {},
   "outputs": [],
   "source": [
    "# df_mean = df_new.groupby(['genre_ids'])['gross_profit_by_millions'].mean()\n",
    "# top_gross2 = df_mean.sort_values( ascending=False).head(10)"
   ]
  },
  {
   "cell_type": "code",
   "execution_count": 180,
   "metadata": {},
   "outputs": [],
   "source": [
    "# x2 = top_gross2.keys().tolist()\n",
    "# y2 = top_gross2.tolist()"
   ]
  },
  {
   "cell_type": "code",
   "execution_count": 171,
   "metadata": {},
   "outputs": [],
   "source": [
    "\n",
    "# ax = sns.barplot( x=x2, y=y2, color='crimson', ci=None )\n",
    "\n",
    "\n",
    "\n",
    "# ax.set_xticklabels(ax.get_xticklabels(), rotation=40, ha=\"right\")\n",
    "# ax.set_ylabel('Box office by millions')\n",
    "# ax.set_xlabel(' ')\n",
    "# ax.set_title('Gross profit by Genre');\n",
    "\n",
    "# plt.gcf().axes[0].yaxis.get_major_formatter().set_scientific(False) "
   ]
  },
  {
   "cell_type": "markdown",
   "metadata": {},
   "source": [
    "## Plot, Top 20 Movies by Gross Profit"
   ]
  },
  {
   "cell_type": "code",
   "execution_count": 200,
   "metadata": {},
   "outputs": [],
   "source": [
    "#noticed the movie Frozen in the top 20 had a dulplicate, and the row we would keep \n",
    "#after droping duplicates was showing Thriller as its genre\n",
    "# df.loc[df['original_title'] == 'Frozen', 'genre_ids'] = '[Animation, Adventure, Family]'"
   ]
  },
  {
   "cell_type": "code",
   "execution_count": 201,
   "metadata": {},
   "outputs": [],
   "source": [
    "# Droping Duplicates out of df\n",
    "# df = df.drop_duplicates(subset='Unnamed: 0')"
   ]
  },
  {
   "cell_type": "code",
   "execution_count": 210,
   "metadata": {},
   "outputs": [],
   "source": [
    "df_top_movies = df.sort_values(by=['gross_profit_by_millions'], ascending=False).head(20)"
   ]
  },
  {
   "cell_type": "code",
   "execution_count": 211,
   "metadata": {
    "scrolled": true
   },
   "outputs": [
    {
     "data": {
      "text/html": [
       "<div>\n",
       "<style scoped>\n",
       "    .dataframe tbody tr th:only-of-type {\n",
       "        vertical-align: middle;\n",
       "    }\n",
       "\n",
       "    .dataframe tbody tr th {\n",
       "        vertical-align: top;\n",
       "    }\n",
       "\n",
       "    .dataframe thead th {\n",
       "        text-align: right;\n",
       "    }\n",
       "</style>\n",
       "<table border=\"1\" class=\"dataframe\">\n",
       "  <thead>\n",
       "    <tr style=\"text-align: right;\">\n",
       "      <th></th>\n",
       "      <th>Unnamed: 0</th>\n",
       "      <th>Unnamed: 0.1</th>\n",
       "      <th>id_x</th>\n",
       "      <th>release_date_x</th>\n",
       "      <th>production_budget</th>\n",
       "      <th>domestic_gross</th>\n",
       "      <th>worldwide_gross</th>\n",
       "      <th>gross_margin</th>\n",
       "      <th>genre_ids</th>\n",
       "      <th>id_y</th>\n",
       "      <th>original_language</th>\n",
       "      <th>original_title</th>\n",
       "      <th>popularity</th>\n",
       "      <th>release_date_y</th>\n",
       "      <th>vote_average</th>\n",
       "      <th>vote_count</th>\n",
       "      <th>gross_profit_by_millions</th>\n",
       "    </tr>\n",
       "  </thead>\n",
       "  <tbody>\n",
       "    <tr>\n",
       "      <th>153</th>\n",
       "      <td>173</td>\n",
       "      <td>Avatar</td>\n",
       "      <td>1</td>\n",
       "      <td>Dec 18, 2009</td>\n",
       "      <td>425000000</td>\n",
       "      <td>760507625</td>\n",
       "      <td>2776345279</td>\n",
       "      <td>2351345279</td>\n",
       "      <td>[Action, Adventure, Fantasy, Science Fiction]</td>\n",
       "      <td>19995</td>\n",
       "      <td>en</td>\n",
       "      <td>Avatar</td>\n",
       "      <td>26.526</td>\n",
       "      <td>2009-12-18</td>\n",
       "      <td>7.4</td>\n",
       "      <td>18676</td>\n",
       "      <td>2351.345279</td>\n",
       "    </tr>\n",
       "    <tr>\n",
       "      <th>155</th>\n",
       "      <td>175</td>\n",
       "      <td>Avengers: Infinity War</td>\n",
       "      <td>7</td>\n",
       "      <td>Apr 27, 2018</td>\n",
       "      <td>300000000</td>\n",
       "      <td>678815482</td>\n",
       "      <td>2048134200</td>\n",
       "      <td>1748134200</td>\n",
       "      <td>[Adventure, Action, Fantasy]</td>\n",
       "      <td>299536</td>\n",
       "      <td>en</td>\n",
       "      <td>Avengers: Infinity War</td>\n",
       "      <td>80.773</td>\n",
       "      <td>2018-04-27</td>\n",
       "      <td>8.3</td>\n",
       "      <td>13948</td>\n",
       "      <td>1748.134200</td>\n",
       "    </tr>\n",
       "    <tr>\n",
       "      <th>788</th>\n",
       "      <td>962</td>\n",
       "      <td>Jurassic World</td>\n",
       "      <td>34</td>\n",
       "      <td>Jun 12, 2015</td>\n",
       "      <td>215000000</td>\n",
       "      <td>652270625</td>\n",
       "      <td>1648854864</td>\n",
       "      <td>1433854864</td>\n",
       "      <td>[Action, Adventure, Science Fiction, Thriller]</td>\n",
       "      <td>135397</td>\n",
       "      <td>en</td>\n",
       "      <td>Jurassic World</td>\n",
       "      <td>20.709</td>\n",
       "      <td>2015-06-12</td>\n",
       "      <td>6.6</td>\n",
       "      <td>14056</td>\n",
       "      <td>1433.854864</td>\n",
       "    </tr>\n",
       "    <tr>\n",
       "      <th>567</th>\n",
       "      <td>690</td>\n",
       "      <td>Furious 7</td>\n",
       "      <td>67</td>\n",
       "      <td>Apr 3, 2015</td>\n",
       "      <td>190000000</td>\n",
       "      <td>353007020</td>\n",
       "      <td>1518722794</td>\n",
       "      <td>1328722794</td>\n",
       "      <td>[Action]</td>\n",
       "      <td>168259</td>\n",
       "      <td>en</td>\n",
       "      <td>Furious 7</td>\n",
       "      <td>20.396</td>\n",
       "      <td>2015-04-03</td>\n",
       "      <td>7.3</td>\n",
       "      <td>6538</td>\n",
       "      <td>1328.722794</td>\n",
       "    </tr>\n",
       "    <tr>\n",
       "      <th>1361</th>\n",
       "      <td>1659</td>\n",
       "      <td>The Avengers</td>\n",
       "      <td>27</td>\n",
       "      <td>May 4, 2012</td>\n",
       "      <td>225000000</td>\n",
       "      <td>623279547</td>\n",
       "      <td>1517935897</td>\n",
       "      <td>1292935897</td>\n",
       "      <td>[Science Fiction, Action, Adventure]</td>\n",
       "      <td>24428</td>\n",
       "      <td>en</td>\n",
       "      <td>The Avengers</td>\n",
       "      <td>50.289</td>\n",
       "      <td>2012-05-04</td>\n",
       "      <td>7.6</td>\n",
       "      <td>19673</td>\n",
       "      <td>1292.935897</td>\n",
       "    </tr>\n",
       "    <tr>\n",
       "      <th>220</th>\n",
       "      <td>260</td>\n",
       "      <td>Black Panther</td>\n",
       "      <td>42</td>\n",
       "      <td>Feb 16, 2018</td>\n",
       "      <td>200000000</td>\n",
       "      <td>700059566</td>\n",
       "      <td>1348258224</td>\n",
       "      <td>1148258224</td>\n",
       "      <td>[Action, Animation]</td>\n",
       "      <td>86841</td>\n",
       "      <td>en</td>\n",
       "      <td>Black Panther</td>\n",
       "      <td>2.058</td>\n",
       "      <td>2011-01-18</td>\n",
       "      <td>5.1</td>\n",
       "      <td>11</td>\n",
       "      <td>1148.258224</td>\n",
       "    </tr>\n",
       "    <tr>\n",
       "      <th>789</th>\n",
       "      <td>963</td>\n",
       "      <td>Jurassic World: Fallen Kingdom</td>\n",
       "      <td>13</td>\n",
       "      <td>Jun 22, 2018</td>\n",
       "      <td>170000000</td>\n",
       "      <td>417719760</td>\n",
       "      <td>1305772799</td>\n",
       "      <td>1135772799</td>\n",
       "      <td>[Action]</td>\n",
       "      <td>351286</td>\n",
       "      <td>en</td>\n",
       "      <td>Jurassic World: Fallen Kingdom</td>\n",
       "      <td>34.958</td>\n",
       "      <td>2018-06-22</td>\n",
       "      <td>6.5</td>\n",
       "      <td>5995</td>\n",
       "      <td>1135.772799</td>\n",
       "    </tr>\n",
       "    <tr>\n",
       "      <th>564</th>\n",
       "      <td>686</td>\n",
       "      <td>Frozen</td>\n",
       "      <td>56</td>\n",
       "      <td>Nov 22, 2013</td>\n",
       "      <td>150000000</td>\n",
       "      <td>400738009</td>\n",
       "      <td>1272469910</td>\n",
       "      <td>1122469910</td>\n",
       "      <td>[Animation, Adventure, Family]</td>\n",
       "      <td>44363</td>\n",
       "      <td>en</td>\n",
       "      <td>Frozen</td>\n",
       "      <td>9.678</td>\n",
       "      <td>2010-02-05</td>\n",
       "      <td>5.8</td>\n",
       "      <td>987</td>\n",
       "      <td>1122.469910</td>\n",
       "    </tr>\n",
       "    <tr>\n",
       "      <th>186</th>\n",
       "      <td>213</td>\n",
       "      <td>Beauty and the Beast</td>\n",
       "      <td>35</td>\n",
       "      <td>Mar 17, 2017</td>\n",
       "      <td>160000000</td>\n",
       "      <td>504014165</td>\n",
       "      <td>1259199706</td>\n",
       "      <td>1099199706</td>\n",
       "      <td>[Romance, Family, Animation, Fantasy]</td>\n",
       "      <td>10020</td>\n",
       "      <td>en</td>\n",
       "      <td>Beauty and the Beast</td>\n",
       "      <td>26.701</td>\n",
       "      <td>2012-01-13</td>\n",
       "      <td>7.7</td>\n",
       "      <td>5730</td>\n",
       "      <td>1099.199706</td>\n",
       "    </tr>\n",
       "    <tr>\n",
       "      <th>937</th>\n",
       "      <td>1150</td>\n",
       "      <td>Minions</td>\n",
       "      <td>73</td>\n",
       "      <td>Jul 10, 2015</td>\n",
       "      <td>74000000</td>\n",
       "      <td>336045770</td>\n",
       "      <td>1160336173</td>\n",
       "      <td>1086336173</td>\n",
       "      <td>[Family, Animation, Adventure, Comedy]</td>\n",
       "      <td>211672</td>\n",
       "      <td>en</td>\n",
       "      <td>Minions</td>\n",
       "      <td>9.338</td>\n",
       "      <td>2015-07-10</td>\n",
       "      <td>6.4</td>\n",
       "      <td>7343</td>\n",
       "      <td>1086.336173</td>\n",
       "    </tr>\n",
       "    <tr>\n",
       "      <th>154</th>\n",
       "      <td>174</td>\n",
       "      <td>Avengers: Age of Ultron</td>\n",
       "      <td>4</td>\n",
       "      <td>May 1, 2015</td>\n",
       "      <td>330600000</td>\n",
       "      <td>459005868</td>\n",
       "      <td>1403013963</td>\n",
       "      <td>1072413963</td>\n",
       "      <td>[Action]</td>\n",
       "      <td>99861</td>\n",
       "      <td>en</td>\n",
       "      <td>Avengers: Age of Ultron</td>\n",
       "      <td>44.383</td>\n",
       "      <td>2015-05-01</td>\n",
       "      <td>7.3</td>\n",
       "      <td>13457</td>\n",
       "      <td>1072.413963</td>\n",
       "    </tr>\n",
       "    <tr>\n",
       "      <th>727</th>\n",
       "      <td>890</td>\n",
       "      <td>Incredibles 2</td>\n",
       "      <td>44</td>\n",
       "      <td>Jun 15, 2018</td>\n",
       "      <td>200000000</td>\n",
       "      <td>608581744</td>\n",
       "      <td>1242520711</td>\n",
       "      <td>1042520711</td>\n",
       "      <td>[Action, Adventure, Animation, Family]</td>\n",
       "      <td>260513</td>\n",
       "      <td>en</td>\n",
       "      <td>Incredibles 2</td>\n",
       "      <td>36.286</td>\n",
       "      <td>2018-06-15</td>\n",
       "      <td>7.6</td>\n",
       "      <td>6354</td>\n",
       "      <td>1042.520711</td>\n",
       "    </tr>\n",
       "    <tr>\n",
       "      <th>748</th>\n",
       "      <td>915</td>\n",
       "      <td>Iron Man 3</td>\n",
       "      <td>48</td>\n",
       "      <td>May 3, 2013</td>\n",
       "      <td>200000000</td>\n",
       "      <td>408992272</td>\n",
       "      <td>1215392272</td>\n",
       "      <td>1015392272</td>\n",
       "      <td>[Action]</td>\n",
       "      <td>68721</td>\n",
       "      <td>en</td>\n",
       "      <td>Iron Man 3</td>\n",
       "      <td>32.093</td>\n",
       "      <td>2013-05-03</td>\n",
       "      <td>6.9</td>\n",
       "      <td>14155</td>\n",
       "      <td>1015.392272</td>\n",
       "    </tr>\n",
       "    <tr>\n",
       "      <th>134</th>\n",
       "      <td>149</td>\n",
       "      <td>Aquaman</td>\n",
       "      <td>36</td>\n",
       "      <td>Dec 21, 2018</td>\n",
       "      <td>160000000</td>\n",
       "      <td>335061807</td>\n",
       "      <td>1146894640</td>\n",
       "      <td>986894640</td>\n",
       "      <td>[Action, Adventure, Fantasy]</td>\n",
       "      <td>297802</td>\n",
       "      <td>en</td>\n",
       "      <td>Aquaman</td>\n",
       "      <td>38.102</td>\n",
       "      <td>2018-12-21</td>\n",
       "      <td>6.8</td>\n",
       "      <td>6155</td>\n",
       "      <td>986.894640</td>\n",
       "    </tr>\n",
       "    <tr>\n",
       "      <th>1460</th>\n",
       "      <td>1777</td>\n",
       "      <td>The Fate of the Furious</td>\n",
       "      <td>23</td>\n",
       "      <td>Apr 14, 2017</td>\n",
       "      <td>250000000</td>\n",
       "      <td>225764765</td>\n",
       "      <td>1234846267</td>\n",
       "      <td>984846267</td>\n",
       "      <td>[Action]</td>\n",
       "      <td>337339</td>\n",
       "      <td>en</td>\n",
       "      <td>The Fate of the Furious</td>\n",
       "      <td>28.668</td>\n",
       "      <td>2017-04-14</td>\n",
       "      <td>6.9</td>\n",
       "      <td>6335</td>\n",
       "      <td>984.846267</td>\n",
       "    </tr>\n",
       "    <tr>\n",
       "      <th>409</th>\n",
       "      <td>503</td>\n",
       "      <td>Despicable Me 3</td>\n",
       "      <td>30</td>\n",
       "      <td>Jun 30, 2017</td>\n",
       "      <td>75000000</td>\n",
       "      <td>264624300</td>\n",
       "      <td>1034727750</td>\n",
       "      <td>959727750</td>\n",
       "      <td>[Action, Animation, Comedy, Family, Adventure]</td>\n",
       "      <td>324852</td>\n",
       "      <td>en</td>\n",
       "      <td>Despicable Me 3</td>\n",
       "      <td>16.407</td>\n",
       "      <td>2017-06-30</td>\n",
       "      <td>6.3</td>\n",
       "      <td>4106</td>\n",
       "      <td>959.727750</td>\n",
       "    </tr>\n",
       "    <tr>\n",
       "      <th>1758</th>\n",
       "      <td>2143</td>\n",
       "      <td>Transformers: Dark of the Moon</td>\n",
       "      <td>64</td>\n",
       "      <td>Jun 29, 2011</td>\n",
       "      <td>195000000</td>\n",
       "      <td>352390543</td>\n",
       "      <td>1123790543</td>\n",
       "      <td>928790543</td>\n",
       "      <td>[Action, Science Fiction, Adventure]</td>\n",
       "      <td>38356</td>\n",
       "      <td>en</td>\n",
       "      <td>Transformers: Dark of the Moon</td>\n",
       "      <td>5.339</td>\n",
       "      <td>2011-06-28</td>\n",
       "      <td>6.1</td>\n",
       "      <td>4961</td>\n",
       "      <td>928.790543</td>\n",
       "    </tr>\n",
       "    <tr>\n",
       "      <th>1236</th>\n",
       "      <td>1508</td>\n",
       "      <td>Skyfall</td>\n",
       "      <td>52</td>\n",
       "      <td>Nov 8, 2012</td>\n",
       "      <td>200000000</td>\n",
       "      <td>304360277</td>\n",
       "      <td>1110526981</td>\n",
       "      <td>910526981</td>\n",
       "      <td>[Action, Adventure, Thriller]</td>\n",
       "      <td>37724</td>\n",
       "      <td>en</td>\n",
       "      <td>Skyfall</td>\n",
       "      <td>19.270</td>\n",
       "      <td>2012-11-09</td>\n",
       "      <td>7.1</td>\n",
       "      <td>10441</td>\n",
       "      <td>910.526981</td>\n",
       "    </tr>\n",
       "    <tr>\n",
       "      <th>1567</th>\n",
       "      <td>1916</td>\n",
       "      <td>The Lion King</td>\n",
       "      <td>9</td>\n",
       "      <td>Jun 15, 1994</td>\n",
       "      <td>79300000</td>\n",
       "      <td>421785283</td>\n",
       "      <td>986214868</td>\n",
       "      <td>906914868</td>\n",
       "      <td>[Family, Animation, Drama]</td>\n",
       "      <td>8587</td>\n",
       "      <td>en</td>\n",
       "      <td>The Lion King</td>\n",
       "      <td>28.583</td>\n",
       "      <td>1994-06-23</td>\n",
       "      <td>8.2</td>\n",
       "      <td>10160</td>\n",
       "      <td>906.914868</td>\n",
       "    </tr>\n",
       "    <tr>\n",
       "      <th>408</th>\n",
       "      <td>502</td>\n",
       "      <td>Despicable Me 2</td>\n",
       "      <td>22</td>\n",
       "      <td>Jul 3, 2013</td>\n",
       "      <td>76000000</td>\n",
       "      <td>368065385</td>\n",
       "      <td>975216835</td>\n",
       "      <td>899216835</td>\n",
       "      <td>[Animation, Comedy, Family]</td>\n",
       "      <td>93456</td>\n",
       "      <td>en</td>\n",
       "      <td>Despicable Me 2</td>\n",
       "      <td>19.014</td>\n",
       "      <td>2013-07-03</td>\n",
       "      <td>6.9</td>\n",
       "      <td>7319</td>\n",
       "      <td>899.216835</td>\n",
       "    </tr>\n",
       "  </tbody>\n",
       "</table>\n",
       "</div>"
      ],
      "text/plain": [
       "      Unnamed: 0                    Unnamed: 0.1  id_x release_date_x  \\\n",
       "153          173                          Avatar     1   Dec 18, 2009   \n",
       "155          175          Avengers: Infinity War     7   Apr 27, 2018   \n",
       "788          962                  Jurassic World    34   Jun 12, 2015   \n",
       "567          690                       Furious 7    67    Apr 3, 2015   \n",
       "1361        1659                    The Avengers    27    May 4, 2012   \n",
       "220          260                   Black Panther    42   Feb 16, 2018   \n",
       "789          963  Jurassic World: Fallen Kingdom    13   Jun 22, 2018   \n",
       "564          686                          Frozen    56   Nov 22, 2013   \n",
       "186          213            Beauty and the Beast    35   Mar 17, 2017   \n",
       "937         1150                         Minions    73   Jul 10, 2015   \n",
       "154          174         Avengers: Age of Ultron     4    May 1, 2015   \n",
       "727          890                   Incredibles 2    44   Jun 15, 2018   \n",
       "748          915                      Iron Man 3    48    May 3, 2013   \n",
       "134          149                         Aquaman    36   Dec 21, 2018   \n",
       "1460        1777         The Fate of the Furious    23   Apr 14, 2017   \n",
       "409          503                 Despicable Me 3    30   Jun 30, 2017   \n",
       "1758        2143  Transformers: Dark of the Moon    64   Jun 29, 2011   \n",
       "1236        1508                         Skyfall    52    Nov 8, 2012   \n",
       "1567        1916                   The Lion King     9   Jun 15, 1994   \n",
       "408          502                 Despicable Me 2    22    Jul 3, 2013   \n",
       "\n",
       "      production_budget  domestic_gross  worldwide_gross  gross_margin  \\\n",
       "153           425000000       760507625       2776345279    2351345279   \n",
       "155           300000000       678815482       2048134200    1748134200   \n",
       "788           215000000       652270625       1648854864    1433854864   \n",
       "567           190000000       353007020       1518722794    1328722794   \n",
       "1361          225000000       623279547       1517935897    1292935897   \n",
       "220           200000000       700059566       1348258224    1148258224   \n",
       "789           170000000       417719760       1305772799    1135772799   \n",
       "564           150000000       400738009       1272469910    1122469910   \n",
       "186           160000000       504014165       1259199706    1099199706   \n",
       "937            74000000       336045770       1160336173    1086336173   \n",
       "154           330600000       459005868       1403013963    1072413963   \n",
       "727           200000000       608581744       1242520711    1042520711   \n",
       "748           200000000       408992272       1215392272    1015392272   \n",
       "134           160000000       335061807       1146894640     986894640   \n",
       "1460          250000000       225764765       1234846267     984846267   \n",
       "409            75000000       264624300       1034727750     959727750   \n",
       "1758          195000000       352390543       1123790543     928790543   \n",
       "1236          200000000       304360277       1110526981     910526981   \n",
       "1567           79300000       421785283        986214868     906914868   \n",
       "408            76000000       368065385        975216835     899216835   \n",
       "\n",
       "                                           genre_ids    id_y  \\\n",
       "153    [Action, Adventure, Fantasy, Science Fiction]   19995   \n",
       "155                     [Adventure, Action, Fantasy]  299536   \n",
       "788   [Action, Adventure, Science Fiction, Thriller]  135397   \n",
       "567                                         [Action]  168259   \n",
       "1361            [Science Fiction, Action, Adventure]   24428   \n",
       "220                              [Action, Animation]   86841   \n",
       "789                                         [Action]  351286   \n",
       "564                   [Animation, Adventure, Family]   44363   \n",
       "186            [Romance, Family, Animation, Fantasy]   10020   \n",
       "937           [Family, Animation, Adventure, Comedy]  211672   \n",
       "154                                         [Action]   99861   \n",
       "727           [Action, Adventure, Animation, Family]  260513   \n",
       "748                                         [Action]   68721   \n",
       "134                     [Action, Adventure, Fantasy]  297802   \n",
       "1460                                        [Action]  337339   \n",
       "409   [Action, Animation, Comedy, Family, Adventure]  324852   \n",
       "1758            [Action, Science Fiction, Adventure]   38356   \n",
       "1236                   [Action, Adventure, Thriller]   37724   \n",
       "1567                      [Family, Animation, Drama]    8587   \n",
       "408                      [Animation, Comedy, Family]   93456   \n",
       "\n",
       "     original_language                  original_title  popularity  \\\n",
       "153                 en                          Avatar      26.526   \n",
       "155                 en          Avengers: Infinity War      80.773   \n",
       "788                 en                  Jurassic World      20.709   \n",
       "567                 en                       Furious 7      20.396   \n",
       "1361                en                    The Avengers      50.289   \n",
       "220                 en                   Black Panther       2.058   \n",
       "789                 en  Jurassic World: Fallen Kingdom      34.958   \n",
       "564                 en                          Frozen       9.678   \n",
       "186                 en            Beauty and the Beast      26.701   \n",
       "937                 en                         Minions       9.338   \n",
       "154                 en         Avengers: Age of Ultron      44.383   \n",
       "727                 en                   Incredibles 2      36.286   \n",
       "748                 en                      Iron Man 3      32.093   \n",
       "134                 en                         Aquaman      38.102   \n",
       "1460                en         The Fate of the Furious      28.668   \n",
       "409                 en                 Despicable Me 3      16.407   \n",
       "1758                en  Transformers: Dark of the Moon       5.339   \n",
       "1236                en                         Skyfall      19.270   \n",
       "1567                en                   The Lion King      28.583   \n",
       "408                 en                 Despicable Me 2      19.014   \n",
       "\n",
       "     release_date_y  vote_average  vote_count  gross_profit_by_millions  \n",
       "153      2009-12-18           7.4       18676               2351.345279  \n",
       "155      2018-04-27           8.3       13948               1748.134200  \n",
       "788      2015-06-12           6.6       14056               1433.854864  \n",
       "567      2015-04-03           7.3        6538               1328.722794  \n",
       "1361     2012-05-04           7.6       19673               1292.935897  \n",
       "220      2011-01-18           5.1          11               1148.258224  \n",
       "789      2018-06-22           6.5        5995               1135.772799  \n",
       "564      2010-02-05           5.8         987               1122.469910  \n",
       "186      2012-01-13           7.7        5730               1099.199706  \n",
       "937      2015-07-10           6.4        7343               1086.336173  \n",
       "154      2015-05-01           7.3       13457               1072.413963  \n",
       "727      2018-06-15           7.6        6354               1042.520711  \n",
       "748      2013-05-03           6.9       14155               1015.392272  \n",
       "134      2018-12-21           6.8        6155                986.894640  \n",
       "1460     2017-04-14           6.9        6335                984.846267  \n",
       "409      2017-06-30           6.3        4106                959.727750  \n",
       "1758     2011-06-28           6.1        4961                928.790543  \n",
       "1236     2012-11-09           7.1       10441                910.526981  \n",
       "1567     1994-06-23           8.2       10160                906.914868  \n",
       "408      2013-07-03           6.9        7319                899.216835  "
      ]
     },
     "execution_count": 211,
     "metadata": {},
     "output_type": "execute_result"
    }
   ],
   "source": [
    "df_top_movies"
   ]
  },
  {
   "cell_type": "code",
   "execution_count": 212,
   "metadata": {},
   "outputs": [
    {
     "data": {
      "image/png": "[encoded data removed]",
      "text/plain": [
       "<Figure size 432x288 with 1 Axes>"
      ]
     },
     "metadata": {
      "needs_background": "light"
     },
     "output_type": "display_data"
    }
   ],
   "source": [
    "ax = sns.barplot( x=df_top_movies['original_title'], y=df_top_movies['gross_profit_by_millions'], palette = (['#25a6e0', '#25a6e0', '#25a6e0', '#25a6e0', '#25a6e0', '#25a6e0', '#25a6e0', 'black', 'black', 'magenta', '#25a6e0', '#25a6e0', '#25a6e0', '#25a6e0', '#25a6e0', 'magenta', '#25a6e0', '#25a6e0', 'black', 'magenta']), ci=None )\n",
    "\n",
    "\n",
    "\n",
    "ax.set_xticklabels(ax.get_xticklabels(), rotation=40, ha=\"right\", rotation_mode='anchor')\n",
    "ax.set_ylabel('Box office Profit \\n (millions)')\n",
    "ax.set_xlabel('Movie Title ')\n",
    "ax.set_title('Top 20 Movies by Gross Profit');\n",
    "sns.set(rc={'axes.facecolor':(0,0,0,0), 'figure.facecolor':(0,0,0,0)})\n",
    "\n",
    "#plt.savefig('../zippedData/Top_20_Movies_by_Gross_Profit_2', bbox_inches='tight', dpi=300);\n",
    "# plt.gcf().axes[0].yaxis.get_major_formatter().set_scientific(False) "
   ]
  },
  {
   "cell_type": "markdown",
   "metadata": {},
   "source": [
    "## Exploring im.db.zip\n",
    "\n"
   ]
  },
  {
   "cell_type": "code",
   "execution_count": 82,
   "metadata": {},
   "outputs": [
    {
     "name": "stdout",
     "output_type": "stream",
     "text": [
      "../../../../../../project-exp/data/im.db\r\n"
     ]
    }
   ],
   "source": [
    "! ls ../../../../../../project-exp/data/im.db   \n"
   ]
  },
  {
   "cell_type": "code",
   "execution_count": 83,
   "metadata": {},
   "outputs": [],
   "source": [
    "conn = sqlite3.connect('../../../../../../project-exp/data/im.db')"
   ]
  },
  {
   "cell_type": "markdown",
   "metadata": {},
   "source": [
    "All tables in SQL Dataset"
   ]
  },
  {
   "cell_type": "code",
   "execution_count": 84,
   "metadata": {
    "scrolled": true
   },
   "outputs": [
    {
     "data": {
      "text/html": [
       "<div>\n",
       "<style scoped>\n",
       "    .dataframe tbody tr th:only-of-type {\n",
       "        vertical-align: middle;\n",
       "    }\n",
       "\n",
       "    .dataframe tbody tr th {\n",
       "        vertical-align: top;\n",
       "    }\n",
       "\n",
       "    .dataframe thead th {\n",
       "        text-align: right;\n",
       "    }\n",
       "</style>\n",
       "<table border=\"1\" class=\"dataframe\">\n",
       "  <thead>\n",
       "    <tr style=\"text-align: right;\">\n",
       "      <th></th>\n",
       "      <th>type</th>\n",
       "      <th>name</th>\n",
       "      <th>tbl_name</th>\n",
       "      <th>rootpage</th>\n",
       "      <th>sql</th>\n",
       "    </tr>\n",
       "  </thead>\n",
       "  <tbody>\n",
       "    <tr>\n",
       "      <th>0</th>\n",
       "      <td>table</td>\n",
       "      <td>movie_basics</td>\n",
       "      <td>movie_basics</td>\n",
       "      <td>2</td>\n",
       "      <td>CREATE TABLE \"movie_basics\" (\\n\"movie_id\" TEXT...</td>\n",
       "    </tr>\n",
       "    <tr>\n",
       "      <th>1</th>\n",
       "      <td>table</td>\n",
       "      <td>directors</td>\n",
       "      <td>directors</td>\n",
       "      <td>3</td>\n",
       "      <td>CREATE TABLE \"directors\" (\\n\"movie_id\" TEXT,\\n...</td>\n",
       "    </tr>\n",
       "    <tr>\n",
       "      <th>2</th>\n",
       "      <td>table</td>\n",
       "      <td>known_for</td>\n",
       "      <td>known_for</td>\n",
       "      <td>4</td>\n",
       "      <td>CREATE TABLE \"known_for\" (\\n\"person_id\" TEXT,\\...</td>\n",
       "    </tr>\n",
       "    <tr>\n",
       "      <th>3</th>\n",
       "      <td>table</td>\n",
       "      <td>movie_akas</td>\n",
       "      <td>movie_akas</td>\n",
       "      <td>5</td>\n",
       "      <td>CREATE TABLE \"movie_akas\" (\\n\"movie_id\" TEXT,\\...</td>\n",
       "    </tr>\n",
       "    <tr>\n",
       "      <th>4</th>\n",
       "      <td>table</td>\n",
       "      <td>movie_ratings</td>\n",
       "      <td>movie_ratings</td>\n",
       "      <td>6</td>\n",
       "      <td>CREATE TABLE \"movie_ratings\" (\\n\"movie_id\" TEX...</td>\n",
       "    </tr>\n",
       "    <tr>\n",
       "      <th>5</th>\n",
       "      <td>table</td>\n",
       "      <td>persons</td>\n",
       "      <td>persons</td>\n",
       "      <td>7</td>\n",
       "      <td>CREATE TABLE \"persons\" (\\n\"person_id\" TEXT,\\n ...</td>\n",
       "    </tr>\n",
       "    <tr>\n",
       "      <th>6</th>\n",
       "      <td>table</td>\n",
       "      <td>principals</td>\n",
       "      <td>principals</td>\n",
       "      <td>8</td>\n",
       "      <td>CREATE TABLE \"principals\" (\\n\"movie_id\" TEXT,\\...</td>\n",
       "    </tr>\n",
       "    <tr>\n",
       "      <th>7</th>\n",
       "      <td>table</td>\n",
       "      <td>writers</td>\n",
       "      <td>writers</td>\n",
       "      <td>9</td>\n",
       "      <td>CREATE TABLE \"writers\" (\\n\"movie_id\" TEXT,\\n  ...</td>\n",
       "    </tr>\n",
       "  </tbody>\n",
       "</table>\n",
       "</div>"
      ],
      "text/plain": [
       "    type           name       tbl_name  rootpage  \\\n",
       "0  table   movie_basics   movie_basics         2   \n",
       "1  table      directors      directors         3   \n",
       "2  table      known_for      known_for         4   \n",
       "3  table     movie_akas     movie_akas         5   \n",
       "4  table  movie_ratings  movie_ratings         6   \n",
       "5  table        persons        persons         7   \n",
       "6  table     principals     principals         8   \n",
       "7  table        writers        writers         9   \n",
       "\n",
       "                                                 sql  \n",
       "0  CREATE TABLE \"movie_basics\" (\\n\"movie_id\" TEXT...  \n",
       "1  CREATE TABLE \"directors\" (\\n\"movie_id\" TEXT,\\n...  \n",
       "2  CREATE TABLE \"known_for\" (\\n\"person_id\" TEXT,\\...  \n",
       "3  CREATE TABLE \"movie_akas\" (\\n\"movie_id\" TEXT,\\...  \n",
       "4  CREATE TABLE \"movie_ratings\" (\\n\"movie_id\" TEX...  \n",
       "5  CREATE TABLE \"persons\" (\\n\"person_id\" TEXT,\\n ...  \n",
       "6  CREATE TABLE \"principals\" (\\n\"movie_id\" TEXT,\\...  \n",
       "7  CREATE TABLE \"writers\" (\\n\"movie_id\" TEXT,\\n  ...  "
      ]
     },
     "execution_count": 84,
     "metadata": {},
     "output_type": "execute_result"
    }
   ],
   "source": [
    "pd.read_sql(\"\"\"\n",
    "\n",
    "SELECT * \n",
    "FROM sqlite_master\n",
    "\n",
    "\"\"\", conn)"
   ]
  },
  {
   "cell_type": "code",
   "execution_count": 85,
   "metadata": {},
   "outputs": [
    {
     "data": {
      "text/html": [
       "<div>\n",
       "<style scoped>\n",
       "    .dataframe tbody tr th:only-of-type {\n",
       "        vertical-align: middle;\n",
       "    }\n",
       "\n",
       "    .dataframe tbody tr th {\n",
       "        vertical-align: top;\n",
       "    }\n",
       "\n",
       "    .dataframe thead th {\n",
       "        text-align: right;\n",
       "    }\n",
       "</style>\n",
       "<table border=\"1\" class=\"dataframe\">\n",
       "  <thead>\n",
       "    <tr style=\"text-align: right;\">\n",
       "      <th></th>\n",
       "      <th>movie_id</th>\n",
       "      <th>person_id</th>\n",
       "    </tr>\n",
       "  </thead>\n",
       "  <tbody>\n",
       "    <tr>\n",
       "      <th>0</th>\n",
       "      <td>tt0285252</td>\n",
       "      <td>nm0899854</td>\n",
       "    </tr>\n",
       "    <tr>\n",
       "      <th>1</th>\n",
       "      <td>tt0462036</td>\n",
       "      <td>nm1940585</td>\n",
       "    </tr>\n",
       "    <tr>\n",
       "      <th>2</th>\n",
       "      <td>tt0835418</td>\n",
       "      <td>nm0151540</td>\n",
       "    </tr>\n",
       "    <tr>\n",
       "      <th>3</th>\n",
       "      <td>tt0835418</td>\n",
       "      <td>nm0151540</td>\n",
       "    </tr>\n",
       "    <tr>\n",
       "      <th>4</th>\n",
       "      <td>tt0878654</td>\n",
       "      <td>nm0089502</td>\n",
       "    </tr>\n",
       "    <tr>\n",
       "      <th>...</th>\n",
       "      <td>...</td>\n",
       "      <td>...</td>\n",
       "    </tr>\n",
       "    <tr>\n",
       "      <th>291169</th>\n",
       "      <td>tt8999974</td>\n",
       "      <td>nm10122357</td>\n",
       "    </tr>\n",
       "    <tr>\n",
       "      <th>291170</th>\n",
       "      <td>tt9001390</td>\n",
       "      <td>nm6711477</td>\n",
       "    </tr>\n",
       "    <tr>\n",
       "      <th>291171</th>\n",
       "      <td>tt9001494</td>\n",
       "      <td>nm10123242</td>\n",
       "    </tr>\n",
       "    <tr>\n",
       "      <th>291172</th>\n",
       "      <td>tt9001494</td>\n",
       "      <td>nm10123248</td>\n",
       "    </tr>\n",
       "    <tr>\n",
       "      <th>291173</th>\n",
       "      <td>tt9004986</td>\n",
       "      <td>nm4993825</td>\n",
       "    </tr>\n",
       "  </tbody>\n",
       "</table>\n",
       "<p>291174 rows × 2 columns</p>\n",
       "</div>"
      ],
      "text/plain": [
       "         movie_id   person_id\n",
       "0       tt0285252   nm0899854\n",
       "1       tt0462036   nm1940585\n",
       "2       tt0835418   nm0151540\n",
       "3       tt0835418   nm0151540\n",
       "4       tt0878654   nm0089502\n",
       "...           ...         ...\n",
       "291169  tt8999974  nm10122357\n",
       "291170  tt9001390   nm6711477\n",
       "291171  tt9001494  nm10123242\n",
       "291172  tt9001494  nm10123248\n",
       "291173  tt9004986   nm4993825\n",
       "\n",
       "[291174 rows x 2 columns]"
      ]
     },
     "execution_count": 85,
     "metadata": {},
     "output_type": "execute_result"
    }
   ],
   "source": [
    "pd.read_sql(\"\"\"\n",
    "\n",
    "SELECT * \n",
    "FROM directors\n",
    "\n",
    "\"\"\", conn)"
   ]
  },
  {
   "cell_type": "code",
   "execution_count": 86,
   "metadata": {},
   "outputs": [
    {
     "data": {
      "text/html": [
       "<div>\n",
       "<style scoped>\n",
       "    .dataframe tbody tr th:only-of-type {\n",
       "        vertical-align: middle;\n",
       "    }\n",
       "\n",
       "    .dataframe tbody tr th {\n",
       "        vertical-align: top;\n",
       "    }\n",
       "\n",
       "    .dataframe thead th {\n",
       "        text-align: right;\n",
       "    }\n",
       "</style>\n",
       "<table border=\"1\" class=\"dataframe\">\n",
       "  <thead>\n",
       "    <tr style=\"text-align: right;\">\n",
       "      <th></th>\n",
       "      <th>genres</th>\n",
       "      <th>COUNT()</th>\n",
       "    </tr>\n",
       "  </thead>\n",
       "  <tbody>\n",
       "    <tr>\n",
       "      <th>0</th>\n",
       "      <td>Comedy,Drama,Fantasy</td>\n",
       "      <td>17504</td>\n",
       "    </tr>\n",
       "    <tr>\n",
       "      <th>1</th>\n",
       "      <td>Action,Crime,Drama</td>\n",
       "      <td>17272</td>\n",
       "    </tr>\n",
       "    <tr>\n",
       "      <th>2</th>\n",
       "      <td>Drama</td>\n",
       "      <td>16849</td>\n",
       "    </tr>\n",
       "    <tr>\n",
       "      <th>3</th>\n",
       "      <td>Sci-Fi</td>\n",
       "      <td>16243</td>\n",
       "    </tr>\n",
       "    <tr>\n",
       "      <th>4</th>\n",
       "      <td>Adventure,Comedy,Romance</td>\n",
       "      <td>15589</td>\n",
       "    </tr>\n",
       "    <tr>\n",
       "      <th>5</th>\n",
       "      <td>Action,Crime,Drama</td>\n",
       "      <td>14709</td>\n",
       "    </tr>\n",
       "    <tr>\n",
       "      <th>6</th>\n",
       "      <td>Documentary,History</td>\n",
       "      <td>13787</td>\n",
       "    </tr>\n",
       "    <tr>\n",
       "      <th>7</th>\n",
       "      <td>Animation,Drama,History</td>\n",
       "      <td>12900</td>\n",
       "    </tr>\n",
       "    <tr>\n",
       "      <th>8</th>\n",
       "      <td>Drama</td>\n",
       "      <td>11849</td>\n",
       "    </tr>\n",
       "    <tr>\n",
       "      <th>9</th>\n",
       "      <td>Biography,Drama</td>\n",
       "      <td>8379</td>\n",
       "    </tr>\n",
       "    <tr>\n",
       "      <th>10</th>\n",
       "      <td>Action,Crime,Drama</td>\n",
       "      <td>937</td>\n",
       "    </tr>\n",
       "    <tr>\n",
       "      <th>11</th>\n",
       "      <td>Action,Adventure,Fantasy</td>\n",
       "      <td>83</td>\n",
       "    </tr>\n",
       "    <tr>\n",
       "      <th>12</th>\n",
       "      <td>Action</td>\n",
       "      <td>32</td>\n",
       "    </tr>\n",
       "    <tr>\n",
       "      <th>13</th>\n",
       "      <td>Action</td>\n",
       "      <td>5</td>\n",
       "    </tr>\n",
       "    <tr>\n",
       "      <th>14</th>\n",
       "      <td>None</td>\n",
       "      <td>2</td>\n",
       "    </tr>\n",
       "    <tr>\n",
       "      <th>15</th>\n",
       "      <td>Drama</td>\n",
       "      <td>1</td>\n",
       "    </tr>\n",
       "    <tr>\n",
       "      <th>16</th>\n",
       "      <td>Action,Adventure,Fantasy</td>\n",
       "      <td>1</td>\n",
       "    </tr>\n",
       "    <tr>\n",
       "      <th>17</th>\n",
       "      <td>Fantasy</td>\n",
       "      <td>1</td>\n",
       "    </tr>\n",
       "    <tr>\n",
       "      <th>18</th>\n",
       "      <td>Action,Adventure,Fantasy</td>\n",
       "      <td>1</td>\n",
       "    </tr>\n",
       "  </tbody>\n",
       "</table>\n",
       "</div>"
      ],
      "text/plain": [
       "                      genres  COUNT()\n",
       "0       Comedy,Drama,Fantasy    17504\n",
       "1         Action,Crime,Drama    17272\n",
       "2                      Drama    16849\n",
       "3                     Sci-Fi    16243\n",
       "4   Adventure,Comedy,Romance    15589\n",
       "5         Action,Crime,Drama    14709\n",
       "6        Documentary,History    13787\n",
       "7    Animation,Drama,History    12900\n",
       "8                      Drama    11849\n",
       "9            Biography,Drama     8379\n",
       "10        Action,Crime,Drama      937\n",
       "11  Action,Adventure,Fantasy       83\n",
       "12                    Action       32\n",
       "13                    Action        5\n",
       "14                      None        2\n",
       "15                     Drama        1\n",
       "16  Action,Adventure,Fantasy        1\n",
       "17                   Fantasy        1\n",
       "18  Action,Adventure,Fantasy        1"
      ]
     },
     "execution_count": 86,
     "metadata": {},
     "output_type": "execute_result"
    }
   ],
   "source": [
    "pd.read_sql(\"\"\"\n",
    "\n",
    "SELECT  \n",
    "        basi.genres,\n",
    "        COUNT()\n",
    "        \n",
    "        \n",
    "\n",
    "FROM movie_basics AS basi\n",
    "\n",
    "\n",
    "\n",
    "LEFT JOIN movie_ratings AS rati\n",
    "ON basi.movie_id = rati.movie_id\n",
    "\n",
    "group by basi.start_year\n",
    "\n",
    "ORDER BY COUNT() DESC\n",
    "\n",
    "\"\"\", conn)"
   ]
  },
  {
   "cell_type": "markdown",
   "metadata": {},
   "source": [
    "*Exploring movies that contain 'Drama' among their genres, only considering movies with numvotes above a 1000, went from 30788 values to 5044. got average rating*"
   ]
  },
  {
   "cell_type": "code",
   "execution_count": 87,
   "metadata": {
    "scrolled": true
   },
   "outputs": [],
   "source": [
    "Drama_raitings = pd.read_sql(\"\"\"\n",
    "\n",
    "SELECT  basi.genres,\n",
    "        rati.averagerating\n",
    "        \n",
    "FROM movie_basics AS basi\n",
    "\n",
    "LEFT JOIN movie_ratings AS rati\n",
    "ON basi.movie_id = rati.movie_id\n",
    "\n",
    "WHERE basi.genres LIKE '%Drama%' \n",
    "        AND rati.averagerating IS NOT NULL \n",
    "        AND rati.numvotes  > 1000\n",
    "\n",
    "\n",
    "\"\"\", conn).mean()[0]"
   ]
  },
  {
   "cell_type": "code",
   "execution_count": 88,
   "metadata": {},
   "outputs": [],
   "source": [
    "# Following same steps as above but using Action Genre\n",
    "Action_raitings = pd.read_sql(\"\"\"\n",
    "\n",
    "SELECT  basi.genres,\n",
    "        rati.averagerating\n",
    "        \n",
    "FROM movie_basics AS basi\n",
    "\n",
    "LEFT JOIN movie_ratings AS rati\n",
    "ON basi.movie_id = rati.movie_id\n",
    "\n",
    "WHERE basi.genres LIKE '%Action%' \n",
    "        AND rati.averagerating IS NOT NULL \n",
    "        AND rati.numvotes  > 1000\n",
    "\n",
    "\n",
    "\"\"\", conn).mean()[0]"
   ]
  },
  {
   "cell_type": "code",
   "execution_count": 89,
   "metadata": {},
   "outputs": [],
   "source": [
    "# Following same steps as above but using Thriller/horror Genre\n",
    "Thriller_raitings = pd.read_sql(\"\"\"\n",
    "\n",
    "SELECT  basi.genres,\n",
    "        rati.averagerating\n",
    "        \n",
    "FROM movie_basics AS basi\n",
    "\n",
    "LEFT JOIN movie_ratings AS rati\n",
    "ON basi.movie_id = rati.movie_id\n",
    "\n",
    "WHERE basi.genres LIKE '%Thriller%' \n",
    "        AND basi.genres LIKE '%Horror%' \n",
    "        AND rati.averagerating IS NOT NULL \n",
    "        AND rati.numvotes  > 1000\n",
    "\n",
    "\n",
    "\"\"\", conn).mean()[0]"
   ]
  },
  {
   "cell_type": "code",
   "execution_count": 91,
   "metadata": {},
   "outputs": [
    {
     "data": {
      "text/plain": [
       "5.998060344827586"
      ]
     },
     "execution_count": 91,
     "metadata": {},
     "output_type": "execute_result"
    }
   ],
   "source": [
    "# Following same steps as above but using Fantasy Genre\n",
    "Fantasy_raitings = pd.read_sql(\"\"\"\n",
    "\n",
    "SELECT  basi.genres,\n",
    "        rati.averagerating\n",
    "        \n",
    "FROM movie_basics AS basi\n",
    "\n",
    "LEFT JOIN movie_ratings AS rati\n",
    "ON basi.movie_id = rati.movie_id\n",
    "\n",
    "WHERE basi.genres LIKE '%Fantasy%' \n",
    "        AND rati.averagerating IS NOT NULL \n",
    "        AND rati.numvotes  > 1000\n",
    "\n",
    "\n",
    "\"\"\", conn).mean()[0]\n",
    "Fantasy_raitings"
   ]
  },
  {
   "cell_type": "code",
   "execution_count": 74,
   "metadata": {},
   "outputs": [
    {
     "data": {
      "text/plain": [
       "5.714473684210526"
      ]
     },
     "execution_count": 74,
     "metadata": {},
     "output_type": "execute_result"
    }
   ],
   "source": [
    "# Following same steps as above but using Sci-Fi Genre\n",
    "Sci_Fi_raitings = pd.read_sql(\"\"\"\n",
    "\n",
    "SELECT  basi.genres,\n",
    "        rati.averagerating\n",
    "        \n",
    "FROM movie_basics AS basi\n",
    "\n",
    "LEFT JOIN movie_ratings AS rati\n",
    "ON basi.movie_id = rati.movie_id\n",
    "\n",
    "WHERE basi.genres LIKE '%Sci-Fi%' \n",
    "        AND rati.averagerating IS NOT NULL \n",
    "        AND rati.numvotes  > 1000\n",
    "\n",
    "\n",
    "\"\"\", conn).mean()[0]\n",
    "Sci_Fi_raitings"
   ]
  },
  {
   "cell_type": "code",
   "execution_count": 75,
   "metadata": {},
   "outputs": [
    {
     "data": {
      "text/plain": [
       "6.112916111850865"
      ]
     },
     "execution_count": 75,
     "metadata": {},
     "output_type": "execute_result"
    }
   ],
   "source": [
    "# Following same steps as above but using Comedy Genre\n",
    "Comedy_raitings = pd.read_sql(\"\"\"\n",
    "\n",
    "SELECT  basi.genres,\n",
    "        rati.averagerating\n",
    "        \n",
    "FROM movie_basics AS basi\n",
    "\n",
    "LEFT JOIN movie_ratings AS rati\n",
    "ON basi.movie_id = rati.movie_id\n",
    "\n",
    "WHERE basi.genres LIKE '%Comedy%' \n",
    "        AND rati.averagerating IS NOT NULL \n",
    "        AND rati.numvotes  > 1000\n",
    "\n",
    "\n",
    "\"\"\", conn).mean()[0]\n",
    "Comedy_raitings"
   ]
  },
  {
   "cell_type": "code",
   "execution_count": 76,
   "metadata": {},
   "outputs": [
    {
     "data": {
      "text/plain": [
       "6.156686626746507"
      ]
     },
     "execution_count": 76,
     "metadata": {},
     "output_type": "execute_result"
    }
   ],
   "source": [
    "# Following same steps as above but using Adventure Genre\n",
    "Adventure_raitings = pd.read_sql(\"\"\"\n",
    "\n",
    "SELECT  basi.genres,\n",
    "        rati.averagerating\n",
    "        \n",
    "FROM movie_basics AS basi\n",
    "\n",
    "LEFT JOIN movie_ratings AS rati\n",
    "ON basi.movie_id = rati.movie_id\n",
    "\n",
    "WHERE basi.genres LIKE '%Adventure%' \n",
    "        AND rati.averagerating IS NOT NULL \n",
    "        AND rati.numvotes  > 1000\n",
    "\n",
    "\n",
    "\"\"\", conn).mean()[0]\n",
    "Adventure_raitings"
   ]
  },
  {
   "cell_type": "code",
   "execution_count": 77,
   "metadata": {},
   "outputs": [],
   "source": [
    "# Following same steps as above but using Documentary Genre\n",
    "Documentary_raitings = pd.read_sql(\"\"\"\n",
    "\n",
    "SELECT  basi.genres,\n",
    "        rati.averagerating\n",
    "        \n",
    "FROM movie_basics AS basi\n",
    "\n",
    "LEFT JOIN movie_ratings AS rati\n",
    "ON basi.movie_id = rati.movie_id\n",
    "\n",
    "WHERE basi.genres LIKE '%Documentary%' \n",
    "        AND rati.averagerating IS NOT NULL \n",
    "        AND rati.numvotes  > 1000\n",
    "\n",
    "\n",
    "\"\"\", conn).mean()[0]"
   ]
  },
  {
   "cell_type": "code",
   "execution_count": 78,
   "metadata": {},
   "outputs": [],
   "source": [
    "avg_raiting=[Drama_raitings, Action_raitings, Thriller_raitings, Fantasy_raitings, Sci_Fi_raitings, Comedy_raitings, Adventure_raitings, Documentary_raitings]\n",
    "avg_raiting_name=['Drama', 'Action', 'Thriller', 'Fantasy', 'Sci_Fi', 'Comedy', 'Adventure', 'Documentary']\n"
   ]
  },
  {
   "cell_type": "code",
   "execution_count": 79,
   "metadata": {},
   "outputs": [
    {
     "data": {
      "image/png": "[encoded data removed]",
      "text/plain": [
       "<Figure size 720x576 with 1 Axes>"
      ]
     },
     "metadata": {
      "needs_background": "light"
     },
     "output_type": "display_data"
    }
   ],
   "source": [
    "f, ax = plt.subplots(figsize=(10,8))\n",
    "\n",
    "ax.bar(avg_raiting_name, avg_raiting)\n",
    "\n",
    "plt.xticks(rotation = 45);"
   ]
  }
 ],
 "metadata": {
  "kernelspec": {
   "display_name": "Python (learn-env)",
   "language": "python",
   "name": "learn-env"
  },
  "language_info": {
   "codemirror_mode": {
    "name": "ipython",
    "version": 3
   },
   "file_extension": ".py",
   "mimetype": "text/x-python",
   "name": "python",
   "nbconvert_exporter": "python",
   "pygments_lexer": "ipython3",
   "version": "3.8.5"
  }
 },
 "nbformat": 4,
 "nbformat_minor": 4
}
