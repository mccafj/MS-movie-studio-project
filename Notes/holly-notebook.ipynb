{
 "cells": [
  {
   "cell_type": "markdown",
   "metadata": {},
   "source": [
    "## What About Streaming?\n",
    "\n",
    "According to a [report by the Motion Picture Association](https://www.motionpictures.org/wp-content/uploads/2022/03/MPA-2021-THEME-Report-FINAL.pdf), revenue from films released digitally through streaming services such as Netflix, Hulu, Disney+, and Amazon Prime Video increased by **11% in the US** and **24% internationally** from 2020 to 2021. The total revenue generated in 2021 from digital releases globally was **$72 Billion**"
   ]
  },
  {
   "cell_type": "code",
   "execution_count": 8,
   "metadata": {},
   "outputs": [],
   "source": [
    "import pandas as pd\n",
    "from matplotlib import pyplot as plt\n",
    "import seaborn as sns\n",
    "import numpy as np\n",
    "\n",
    "%matplotlib inline"
   ]
  },
  {
   "cell_type": "code",
   "execution_count": 9,
   "metadata": {},
   "outputs": [
    {
     "data": {
      "text/plain": [
       "22251047806.0"
      ]
     },
     "execution_count": 9,
     "metadata": {},
     "output_type": "execute_result"
    }
   ],
   "source": [
    "box_rev = pd.read_csv('./../Data/bom.movie_gross.csv.gz')\n",
    "box_rev['total_gross'] = box_rev['domestic_gross'] + box_rev['domestic_gross']\n",
    "box_rev.head()\n",
    "\n",
    "box_rev_17_18 = box_rev[(box_rev.year == 2017) | (box_rev.year == 2018)] # unfortunately our data for box office revenue only goes up to the end of 2018\n",
    "total_box_rev_17_18 = box_rev_17_18['total_gross'].sum()\n",
    "\n",
    "total_digi_rev_17_18 = 66300000000 # from report numbers, digital 2017 + 2018, international + US\n",
    "\n",
    "total_digi_rev_17_18 - total_box_rev_17_18\n"
   ]
  },
  {
   "cell_type": "markdown",
   "metadata": {},
   "source": [
    "### Streaming Revenue is Higher Than Box Office Revenue\n",
    "\n",
    "Even in 2017 & 2018, before people were spending more time at home from the pandemic, streaming revenue was **$22.25 billion more** than box office revenue (according to the Motion Picture Association report above)"
   ]
  },
  {
   "cell_type": "code",
   "execution_count": 10,
   "metadata": {
    "scrolled": true
   },
   "outputs": [
    {
     "data": {
      "text/html": [
       "<div>\n",
       "<style scoped>\n",
       "    .dataframe tbody tr th:only-of-type {\n",
       "        vertical-align: middle;\n",
       "    }\n",
       "\n",
       "    .dataframe tbody tr th {\n",
       "        vertical-align: top;\n",
       "    }\n",
       "\n",
       "    .dataframe thead th {\n",
       "        text-align: right;\n",
       "    }\n",
       "</style>\n",
       "<table border=\"1\" class=\"dataframe\">\n",
       "  <thead>\n",
       "    <tr style=\"text-align: right;\">\n",
       "      <th></th>\n",
       "      <th>week</th>\n",
       "      <th>category</th>\n",
       "      <th>weekly_rank</th>\n",
       "      <th>show_title</th>\n",
       "      <th>season_title</th>\n",
       "      <th>weekly_hours_viewed</th>\n",
       "      <th>cumulative_weeks_in_top_10</th>\n",
       "    </tr>\n",
       "  </thead>\n",
       "  <tbody>\n",
       "    <tr>\n",
       "      <th>0</th>\n",
       "      <td>2022-09-25</td>\n",
       "      <td>Films (English)</td>\n",
       "      <td>1</td>\n",
       "      <td>Do Revenge</td>\n",
       "      <td>NaN</td>\n",
       "      <td>42550000</td>\n",
       "      <td>2</td>\n",
       "    </tr>\n",
       "    <tr>\n",
       "      <th>1</th>\n",
       "      <td>2022-09-25</td>\n",
       "      <td>Films (English)</td>\n",
       "      <td>2</td>\n",
       "      <td>Lou</td>\n",
       "      <td>NaN</td>\n",
       "      <td>40570000</td>\n",
       "      <td>1</td>\n",
       "    </tr>\n",
       "    <tr>\n",
       "      <th>2</th>\n",
       "      <td>2022-09-25</td>\n",
       "      <td>Films (English)</td>\n",
       "      <td>3</td>\n",
       "      <td>Father Stu</td>\n",
       "      <td>NaN</td>\n",
       "      <td>13770000</td>\n",
       "      <td>1</td>\n",
       "    </tr>\n",
       "    <tr>\n",
       "      <th>3</th>\n",
       "      <td>2022-09-25</td>\n",
       "      <td>Films (English)</td>\n",
       "      <td>4</td>\n",
       "      <td>I Used to Be Famous</td>\n",
       "      <td>NaN</td>\n",
       "      <td>11630000</td>\n",
       "      <td>1</td>\n",
       "    </tr>\n",
       "    <tr>\n",
       "      <th>4</th>\n",
       "      <td>2022-09-25</td>\n",
       "      <td>Films (English)</td>\n",
       "      <td>5</td>\n",
       "      <td>A Jazzman's Blues</td>\n",
       "      <td>NaN</td>\n",
       "      <td>7820000</td>\n",
       "      <td>1</td>\n",
       "    </tr>\n",
       "    <tr>\n",
       "      <th>...</th>\n",
       "      <td>...</td>\n",
       "      <td>...</td>\n",
       "      <td>...</td>\n",
       "      <td>...</td>\n",
       "      <td>...</td>\n",
       "      <td>...</td>\n",
       "      <td>...</td>\n",
       "    </tr>\n",
       "    <tr>\n",
       "      <th>2575</th>\n",
       "      <td>2021-07-04</td>\n",
       "      <td>Films (Non-English)</td>\n",
       "      <td>6</td>\n",
       "      <td>Security</td>\n",
       "      <td>NaN</td>\n",
       "      <td>2950000</td>\n",
       "      <td>1</td>\n",
       "    </tr>\n",
       "    <tr>\n",
       "      <th>2576</th>\n",
       "      <td>2021-07-04</td>\n",
       "      <td>Films (Non-English)</td>\n",
       "      <td>7</td>\n",
       "      <td>Murder by the Coast</td>\n",
       "      <td>NaN</td>\n",
       "      <td>2690000</td>\n",
       "      <td>1</td>\n",
       "    </tr>\n",
       "    <tr>\n",
       "      <th>2577</th>\n",
       "      <td>2021-07-04</td>\n",
       "      <td>Films (Non-English)</td>\n",
       "      <td>8</td>\n",
       "      <td>Xtreme</td>\n",
       "      <td>NaN</td>\n",
       "      <td>2650000</td>\n",
       "      <td>1</td>\n",
       "    </tr>\n",
       "    <tr>\n",
       "      <th>2578</th>\n",
       "      <td>2021-07-04</td>\n",
       "      <td>Films (Non-English)</td>\n",
       "      <td>9</td>\n",
       "      <td>Rurouni Kenshin: Origins</td>\n",
       "      <td>NaN</td>\n",
       "      <td>2150000</td>\n",
       "      <td>1</td>\n",
       "    </tr>\n",
       "    <tr>\n",
       "      <th>2579</th>\n",
       "      <td>2021-07-04</td>\n",
       "      <td>Films (Non-English)</td>\n",
       "      <td>10</td>\n",
       "      <td>Prime Time</td>\n",
       "      <td>NaN</td>\n",
       "      <td>2080000</td>\n",
       "      <td>1</td>\n",
       "    </tr>\n",
       "  </tbody>\n",
       "</table>\n",
       "<p>1300 rows × 7 columns</p>\n",
       "</div>"
      ],
      "text/plain": [
       "            week             category  weekly_rank                show_title  \\\n",
       "0     2022-09-25      Films (English)            1                Do Revenge   \n",
       "1     2022-09-25      Films (English)            2                       Lou   \n",
       "2     2022-09-25      Films (English)            3                Father Stu   \n",
       "3     2022-09-25      Films (English)            4       I Used to Be Famous   \n",
       "4     2022-09-25      Films (English)            5         A Jazzman's Blues   \n",
       "...          ...                  ...          ...                       ...   \n",
       "2575  2021-07-04  Films (Non-English)            6                  Security   \n",
       "2576  2021-07-04  Films (Non-English)            7       Murder by the Coast   \n",
       "2577  2021-07-04  Films (Non-English)            8                    Xtreme   \n",
       "2578  2021-07-04  Films (Non-English)            9  Rurouni Kenshin: Origins   \n",
       "2579  2021-07-04  Films (Non-English)           10                Prime Time   \n",
       "\n",
       "     season_title  weekly_hours_viewed  cumulative_weeks_in_top_10  \n",
       "0             NaN             42550000                           2  \n",
       "1             NaN             40570000                           1  \n",
       "2             NaN             13770000                           1  \n",
       "3             NaN             11630000                           1  \n",
       "4             NaN              7820000                           1  \n",
       "...           ...                  ...                         ...  \n",
       "2575          NaN              2950000                           1  \n",
       "2576          NaN              2690000                           1  \n",
       "2577          NaN              2650000                           1  \n",
       "2578          NaN              2150000                           1  \n",
       "2579          NaN              2080000                           1  \n",
       "\n",
       "[1300 rows x 7 columns]"
      ]
     },
     "execution_count": 10,
     "metadata": {},
     "output_type": "execute_result"
    }
   ],
   "source": [
    "netflix = pd.read_csv('./../Data/all-weeks-global.tsv', delimiter='\\t') # time frame for this dataset is 6/28/21 to 9/25/22\n",
    "nf_movies = netflix[netflix['category'].str.contains('Film')]\n",
    "# nf_movies.to_csv('./../Data/all-weeks-global-films-only.csv')\n",
    "nf_movies"
   ]
  },
  {
   "cell_type": "code",
   "execution_count": 27,
   "metadata": {
    "scrolled": true
   },
   "outputs": [],
   "source": [
    "top_movies = nf_movies[['show_title','weekly_hours_viewed']].sort_values(by='weekly_hours_viewed', ascending=False)\n",
    "top_movies.drop_duplicates(subset='show_title', inplace=True)\n",
    "top100 = top_movies[0:100]\n",
    "top20 = top_movies[0:20]\n",
    "top30 = top_movies[0:30]\n",
    "top50 = top_movies[0:50]"
   ]
  },
  {
   "cell_type": "code",
   "execution_count": 15,
   "metadata": {
    "scrolled": true
   },
   "outputs": [
    {
     "data": {
      "image/png": "[encoded data removed]",
      "text/plain": [
       "<Figure size 432x288 with 1 Axes>"
      ]
     },
     "metadata": {
      "needs_background": "light"
     },
     "output_type": "display_data"
    }
   ],
   "source": [
    "ax = sns.barplot(data=top20, x='show_title', y=top20['weekly_hours_viewed'] / 1000000, color='crimson')\n",
    "\n",
    "ax.set_xticklabels(ax.get_xticklabels(), rotation=40, ha=\"right\")\n",
    "ax.set_ylabel('Hours Viewed 2021-22 \\n (millions)')\n",
    "ax.set_xlabel(' ')\n",
    "ax.set_title('What People Are Watching on NetFlix Globally')\n",
    "plt.gcf().axes[0].yaxis.get_major_formatter().set_scientific(False) # this turns of scientific notation for numerical vals\n",
    "\n",
    "sns.set(rc={'axes.facecolor':(0,0,0,0), 'figure.facecolor':(0,0,0,0)})\n",
    "# plt.show();\n",
    "plt.savefig('./../Data/netflix_top20_titles_hours.png', bbox_inches='tight')"
   ]
  },
  {
   "cell_type": "markdown",
   "metadata": {},
   "source": [
    "### The top two movies have significantly more views that the rest\n",
    "*why is that?*\n",
    "\n",
    "&nbsp;\n",
    "\n",
    "The blurb about Netflix's \\#1 film, \"Don't Look Up\" https://www.dontlookup-movie.com/synopsis/\n",
    ">Two astronomers go on a media tour to warn humankind of a planet-killing comet hurtling toward Earth. The response from a distracted world: Meh.\n",
    "\n",
    "Compared with Netflix's description of \"Red Notice\" https://www.netflix.com/title/81161626\n",
    ">An FBI profiler pursuing the world's most wanted art thief becomes his reluctant partner in crime to catch an elusive crook who's always one step ahead.\n",
    "\n",
    "The two don't seem to have much in common, story-wise.\n",
    "\n",
    "&nbsp;\n",
    "\n",
    "&nbsp;\n",
    "\n",
    "\n",
    "### Genre as a Driver of Interest\n",
    "\n",
    "Let's look at the genres of the top 20 streamed movies in the 2021-2022 span\n",
    "&nbsp;\n",
    "\n",
    "&nbsp;\n",
    "\n"
   ]
  },
  {
   "cell_type": "code",
   "execution_count": 13,
   "metadata": {
    "scrolled": true
   },
   "outputs": [
    {
     "name": "stderr",
     "output_type": "stream",
     "text": [
      "<ipython-input-13-909828660f8c>:4: SettingWithCopyWarning: \n",
      "A value is trying to be set on a copy of a slice from a DataFrame.\n",
      "Try using .loc[row_indexer,col_indexer] = value instead\n",
      "\n",
      "See the caveats in the documentation: https://pandas.pydata.org/pandas-docs/stable/user_guide/indexing.html#returning-a-view-versus-a-copy\n",
      "  top20['genre'] = top20_genres\n"
     ]
    }
   ],
   "source": [
    "top20_genres = ['Comedy', 'Action', 'Music', 'Action', 'Action', 'Comedy', 'Drama', 'Comedy', 'Drama', 'Comedy', 'Comedy', 'Action', 'Documentary', 'Action', 'Action', 'Comedy', 'Comedy', 'Comedy', 'Action', 'Action'] # hard coded from Netflix's website listing for each movie or IMDB, since Netflix's provided .tsv didn't include genre. Romatic Comedy coded as Comedy\n",
    "len(top20_genres)\n",
    "\n",
    "top20['genre'] = top20_genres"
   ]
  },
  {
   "cell_type": "code",
   "execution_count": 14,
   "metadata": {
    "scrolled": true
   },
   "outputs": [
    {
     "data": {
      "image/png": "[encoded data removed]",
      "text/plain": [
       "<Figure size 432x288 with 1 Axes>"
      ]
     },
     "metadata": {
      "needs_background": "light"
     },
     "output_type": "display_data"
    }
   ],
   "source": [
    "\n",
    "ax = sns.scatterplot(x=top20['genre'], y=top20['weekly_hours_viewed'] / 1000000, color='crimson', legend=False, s=150, alpha=0.90)\n",
    "# ax.bar(top20['genre'], top20['weekly_hours_viewed'], width=width, bottom=0.0, color='red', alpha=0.5)\n",
    "ax.set_ylabel('Hours Viewed 2021-22 \\n (millions)')\n",
    "ax.set_xlabel('Genre')\n",
    "\n",
    "plt.gcf().axes[0].yaxis.get_major_formatter().set_scientific(False)\n",
    "sns.set(rc={'axes.facecolor':(0,0,0,0), 'figure.facecolor':(0,0,0,0)})\n",
    "\n",
    "plt.savefig('./../Data/top20_genres.png', bbox_inches='tight')\n",
    "# plt.show();"
   ]
  },
  {
   "cell_type": "markdown",
   "metadata": {},
   "source": [
    "The number of dots represent the different movies. We can see that both in total hours watched and number movies in each genre, **comedy** and **action** are the most represented genres\n",
    "\n",
    "Our other datasets included data on films up til 2019. In those, comedy was farther from the top spot. Did the need to laugh increase after 2020?\n",
    "\n",
    "Netflix also represents at-home viewing. Streaming is a different market than box-office. If Microsoft Movie Studio is planning a streaming service or delivering content to viewers at home, comedy should be something to consider"
   ]
  },
  {
   "cell_type": "code",
   "execution_count": null,
   "metadata": {},
   "outputs": [],
   "source": [
    "#For EDA, looking at titles plot with top100 instead of 20\n",
    "sns.set(font_scale=2)\n",
    "fig, ax = plt.subplots(figsize=(50, 30))\n",
    "\n",
    "ax = sns.barplot(data=top100, x='show_title', y=top100['weekly_hours_viewed'] / 1000000, color='crimson')\n",
    "\n",
    "ax.set_xticklabels(ax.get_xticklabels(), rotation=40, ha=\"right\")\n",
    "ax.set_ylabel('Hours Viewed 6/28/21 - 9/25/22')\n",
    "ax.set_xlabel(' ')\n",
    "ax.set_title('What People Are Watching on NetFlix Globally')\n",
    "plt.gcf().axes[0].yaxis.get_major_formatter().set_scientific(False) # this turns of scientific notation for numerical vals\n",
    "\n",
    "\n",
    "plt.show();\n",
    "# plt.savefig('./../Images/netflix_top100_titles_hours.png', bbox_inches='tight')"
   ]
  }
 ],
 "metadata": {
  "kernelspec": {
   "display_name": "Python (learn-env)",
   "language": "python",
   "name": "learn-env"
  },
  "language_info": {
   "codemirror_mode": {
    "name": "ipython",
    "version": 3
   },
   "file_extension": ".py",
   "mimetype": "text/x-python",
   "name": "python",
   "nbconvert_exporter": "python",
   "pygments_lexer": "ipython3",
   "version": "3.8.5"
  }
 },
 "nbformat": 4,
 "nbformat_minor": 4
}
