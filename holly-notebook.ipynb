{
 "cells": [
  {
   "cell_type": "code",
   "execution_count": 9,
   "metadata": {},
   "outputs": [],
   "source": [
    "import pandas as pd\n",
    "from matplotlib import pyplot as plt\n",
    "import seaborn as sns\n",
    "%matplotlib inline"
   ]
  },
  {
   "cell_type": "code",
   "execution_count": 10,
   "metadata": {
    "scrolled": true
   },
   "outputs": [
    {
     "data": {
      "text/html": [
       "<div>\n",
       "<style scoped>\n",
       "    .dataframe tbody tr th:only-of-type {\n",
       "        vertical-align: middle;\n",
       "    }\n",
       "\n",
       "    .dataframe tbody tr th {\n",
       "        vertical-align: top;\n",
       "    }\n",
       "\n",
       "    .dataframe thead th {\n",
       "        text-align: right;\n",
       "    }\n",
       "</style>\n",
       "<table border=\"1\" class=\"dataframe\">\n",
       "  <thead>\n",
       "    <tr style=\"text-align: right;\">\n",
       "      <th></th>\n",
       "      <th>week</th>\n",
       "      <th>category</th>\n",
       "      <th>weekly_rank</th>\n",
       "      <th>show_title</th>\n",
       "      <th>season_title</th>\n",
       "      <th>weekly_hours_viewed</th>\n",
       "      <th>cumulative_weeks_in_top_10</th>\n",
       "    </tr>\n",
       "  </thead>\n",
       "  <tbody>\n",
       "    <tr>\n",
       "      <th>0</th>\n",
       "      <td>2022-09-25</td>\n",
       "      <td>Films (English)</td>\n",
       "      <td>1</td>\n",
       "      <td>Do Revenge</td>\n",
       "      <td>NaN</td>\n",
       "      <td>42550000</td>\n",
       "      <td>2</td>\n",
       "    </tr>\n",
       "    <tr>\n",
       "      <th>1</th>\n",
       "      <td>2022-09-25</td>\n",
       "      <td>Films (English)</td>\n",
       "      <td>2</td>\n",
       "      <td>Lou</td>\n",
       "      <td>NaN</td>\n",
       "      <td>40570000</td>\n",
       "      <td>1</td>\n",
       "    </tr>\n",
       "    <tr>\n",
       "      <th>2</th>\n",
       "      <td>2022-09-25</td>\n",
       "      <td>Films (English)</td>\n",
       "      <td>3</td>\n",
       "      <td>Father Stu</td>\n",
       "      <td>NaN</td>\n",
       "      <td>13770000</td>\n",
       "      <td>1</td>\n",
       "    </tr>\n",
       "    <tr>\n",
       "      <th>3</th>\n",
       "      <td>2022-09-25</td>\n",
       "      <td>Films (English)</td>\n",
       "      <td>4</td>\n",
       "      <td>I Used to Be Famous</td>\n",
       "      <td>NaN</td>\n",
       "      <td>11630000</td>\n",
       "      <td>1</td>\n",
       "    </tr>\n",
       "    <tr>\n",
       "      <th>4</th>\n",
       "      <td>2022-09-25</td>\n",
       "      <td>Films (English)</td>\n",
       "      <td>5</td>\n",
       "      <td>A Jazzman's Blues</td>\n",
       "      <td>NaN</td>\n",
       "      <td>7820000</td>\n",
       "      <td>1</td>\n",
       "    </tr>\n",
       "    <tr>\n",
       "      <th>...</th>\n",
       "      <td>...</td>\n",
       "      <td>...</td>\n",
       "      <td>...</td>\n",
       "      <td>...</td>\n",
       "      <td>...</td>\n",
       "      <td>...</td>\n",
       "      <td>...</td>\n",
       "    </tr>\n",
       "    <tr>\n",
       "      <th>2575</th>\n",
       "      <td>2021-07-04</td>\n",
       "      <td>Films (Non-English)</td>\n",
       "      <td>6</td>\n",
       "      <td>Security</td>\n",
       "      <td>NaN</td>\n",
       "      <td>2950000</td>\n",
       "      <td>1</td>\n",
       "    </tr>\n",
       "    <tr>\n",
       "      <th>2576</th>\n",
       "      <td>2021-07-04</td>\n",
       "      <td>Films (Non-English)</td>\n",
       "      <td>7</td>\n",
       "      <td>Murder by the Coast</td>\n",
       "      <td>NaN</td>\n",
       "      <td>2690000</td>\n",
       "      <td>1</td>\n",
       "    </tr>\n",
       "    <tr>\n",
       "      <th>2577</th>\n",
       "      <td>2021-07-04</td>\n",
       "      <td>Films (Non-English)</td>\n",
       "      <td>8</td>\n",
       "      <td>Xtreme</td>\n",
       "      <td>NaN</td>\n",
       "      <td>2650000</td>\n",
       "      <td>1</td>\n",
       "    </tr>\n",
       "    <tr>\n",
       "      <th>2578</th>\n",
       "      <td>2021-07-04</td>\n",
       "      <td>Films (Non-English)</td>\n",
       "      <td>9</td>\n",
       "      <td>Rurouni Kenshin: Origins</td>\n",
       "      <td>NaN</td>\n",
       "      <td>2150000</td>\n",
       "      <td>1</td>\n",
       "    </tr>\n",
       "    <tr>\n",
       "      <th>2579</th>\n",
       "      <td>2021-07-04</td>\n",
       "      <td>Films (Non-English)</td>\n",
       "      <td>10</td>\n",
       "      <td>Prime Time</td>\n",
       "      <td>NaN</td>\n",
       "      <td>2080000</td>\n",
       "      <td>1</td>\n",
       "    </tr>\n",
       "  </tbody>\n",
       "</table>\n",
       "<p>1300 rows × 7 columns</p>\n",
       "</div>"
      ],
      "text/plain": [
       "            week             category  weekly_rank                show_title  \\\n",
       "0     2022-09-25      Films (English)            1                Do Revenge   \n",
       "1     2022-09-25      Films (English)            2                       Lou   \n",
       "2     2022-09-25      Films (English)            3                Father Stu   \n",
       "3     2022-09-25      Films (English)            4       I Used to Be Famous   \n",
       "4     2022-09-25      Films (English)            5         A Jazzman's Blues   \n",
       "...          ...                  ...          ...                       ...   \n",
       "2575  2021-07-04  Films (Non-English)            6                  Security   \n",
       "2576  2021-07-04  Films (Non-English)            7       Murder by the Coast   \n",
       "2577  2021-07-04  Films (Non-English)            8                    Xtreme   \n",
       "2578  2021-07-04  Films (Non-English)            9  Rurouni Kenshin: Origins   \n",
       "2579  2021-07-04  Films (Non-English)           10                Prime Time   \n",
       "\n",
       "     season_title  weekly_hours_viewed  cumulative_weeks_in_top_10  \n",
       "0             NaN             42550000                           2  \n",
       "1             NaN             40570000                           1  \n",
       "2             NaN             13770000                           1  \n",
       "3             NaN             11630000                           1  \n",
       "4             NaN              7820000                           1  \n",
       "...           ...                  ...                         ...  \n",
       "2575          NaN              2950000                           1  \n",
       "2576          NaN              2690000                           1  \n",
       "2577          NaN              2650000                           1  \n",
       "2578          NaN              2150000                           1  \n",
       "2579          NaN              2080000                           1  \n",
       "\n",
       "[1300 rows x 7 columns]"
      ]
     },
     "execution_count": 10,
     "metadata": {},
     "output_type": "execute_result"
    }
   ],
   "source": [
    "netflix = pd.read_csv('zippedData/all-weeks-global.tsv', delimiter='\\t') # time frame for this dataset is 6/28/21 to 9/25/22\n",
    "nfMovies = netflix[netflix['category'].str.contains('Film')]\n",
    "nfMovies"
   ]
  },
  {
   "cell_type": "code",
   "execution_count": 91,
   "metadata": {
    "scrolled": true
   },
   "outputs": [],
   "source": [
    "top_movies = nfMovies[['show_title','weekly_hours_viewed']].sort_values(by='weekly_hours_viewed', ascending=False)\n",
    "top_movies.drop_duplicates(subset='show_title', inplace=True)\n",
    "top100 = top_movies[0:100]\n",
    "top20 = top_movies[0:20]\n",
    "top30 = top_movies[0:30]\n",
    "top50 = top_movies[0:50]"
   ]
  },
  {
   "cell_type": "code",
   "execution_count": 122,
   "metadata": {
    "scrolled": true
   },
   "outputs": [
    {
     "data": {
      "image/png": "[encoded data removed]",
      "text/plain": [
       "<Figure size 432x288 with 1 Axes>"
      ]
     },
     "metadata": {
      "needs_background": "light"
     },
     "output_type": "display_data"
    }
   ],
   "source": [
    "ax = sns.barplot(data=top20, x='show_title', y='weekly_hours_viewed', color='crimson')\n",
    "\n",
    "ax.set_xticklabels(ax.get_xticklabels(), rotation=40, ha=\"right\")\n",
    "ax.set_ylabel('Hours Viewed 6/28/22 - 9/25/22')\n",
    "ax.set_xlabel(' ')\n",
    "ax.set_title('What People Are Watching on NetFlix Globally')\n",
    "plt.gcf().axes[0].yaxis.get_major_formatter().set_scientific(False) # this turns of scientific notation for numerical vals\n",
    "\n",
    "plt.show();"
   ]
  },
  {
   "cell_type": "markdown",
   "metadata": {},
   "source": [
    "**The top two movies have significantly more views that the rest,** *why is that?*\n",
    "\n",
    "\n",
    "The blurb about Netflix's \\#1 film, \"Don't Look Up\" https://www.dontlookup-movie.com/synopsis/\n",
    ">Two astronomers go on a media tour to warn humankind of a planet-killing comet hurtling toward Earth. The response from a distracted world: Meh.\n",
    "\n",
    "Compared with Netflix's description of \"Red Notice\" https://www.netflix.com/title/81161626\n",
    ">An FBI profiler pursuing the world's most wanted art thief becomes his reluctant partner in crime to catch an elusive crook who's always one step ahead.\n",
    "\n",
    "The two don't seem to have much in common"
   ]
  }
 ],
 "metadata": {
  "kernelspec": {
   "display_name": "Python (learn-env)",
   "language": "python",
   "name": "learn-env"
  },
  "language_info": {
   "codemirror_mode": {
    "name": "ipython",
    "version": 3
   },
   "file_extension": ".py",
   "mimetype": "text/x-python",
   "name": "python",
   "nbconvert_exporter": "python",
   "pygments_lexer": "ipython3",
   "version": "3.8.5"
  }
 },
 "nbformat": 4,
 "nbformat_minor": 4
}
