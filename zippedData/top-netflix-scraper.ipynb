{
 "cells": [
  {
   "cell_type": "code",
   "execution_count": 144,
   "metadata": {},
   "outputs": [],
   "source": [
    "import pandas as pd\n",
    "from bs4 import BeautifulSoup as bs\n",
    "import requests\n",
    "# import json # just in case"
   ]
  },
  {
   "cell_type": "code",
   "execution_count": 156,
   "metadata": {},
   "outputs": [],
   "source": [
    "nften0 = requests.get('https://top10.netflix.com/') #top 10 from most recent week, 9/19/22 to 9/25/22\n",
    "\n",
    "html0 = bs(nften0.content, 'html.parser')\n",
    "# print(html0.prettify()) # it looks like netflix uses short codes for all IDs and keys, should be fun..."
   ]
  },
  {
   "cell_type": "code",
   "execution_count": 157,
   "metadata": {
    "scrolled": false
   },
   "outputs": [
    {
     "data": {
      "text/plain": [
       "['Do Revenge',\n",
       " 'Lou',\n",
       " 'Father Stu',\n",
       " 'I Used to Be Famous',\n",
       " \"A Jazzman's Blues\",\n",
       " 'Me Time',\n",
       " 'Minions & More Volume 1',\n",
       " 'End of the Road',\n",
       " 'This Is the End',\n",
       " 'Dolittle']"
      ]
     },
     "execution_count": 157,
     "metadata": {},
     "output_type": "execute_result"
    }
   ],
   "source": [
    "titles0 = [i.text.strip() for i in html0.findAll('td', class_=\"pb-2 font-600 text-sm xs:text-base sm:text-lg leading-tight\")]\n",
    "\n",
    "\n",
    "number1title = html0.find('td', class_=\"pb-2 font-600 text-sm xs:text-base sm:text-lg leading-tight pt-2\") # for some reason the class of the number 1 title has a little more to it than the rest\n",
    "\n",
    "titles0.insert(0, number1title.text)\n",
    "titles0\n",
    "\n",
    "\n",
    "# previous attempts, for the record:\n",
    "#subtable0 = []\n",
    "\n",
    "# for i in table0:\n",
    "#     i.find('tr')\n",
    "#     subtable0.append(i)\n",
    "    \n",
    "# type(subtable0), len(subtable0), subtable0\n",
    "\n",
    "# titles = [i.find('tr').attrs['td class=\"pb-2 font-600 text-sm xs:text-base sm:text-lg leading-tight pt-2\"'] for i in table0]\n",
    "# titles"
   ]
  },
  {
   "cell_type": "code",
   "execution_count": 167,
   "metadata": {},
   "outputs": [],
   "source": [
    "hours_viewed0 = [i.text.strip() for i in html0.findAll('span', class_=\"inline-block\")]\n",
    "hours_viewed0 = hours_viewed0[1:10]\n",
    "# hours_viewed0"
   ]
  },
  {
   "cell_type": "code",
   "execution_count": 171,
   "metadata": {
    "scrolled": true
   },
   "outputs": [
    {
     "data": {
      "text/plain": [
       "[('Do Revenge', '42,550,000'),\n",
       " ('Lou', '40,570,000'),\n",
       " ('Father Stu', '13,770,000'),\n",
       " ('I Used to Be Famous', '11,630,000'),\n",
       " (\"A Jazzman's Blues\", '7,820,000'),\n",
       " ('Me Time', '6,230,000'),\n",
       " ('Minions & More Volume 1', '5,660,000'),\n",
       " ('End of the Road', '5,540,000'),\n",
       " ('This Is the End', '5,320,000')]"
      ]
     },
     "execution_count": 171,
     "metadata": {},
     "output_type": "execute_result"
    }
   ],
   "source": [
    "titles_hours0 = list((zip(titles0, hours_viewed0)))\n",
    "titles_hours0"
   ]
  },
  {
   "cell_type": "code",
   "execution_count": 183,
   "metadata": {},
   "outputs": [
    {
     "data": {
      "text/plain": [
       "True"
      ]
     },
     "execution_count": 183,
     "metadata": {},
     "output_type": "execute_result"
    }
   ],
   "source": [
    "nften1 = requests.get('https://top10.netflix.com/?week=2022-09-18') # week previous from last numbered get\n",
    "# I recognize that coding this by hand is ridiculous when it could do it in a loop, but I am still learning BeautifulSoup and don't want to break it (yet)\n",
    "html1 = bs(nften1.content, 'html.parser')\n",
    "# print(html1).prettify()\n",
    "titles1 = [i.text.strip() for i in html1.findAll('td', class_=\"pb-2 font-600 text-sm xs:text-base sm:text-lg leading-tight\")]\n",
    "\n",
    "\n",
    "number1title = html1.find('td', class_=\"pb-2 font-600 text-sm xs:text-base sm:text-lg leading-tight pt-2\") # for some reason the class of the number 1 title has a little more to it than the rest\n",
    "\n",
    "titles1.insert(0, number1title.text)\n",
    "titles1\n",
    "\n",
    "hours_viewed1 = [i.text.strip() for i in html1.findAll('span', class_=\"inline-block\")]\n",
    "hours_viewed1 = hours_viewed1[1:10]\n",
    "\n",
    "titles_hours1 = list((zip(titles1, hours_viewed1)))\n",
    "titles_hours1 == titles_hours0 # javascript doesn't work in beautifulsoup ... \n",
    "\n",
    "# abandoning this scraper idea in lieu of their use of javascript to update their table. there's probably a way beautifulsoup can handle this, but that's beyond my skill level. \n",
    "# it looks like full lists going back a year are available at the bottom of the netflix page as well, thankfully."
   ]
  }
 ],
 "metadata": {
  "kernelspec": {
   "display_name": "Python (learn-env)",
   "language": "python",
   "name": "learn-env"
  },
  "language_info": {
   "codemirror_mode": {
    "name": "ipython",
    "version": 3
   },
   "file_extension": ".py",
   "mimetype": "text/x-python",
   "name": "python",
   "nbconvert_exporter": "python",
   "pygments_lexer": "ipython3",
   "version": "3.8.5"
  }
 },
 "nbformat": 4,
 "nbformat_minor": 4
}
